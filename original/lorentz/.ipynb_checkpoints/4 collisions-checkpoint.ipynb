{
 "cells": [
  {
   "cell_type": "code",
   "execution_count": 1,
   "metadata": {},
   "outputs": [
    {
     "data": {
      "application/vnd.jupyter.widget-view+json": {
       "model_id": "8b224c5c54734fd2a3c24e844d989f58",
       "version_major": 2,
       "version_minor": 0
      },
      "text/html": [
       "<p>Failed to display Jupyter Widget of type <code>HBox</code>.</p>\n",
       "<p>\n",
       "  If you're reading this message in the Jupyter Notebook or JupyterLab Notebook, it may mean\n",
       "  that the widgets JavaScript is still loading. If this message persists, it\n",
       "  likely means that the widgets JavaScript library is either not installed or\n",
       "  not enabled. See the <a href=\"https://ipywidgets.readthedocs.io/en/stable/user_install.html\">Jupyter\n",
       "  Widgets Documentation</a> for setup instructions.\n",
       "</p>\n",
       "<p>\n",
       "  If you're reading this message in another frontend (for example, a static\n",
       "  rendering on GitHub or <a href=\"https://nbviewer.jupyter.org/\">NBViewer</a>),\n",
       "  it may mean that your frontend doesn't currently support widgets.\n",
       "</p>\n"
      ],
      "text/plain": [
       "HBox(children=(VBox(children=(BoundedIntText(value=1, continuous_update=True, layout=Layout(width='150px'), max=10, min=1), IntSlider(value=1, continuous_update=False, layout=Layout(width='150px'), max=10, min=1, readout=False), Play(value=1, interval=10, layout=Layout(width='150px'), max=10, min=1))), Output()))"
      ]
     },
     "metadata": {},
     "output_type": "display_data"
    }
   ],
   "source": [
    "%matplotlib inline\n",
    "seed = 10\n",
    "dim = 2\n",
    "%run -i billiard_defs.py\n",
    "R_particle = 0.5\n",
    "\n",
    "x_0 = 10\n",
    "y_0 = 10\n",
    "\n",
    "wall = [FlatWall(dim=dim, base_point=[-x_0, 0], normal=[1, 0], tangents=[0, y_0], collision_law='wrap', wrap_dim=0, wrap_wall=1)\n",
    "        ,FlatWall(dim=dim, base_point=[x_0, 0], normal=[-1, 0], tangents=[0, -y_0], collision_law='wrap', wrap_dim=0, wrap_wall=0)\n",
    "        ,FlatWall(dim=dim, base_point=[0, -y_0], normal=[0, 1], tangents=[-x_0, 0], collision_law='wrap', wrap_dim=1, wrap_wall=3)\n",
    "        ,FlatWall(dim=dim, base_point=[0, y_0], normal=[0, -1], tangents=[x_0, 0], collision_law='wrap', wrap_dim=1, wrap_wall=2)\n",
    "       ]\n",
    "for (i, w) in enumerate(wall):\n",
    "    w.idx = i\n",
    "\n",
    "x = [[-2.45, 0.242893]\n",
    "    ,[-0.542893, 0.25] \n",
    "    ,[3.49, 2.490384]\n",
    "    ]\n",
    "v = [[24.5, -9.5]\n",
    "    ,[12.5, -2.5]\n",
    "    ,[-15, -22.757785]\n",
    "    ]\n",
    "\n",
    "part = Particles(max_steps=10, cell_size=[x_0, y_0], dim=dim, num=3, mass=1, radius=R_particle)\n",
    "part.set_pos_init(x)\n",
    "part.set_vel_init(v)\n",
    "\n",
    "run_trial(wall, part)\n",
    "\n",
    "\n",
    "draw_hist(wall, part)"
   ]
  }
 ],
 "metadata": {
  "kernelspec": {
   "display_name": "Python 3",
   "language": "python",
   "name": "python3"
  },
  "language_info": {
   "codemirror_mode": {
    "name": "ipython",
    "version": 3
   },
   "file_extension": ".py",
   "mimetype": "text/x-python",
   "name": "python",
   "nbconvert_exporter": "python",
   "pygments_lexer": "ipython3",
   "version": "3.4.7"
  }
 },
 "nbformat": 4,
 "nbformat_minor": 2
}
