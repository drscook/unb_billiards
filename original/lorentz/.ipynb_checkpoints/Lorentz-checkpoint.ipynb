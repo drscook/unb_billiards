{
 "cells": [
  {
   "cell_type": "code",
   "execution_count": null,
   "metadata": {},
   "outputs": [],
   "source": [
    "%matplotlib inline\n",
    "seed = 10\n",
    "dim = 2\n",
    "%run -i billiard_defs.py\n",
    "\n",
    "R_particle = 1\n",
    "R_scatter = 10\n",
    "R = R_particle + R_scatter\n",
    "gap_crit = (2/np.sqrt(3) - 1) * R\n",
    "gap = 0.7 * gap_crit\n",
    "\n",
    "x_0 = R + gap\n",
    "y_0 = np.sqrt(3) * x_0\n",
    "\n",
    "wall = [FlatWall(dim=dim, base_point=[-x_0, 0], normal=[1, 0], tangents=[0, y_0], collision_law='wrap', wrap_dim=0, wrap_wall=1)\n",
    "        ,FlatWall(dim=dim, base_point=[x_0, 0], normal=[-1, 0], tangents=[0, -y_0], collision_law='wrap', wrap_dim=0, wrap_wall=0)\n",
    "        ,FlatWall(dim=dim, base_point=[0, -y_0], normal=[0, 1], tangents=[-x_0, 0], collision_law='wrap', wrap_dim=1, wrap_wall=3)\n",
    "        ,FlatWall(dim=dim, base_point=[0, y_0], normal=[0, -1], tangents=[x_0, 0], collision_law='wrap', wrap_dim=1, wrap_wall=2)\n",
    "        ,SphereWall(dim=dim, base_point=[0,0], radius=R_scatter, gap_pad=R_particle)\n",
    "        ,SphereWall(dim=dim, base_point=[-x_0, -y_0], radius=R_scatter, gap_pad=R_particle)\n",
    "        ,SphereWall(dim=dim, base_point=[x_0, -y_0], radius=R_scatter, gap_pad=R_particle)\n",
    "        ,SphereWall(dim=dim, base_point=[-x_0, y_0], radius=R_scatter, gap_pad=R_particle)\n",
    "        ,SphereWall(dim=dim, base_point=[x_0, y_0], radius=R_scatter, gap_pad=R_particle)\n",
    "       ]\n",
    "for (i, w) in enumerate(wall):\n",
    "    w.idx = i\n",
    "\n",
    "x = [[x_0/2, y_0/2], [-x_0/2, y_0/2], [-x_0/2, -y_0/2], [x_0/2, -y_0/2]]\n",
    "part = Particles(max_steps=100, cell_size=[x_0, y_0], dim=dim, num=4, mass=3, radius=R_particle)\n",
    "part.set_pos_init()#x)\n",
    "part.set_vel_init()#x)\n",
    "part.set_orient_init()\n",
    "part.set_spin_init()\n",
    "\n",
    "run_trial(wall, part)\n",
    "smoother(part, max_distort=None)\n",
    "draw_hist(wall, part)"
   ]
  },
  {
   "cell_type": "code",
   "execution_count": 18,
   "metadata": {},
   "outputs": [
    {
     "data": {
      "application/vnd.jupyter.widget-view+json": {
       "model_id": "708e44beb838486faf511fec42c9b715",
       "version_major": 2,
       "version_minor": 0
      },
      "text/plain": [
       "A Jupyter Widget"
      ]
     },
     "metadata": {},
     "output_type": "display_data"
    }
   ],
   "source": [
    "%matplotlib inline\n",
    "seed = 10\n",
    "dim = 2\n",
    "%run -i billiard_defs.py\n",
    "\n",
    "R_particle = 1\n",
    "R_scatter = 10\n",
    "R = R_particle + R_scatter\n",
    "gap_crit = (2/np.sqrt(3) - 1) * R\n",
    "gap = 0.7 * gap_crit\n",
    "\n",
    "x_0 = R + gap\n",
    "y_0 = np.sqrt(3) * x_0\n",
    "\n",
    "wall = [FlatWall(dim=dim, base_point=[-x_0, 0], normal=[1, 0], tangents=[0, y_0], collision_law='wrap', wrap_dim=0, wrap_wall=1)\n",
    "        ,FlatWall(dim=dim, base_point=[x_0, 0], normal=[-1, 0], tangents=[0, -y_0], collision_law='wrap', wrap_dim=0, wrap_wall=0)\n",
    "        ,FlatWall(dim=dim, base_point=[0, -y_0], normal=[0, 1], tangents=[-x_0, 0], collision_law='wrap', wrap_dim=1, wrap_wall=3)\n",
    "        ,FlatWall(dim=dim, base_point=[0, y_0], normal=[0, -1], tangents=[x_0, 0], collision_law='wrap', wrap_dim=1, wrap_wall=2)\n",
    "        ,SphereWall(dim=dim, base_point=[0,0], radius=R_scatter, gap_pad=R_particle)\n",
    "        ,SphereWall(dim=dim, base_point=[-x_0, -y_0], radius=R_scatter, gap_pad=R_particle)\n",
    "        ,SphereWall(dim=dim, base_point=[x_0, -y_0], radius=R_scatter, gap_pad=R_particle)\n",
    "        ,SphereWall(dim=dim, base_point=[-x_0, y_0], radius=R_scatter, gap_pad=R_particle)\n",
    "        ,SphereWall(dim=dim, base_point=[x_0, y_0], radius=R_scatter, gap_pad=R_particle)\n",
    "       ]\n",
    "for (i, w) in enumerate(wall):\n",
    "    w.idx = i\n",
    "\n",
    "#x = [[x_0/2, y_0/2], [-x_0/2, y_0/2], [-x_0/2, -y_0/2], [x_0/2, -y_0/2]]\n",
    "part = Particles(max_steps=100, cell_size=[x_0, y_0], dim=dim, num=1, mass=3, radius=R_particle)\n",
    "part.set_pos_init([[x_0,0]])#x)\n",
    "part.set_vel_init([[-1,0]])#x)\n",
    "part.set_orient_init()\n",
    "part.set_spin_init([5])\n",
    "\n",
    "run_trial(wall, part)\n",
    "smoother(part, max_distort=20)\n",
    "draw_hist(wall, part)"
   ]
  }
 ],
 "metadata": {
  "kernelspec": {
   "display_name": "Python 3",
   "language": "python",
   "name": "python3"
  },
  "language_info": {
   "codemirror_mode": {
    "name": "ipython",
    "version": 3
   },
   "file_extension": ".py",
   "mimetype": "text/x-python",
   "name": "python",
   "nbconvert_exporter": "python",
   "pygments_lexer": "ipython3",
   "version": "3.6.3"
  }
 },
 "nbformat": 4,
 "nbformat_minor": 2
}
