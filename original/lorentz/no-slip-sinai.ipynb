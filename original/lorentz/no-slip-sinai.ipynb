{
 "cells": [
  {
   "cell_type": "code",
   "execution_count": 27,
   "metadata": {},
   "outputs": [
    {
     "name": "stdout",
     "output_type": "stream",
     "text": [
      "[100 101 102]\n",
      "[[   0. -102.  101.]\n",
      " [ 102.    0. -100.]\n",
      " [-101.  100.    0.]]\n",
      "[[   0. -102.  101.]\n",
      " [ 102.    0. -100.]\n",
      " [-101.  100.    0.]]\n",
      "[ 100.  101.  102.]\n"
     ]
    }
   ],
   "source": [
    "\n",
    "def v_to_m_old(v):\n",
    "    l = len(v)\n",
    "    # l = d(d-1) -> d**2 - d - 2l = 0\n",
    "    d = (1 + np.sqrt(1 + 8*l)) / 2\n",
    "    if d % 1 == 0:\n",
    "        d = int(d)\n",
    "    else:\n",
    "        raise Exception('vector {} of length {} converts to dim = {:.2f}.  Not integer.'.format(v,l,d))\n",
    "    M = np.zeros([d,d])\n",
    "    idx = np.triu_indices_from(M,1)\n",
    "    w = [x*(-1)**(i+1) for (i,x) in enumerate(v)]\n",
    "    w = w[::-1]\n",
    "    M[idx] = w\n",
    "    M = make_symmetric(M, skew=True)\n",
    "    return M.astype(float)\n",
    "\n",
    "def make_symmetric(A, skew=False):\n",
    "    \"\"\"\n",
    "    Returns symmetric or skew-symmatric matrix by copying upper triangular onto lower.\n",
    "    \"\"\"\n",
    "    A = np.asarray(A)\n",
    "    U = np.triu(A,1)\n",
    "    if skew == True:\n",
    "        return U - U.T\n",
    "    else:\n",
    "        return np.triu(A,0) + U.T\n",
    "\n",
    "def matrix_from_vector(v):\n",
    "    l = len(v)\n",
    "    # l = d(d-1) -> d**2 - d - 2l = 0\n",
    "    d = (1 + np.sqrt(1 + 8*l)) / 2\n",
    "    if d % 1 != 0:\n",
    "        raise Exception('vector {} of length {} converts to dim = {:.2f}.  Not integer.'.format(v,l,d))\n",
    "    d = int(d)\n",
    "    M = np.zeros([d,d])\n",
    "    idx = np.triu_indices_from(M,1)\n",
    "    s = (-1)**(np.arange(len(v))+1)\n",
    "    w = v * s\n",
    "    w = w[::-1]\n",
    "\n",
    "    M[idx] = w\n",
    "    M = make_symmetric(M, skew=True)\n",
    "    return M\n",
    "\n",
    "def vector_from_matrix(M):\n",
    "    idx = np.triu_indices_from(M,1)\n",
    "    w = M[idx]\n",
    "    s = (-1)**(np.arange(len(w))+1)\n",
    "    \n",
    "    w = w[::-1]    \n",
    "    v = w * s\n",
    "    return v\n",
    "\n",
    "\n",
    "d = 3\n",
    "n = int(d*(d-1)/2)\n",
    "M = np.zeros([n,n])\n",
    "\n",
    "v = np.arange(n)+100\n",
    "print(v)\n",
    "print(v_to_m_old(v))\n",
    "M = matrix_from_vector(v)\n",
    "print(M)\n",
    "print(vector_from_matrix(M))"
   ]
  },
  {
   "cell_type": "code",
   "execution_count": 21,
   "metadata": {},
   "outputs": [
    {
     "data": {
      "text/plain": [
       "array([[ 1.,  0.,  0.,  0.,  0.],\n",
       "       [ 0.,  1.,  0.,  0.,  0.],\n",
       "       [ 0.,  0.,  1.,  0.,  0.],\n",
       "       [ 0.,  0.,  0.,  1.,  0.],\n",
       "       [ 0.,  0.,  0.,  0.,  1.]])"
      ]
     },
     "execution_count": 21,
     "metadata": {},
     "output_type": "execute_result"
    }
   ],
   "source": [
    "np.eye(5,5)"
   ]
  },
  {
   "cell_type": "code",
   "execution_count": 15,
   "metadata": {},
   "outputs": [
    {
     "data": {
      "text/plain": [
       "array([[[  3.5562782 ,  11.33420682],\n",
       "        [-23.74460879, -31.25004011],\n",
       "        [ -6.6754483 ,  11.23108139],\n",
       "        [-11.41484001,   0.97918661]],\n",
       "\n",
       "       [[  3.5562782 ,  11.33420682],\n",
       "        [ -0.6377795 , -10.98149522],\n",
       "        [ -6.6754483 ,  11.23108139],\n",
       "        [-11.41484001,   0.97918661]]])"
      ]
     },
     "execution_count": 15,
     "metadata": {},
     "output_type": "execute_result"
    }
   ],
   "source": [
    "part.re_pos#-part.pos_hist[1]\n",
    "# part.cell_size"
   ]
  },
  {
   "cell_type": "code",
   "execution_count": 4,
   "metadata": {},
   "outputs": [
    {
     "data": {
      "application/vnd.jupyter.widget-view+json": {
       "model_id": "7743d9ab0a614e2c90244ea73b0cfe42",
       "version_major": 2,
       "version_minor": 0
      },
      "text/plain": [
       "A Jupyter Widget"
      ]
     },
     "metadata": {},
     "output_type": "display_data"
    }
   ],
   "source": [
    "smoother(part, max_distort=20)\n",
    "draw_hist(wall, part)"
   ]
  },
  {
   "cell_type": "code",
   "execution_count": 10,
   "metadata": {},
   "outputs": [
    {
     "name": "stdout",
     "output_type": "stream",
     "text": [
      "[[ 0. -5.]\n",
      " [ 5.  0.]]\n"
     ]
    },
    {
     "data": {
      "text/plain": [
       "array([[ 0.28366219, -0.95892427],\n",
       "       [ 0.95892427,  0.28366219]])"
      ]
     },
     "execution_count": 10,
     "metadata": {},
     "output_type": "execute_result"
    }
   ],
   "source": [
    "A = part.re_spin[0,0]\n",
    "print(A)\n",
    "scipy.linalg.expm(part.re_spin[0,0]*-1).dot(np.eye(2))"
   ]
  },
  {
   "cell_type": "code",
   "execution_count": 6,
   "metadata": {},
   "outputs": [
    {
     "data": {
      "text/plain": [
       "array([[[ 0., -5.],\n",
       "        [ 5.,  0.]]])"
      ]
     },
     "execution_count": 6,
     "metadata": {},
     "output_type": "execute_result"
    }
   ],
   "source": [
    "part.spin_hist[-1]\n",
    "# part.orient_hist[-1]"
   ]
  },
  {
   "cell_type": "code",
   "execution_count": 2,
   "metadata": {},
   "outputs": [
    {
     "name": "stdout",
     "output_type": "stream",
     "text": [
      "[[   0.    0.    0.]\n",
      " [ 102.    0.    0.]\n",
      " [-101.  100.    0.]]\n",
      "[[   0. -102.  101.]\n",
      " [ 102.    0. -100.]\n",
      " [-101.  100.    0.]]\n"
     ]
    },
    {
     "data": {
      "text/plain": [
       "array([[   0., -102.,  101.],\n",
       "       [ 102.,    0., -100.],\n",
       "       [-101.,  100.,    0.]])"
      ]
     },
     "execution_count": 2,
     "metadata": {},
     "output_type": "execute_result"
    }
   ],
   "source": [
    "d = 3\n",
    "n = int(d*(d-1)/2)\n",
    "M = np.zeros([n,n])\n",
    "\n",
    "v = np.arange(n)+100\n",
    "idx = np.tril_indices_from(M,-1)\n",
    "s = (-1)**np.arange(len(v))\n",
    "w = v * s\n",
    "w = w[::-1]\n",
    "\n",
    "M[idx] = w\n",
    "print(M)\n",
    "N = make_symmetric(M,skew=True)*2\n",
    "print(N)\n",
    "\n",
    "matrix_from_vector(v)"
   ]
  },
  {
   "cell_type": "code",
   "execution_count": 18,
   "metadata": {},
   "outputs": [
    {
     "data": {
      "application/vnd.jupyter.widget-view+json": {
       "model_id": "3ddc86106a7b497cbeff5b17239cf682",
       "version_major": 2,
       "version_minor": 0
      },
      "text/plain": [
       "A Jupyter Widget"
      ]
     },
     "metadata": {},
     "output_type": "display_data"
    }
   ],
   "source": [
    "%matplotlib inline\n",
    "seed = 10\n",
    "dim = 2\n",
    "%run -i billiard_defs.py\n",
    "\n",
    "R_particle = 1\n",
    "R_scatter = 10\n",
    "R = R_particle + R_scatter\n",
    "gap_crit = (2/np.sqrt(3) - 1) * R\n",
    "gap = 0.7 * gap_crit\n",
    "\n",
    "x_0 = R + gap\n",
    "y_0 = np.sqrt(3) * x_0\n",
    "\n",
    "wall = [FlatWall(dim=dim, base_point=[-x_0, 0], normal=[1, 0], tangents=[0, y_0])#, collision_law='no_slip')\n",
    "        ,FlatWall(dim=dim, base_point=[x_0, 0], normal=[-1, 0], tangents=[0, -y_0])#, collision_law='no_slip')\n",
    "        ,FlatWall(dim=dim, base_point=[0, -y_0], normal=[0, 1], tangents=[-x_0, 0])#, collision_law='no_slip')\n",
    "        ,FlatWall(dim=dim, base_point=[0, y_0], normal=[0, -1], tangents=[x_0, 0])#, collision_law='no_slip')\n",
    "        ,SphereWall(dim=dim, base_point=[0,0], radius=R_scatter, gap_pad=R_particle, collision_law='no_slip')\n",
    "        ,SphereWall(dim=dim, base_point=[-x_0, -y_0], radius=R_scatter, gap_pad=R_particle)#, collision_law='no_slip')\n",
    "        ,SphereWall(dim=dim, base_point=[x_0, -y_0], radius=R_scatter, gap_pad=R_particle)#, collision_law='no_slip')\n",
    "        ,SphereWall(dim=dim, base_point=[-x_0, y_0], radius=R_scatter, gap_pad=R_particle)#, collision_law='no_slip')\n",
    "        ,SphereWall(dim=dim, base_point=[x_0, y_0], radius=R_scatter, gap_pad=R_particle)#, collision_law='no_slip')\n",
    "       ]\n",
    "for (i, w) in enumerate(wall):\n",
    "    w.idx = i\n",
    "\n",
    "#x = [[x_0/2, y_0/2], [-x_0/2, y_0/2], [-x_0/2, -y_0/2], [x_0/2, -y_0/2]]\n",
    "part = Particles(max_steps=100, cell_size=[x_0, y_0], dim=dim, num=1, mass=3, radius=R_particle)\n",
    "part.set_pos_init([[x_0,0]])#x)\n",
    "part.set_vel_init([[-1,0]])#x)\n",
    "part.set_orient_init()\n",
    "part.set_spin_init([5])\n",
    "\n",
    "run_trial(wall, part)\n",
    "smoother(part, max_distort=20)\n",
    "draw_hist(wall, part)"
   ]
  }
 ],
 "metadata": {
  "kernelspec": {
   "display_name": "Python 3",
   "language": "python",
   "name": "python3"
  },
  "language_info": {
   "codemirror_mode": {
    "name": "ipython",
    "version": 3
   },
   "file_extension": ".py",
   "mimetype": "text/x-python",
   "name": "python",
   "nbconvert_exporter": "python",
   "pygments_lexer": "ipython3",
   "version": "3.6.3"
  }
 },
 "nbformat": 4,
 "nbformat_minor": 2
}
