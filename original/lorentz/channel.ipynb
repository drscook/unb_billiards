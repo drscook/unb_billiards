{
 "cells": [
  {
   "cell_type": "code",
   "execution_count": 2,
   "metadata": {},
   "outputs": [
    {
     "name": "stdout",
     "output_type": "stream",
     "text": [
      "Complex event - re-randomizing position of particles involved\n",
      "Complex event - re-randomizing position of particles involved\n"
     ]
    },
    {
     "data": {
      "application/vnd.jupyter.widget-view+json": {
       "model_id": "bf3526f7220d46e6b4204beda2e5c1d6",
       "version_major": 2,
       "version_minor": 0
      },
      "text/html": [
       "<p>Failed to display Jupyter Widget of type <code>HBox</code>.</p>\n",
       "<p>\n",
       "  If you're reading this message in the Jupyter Notebook or JupyterLab Notebook, it may mean\n",
       "  that the widgets JavaScript is still loading. If this message persists, it\n",
       "  likely means that the widgets JavaScript library is either not installed or\n",
       "  not enabled. See the <a href=\"https://ipywidgets.readthedocs.io/en/stable/user_install.html\">Jupyter\n",
       "  Widgets Documentation</a> for setup instructions.\n",
       "</p>\n",
       "<p>\n",
       "  If you're reading this message in another frontend (for example, a static\n",
       "  rendering on GitHub or <a href=\"https://nbviewer.jupyter.org/\">NBViewer</a>),\n",
       "  it may mean that your frontend doesn't currently support widgets.\n",
       "</p>\n"
      ],
      "text/plain": [
       "HBox(children=(VBox(children=(BoundedIntText(value=1, continuous_update=True, layout=Layout(width='150px'), min=1), IntSlider(value=1, layout=Layout(width='150px'), min=1, readout=False), Play(value=1, interval=1800, layout=Layout(width='150px'), min=1))), Output()))"
      ]
     },
     "metadata": {},
     "output_type": "display_data"
    }
   ],
   "source": [
    "%matplotlib inline\n",
    "seed = 42\n",
    "dim = 2\n",
    "%run -i billiard_defs.py\n",
    "\n",
    "R_particle = 1\n",
    "\n",
    "x_0 = 25*R_particle\n",
    "y_0 = 10*R_particle\n",
    "\n",
    "wall = [FlatWall(dim=dim, base_point=[-x_0, 0], normal=[1, 0], tangents=[0, y_0], collision_law='no_slip',gap_pad=R_particle)\n",
    "        ,FlatWall(dim=dim, base_point=[x_0, 0], normal=[-1, 0], tangents=[0, -y_0], collision_law='no_slip',gap_pad=R_particle)\n",
    "        ,FlatWall(dim=dim, base_point=[0, -y_0], normal=[0, 1], tangents=[-x_0, 0], collision_law='no_slip',gap_pad=R_particle)\n",
    "        ,FlatWall(dim=dim, base_point=[0, y_0], normal=[0, -1], tangents=[x_0, 0], collision_law='no_slip',gap_pad=R_particle)\n",
    "#         ,SphereWall(dim=dim, base_point=[0,0], radius=R_scatter, gap_pad=R_particle, collision_law='no_slip')\n",
    "#         ,SphereWall(dim=dim, base_point=[-x_0, -y_0], radius=R_scatter, gap_pad=R_particle, collision_law='no_slip')\n",
    "#         ,SphereWall(dim=dim, base_point=[x_0, -y_0], radius=R_scatter, gap_pad=R_particle, collision_law='no_slip')\n",
    "#         ,SphereWall(dim=dim, base_point=[-x_0, y_0], radius=R_scatter, gap_pad=R_particle, collision_law='no_slip')\n",
    "#         ,SphereWall(dim=dim, base_point=[x_0, y_0], radius=R_scatter, gap_pad=R_particle, collision_law='no_slip')\n",
    "       ]\n",
    "for (i, w) in enumerate(wall):\n",
    "    w.idx = i\n",
    "\n",
    "#x = [[x_0/2, y_0/2], [-x_0/2, y_0/2], [-x_0/2, -y_0/2], [x_0/2, -y_0/2]]\n",
    "part = Particles(max_steps=100, cell_size=[x_0, y_0], dim=dim, num=10, mass=3, radius=R_particle)\n",
    "part.set_pos_init()#[[0,0]])#x)\n",
    "part.set_vel_init()#[[0,1]])#x)\n",
    "part.set_orient_init()\n",
    "part.set_spin_init()#[-.5])\n",
    "\n",
    "run_trial(wall, part)\n",
    "# smoother(part, max_distort=10, min_frames=10)\n",
    "smoother(part)#, max_distort=10, min_frames=10)\n",
    "draw_hist(wall, part, duration=180)"
   ]
  }
 ],
 "metadata": {
  "kernelspec": {
   "display_name": "Python 3",
   "language": "python",
   "name": "python3"
  },
  "language_info": {
   "codemirror_mode": {
    "name": "ipython",
    "version": 3
   },
   "file_extension": ".py",
   "mimetype": "text/x-python",
   "name": "python",
   "nbconvert_exporter": "python",
   "pygments_lexer": "ipython3",
   "version": "3.4.7"
  }
 },
 "nbformat": 4,
 "nbformat_minor": 2
}
