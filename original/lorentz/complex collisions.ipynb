{
 "cells": [
  {
   "cell_type": "code",
   "execution_count": 15,
   "metadata": {},
   "outputs": [
    {
     "name": "stdout",
     "output_type": "stream",
     "text": [
      "Complex event - re-randomizing position of particles involved\n"
     ]
    },
    {
     "data": {
      "application/vnd.jupyter.widget-view+json": {
       "model_id": "3f055f5181244f68b88e3f7baae6858d",
       "version_major": 2,
       "version_minor": 0
      },
      "text/html": [
       "<p>Failed to display Jupyter Widget of type <code>HBox</code>.</p>\n",
       "<p>\n",
       "  If you're reading this message in the Jupyter Notebook or JupyterLab Notebook, it may mean\n",
       "  that the widgets JavaScript is still loading. If this message persists, it\n",
       "  likely means that the widgets JavaScript library is either not installed or\n",
       "  not enabled. See the <a href=\"https://ipywidgets.readthedocs.io/en/stable/user_install.html\">Jupyter\n",
       "  Widgets Documentation</a> for setup instructions.\n",
       "</p>\n",
       "<p>\n",
       "  If you're reading this message in another frontend (for example, a static\n",
       "  rendering on GitHub or <a href=\"https://nbviewer.jupyter.org/\">NBViewer</a>),\n",
       "  it may mean that your frontend doesn't currently support widgets.\n",
       "</p>\n"
      ],
      "text/plain": [
       "HBox(children=(VBox(children=(BoundedIntText(value=1, continuous_update=True, layout=Layout(width='150px'), max=51, min=1), IntSlider(value=1, continuous_update=False, layout=Layout(width='150px'), max=51, min=1, readout=False), Play(value=1, interval=10, layout=Layout(width='150px'), max=51, min=1))), Output()))"
      ]
     },
     "metadata": {},
     "output_type": "display_data"
    }
   ],
   "source": [
    "%matplotlib inline\n",
    "seed = 10\n",
    "dim = 2\n",
    "%run -i billiard_defs.py\n",
    "R_particle = 1/np.sqrt(2)\n",
    "\n",
    "x_0 = 20\n",
    "y_0 = 20\n",
    "\n",
    "wall = [FlatWall(dim=dim, base_point=[-x_0, 0], normal=[1, 0], tangents=[0, y_0], gap_pad=R_particle)\n",
    "        ,FlatWall(dim=dim, base_point=[x_0, 0], normal=[-1, 0], tangents=[0, -y_0], gap_pad=R_particle)\n",
    "        ,FlatWall(dim=dim, base_point=[0, -y_0], normal=[0, 1], tangents=[-x_0, 0], gap_pad=R_particle)\n",
    "        ,FlatWall(dim=dim, base_point=[0, y_0], normal=[0, -1], tangents=[x_0, 0], gap_pad=R_particle)\n",
    "       ]\n",
    "for (i, w) in enumerate(wall):\n",
    "    w.idx = i\n",
    "\n",
    "x = [[-6, 0]\n",
    "    ,[6, 0]\n",
    "    ,[0, -6]\n",
    "    ,[0, 6]\n",
    "    ,[15 - R_particle, 15 - R_particle]\n",
    "    ,[-15 + R_particle, -15 + R_particle] \n",
    "    ]\n",
    "v = [[1 , 0]\n",
    "    ,[-1, 0]\n",
    "    ,[0, 1]\n",
    "    ,[0, -1] \n",
    "    ,[1, 1] \n",
    "    ,[-1, -1] \n",
    "    ]\n",
    "\n",
    "part = Particles(max_steps=50, cell_size=[x_0, y_0], dim=dim, num=6, mass=1, radius=R_particle)\n",
    "part.set_pos_init(x)\n",
    "part.set_vel_init(v)\n",
    "\n",
    "run_trial(wall, part)\n",
    "\n",
    "\n",
    "draw_hist(wall, part)"
   ]
  }
 ],
 "metadata": {
  "kernelspec": {
   "display_name": "Python 3",
   "language": "python",
   "name": "python3"
  },
  "language_info": {
   "codemirror_mode": {
    "name": "ipython",
    "version": 3
   },
   "file_extension": ".py",
   "mimetype": "text/x-python",
   "name": "python",
   "nbconvert_exporter": "python",
   "pygments_lexer": "ipython3",
   "version": "3.4.7"
  }
 },
 "nbformat": 4,
 "nbformat_minor": 2
}
