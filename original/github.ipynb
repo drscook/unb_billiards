{
 "cells": [
  {
   "cell_type": "code",
   "execution_count": 24,
   "metadata": {},
   "outputs": [],
   "source": [
    "! git config user.name $gitusername\n",
    "! git config user.email $gituseremail"
   ]
  },
  {
   "cell_type": "code",
   "execution_count": 22,
   "metadata": {},
   "outputs": [
    {
     "name": "stdout",
     "output_type": "stream",
     "text": [
      "/home/scook/unb_billiards\n",
      "error: insufficient permission for adding an object to repository database .git/objects\n",
      "fatal: could not open '.git/COMMIT_EDITMSG': Permission denied\n"
     ]
    }
   ],
   "source": [
    "# commit changes\n",
    "commit_msg = 'edit lorentz'\n",
    "\n",
    "gitusername = 'drscook'\n",
    "gituseremail = 'scook@tarleton.edu'\n",
    "dir = '/home/scook/unb_billiards'\n",
    "githuburl = 'https://github.com/drscook/unb_billiards.git'\n",
    "\n",
    "%cd $dir\n",
    "! git config user.name $gitusername\n",
    "! git config user.email $gituseremail\n",
    "! git add --all\n",
    "! git commit * -m $commit_msg"
   ]
  },
  {
   "cell_type": "code",
   "execution_count": 18,
   "metadata": {},
   "outputs": [
    {
     "name": "stdout",
     "output_type": "stream",
     "text": [
      "/home/scook\n",
      "\u001b[0m\u001b[01;34mLorentz Gas\u001b[0m/  \u001b[01;34munb_billiards\u001b[0m/  \u001b[01;34munb_billiards2\u001b[0m/\r\n"
     ]
    }
   ],
   "source": [
    "localusername = 'user1'\n",
    "dir = '/home/'+localusername\n",
    "%cd $dir\n",
    "githuburl = ' '\n",
    "git clone $githuburl"
   ]
  }
 ],
 "metadata": {
  "kernelspec": {
   "display_name": "Python 3",
   "language": "python",
   "name": "python3"
  },
  "language_info": {
   "codemirror_mode": {
    "name": "ipython",
    "version": 3
   },
   "file_extension": ".py",
   "mimetype": "text/x-python",
   "name": "python",
   "nbconvert_exporter": "python",
   "pygments_lexer": "ipython3",
   "version": "3.4.7"
  }
 },
 "nbformat": 4,
 "nbformat_minor": 2
}
