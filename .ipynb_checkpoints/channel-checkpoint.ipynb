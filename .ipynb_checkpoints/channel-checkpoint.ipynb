{
 "cells": [
  {
   "cell_type": "code",
   "execution_count": 56,
   "metadata": {},
   "outputs": [
    {
     "name": "stdout",
     "output_type": "stream",
     "text": [
      "(22, 3)\n",
      "(22, 3, 1)\n",
      "[[1.6875     2.25       2.25      ]\n",
      " [1.6875     2.25       2.25      ]\n",
      " [1.6875     2.25       2.25      ]\n",
      " [1.6875     2.25       2.25      ]\n",
      " [1.6875     2.25       2.25      ]\n",
      " [1.6875     2.25       2.25      ]\n",
      " [2.99064595 0.94685405 2.25      ]\n",
      " [2.99064595 0.94685405 2.25      ]\n",
      " [2.99064595 0.94685405 2.25      ]\n",
      " [2.99064595 0.94685405 2.25      ]\n",
      " [2.99064595 0.94685405 2.25      ]\n",
      " [2.47627566 1.46122434 2.25      ]\n",
      " [2.47627566 1.46122434 2.25      ]\n",
      " [2.47627566 1.46122434 2.25      ]\n",
      " [2.47627566 1.46122434 2.25      ]\n",
      " [2.47627566 1.46122434 2.25      ]\n",
      " [2.47627566 1.46122434 2.25      ]\n",
      " [2.47627566 1.46122434 2.25      ]\n",
      " [2.47627566 1.46122434 2.25      ]\n",
      " [2.47627566 1.46122434 2.25      ]\n",
      " [2.47627566 1.46122434 2.25      ]\n",
      " [2.47627566 1.46122434 2.25      ]]\n"
     ]
    }
   ],
   "source": [
    "lin_KE = 1/2 * part.mass * (part.vel_hist**2).sum(axis=-1)\n",
    "ang_vel = np.asarray([[vector_from_matrix(M) for M in particles] for particles in part.spin_hist])\n",
    "# ang_vel = np.asarray([[M.flatten() for M in particles] for particles in part.spin_hist])\n",
    "ang_KE = 1/2 * part.mom_inert * (ang_vel**2).sum(axis=-1)\n",
    "KE = lin_KE + ang_KE\n",
    "# print(lin_KE.shape)\n",
    "# print((part.vel_hist**2))#.sum(axis=-1))\n",
    "# print(ang_vel.squeeze())\n",
    "print(lin_KE.shape)\n",
    "print(ang_vel.shape)\n",
    "print(KE)"
   ]
  },
  {
   "cell_type": "code",
   "execution_count": 51,
   "metadata": {},
   "outputs": [
    {
     "name": "stdout",
     "output_type": "stream",
     "text": [
      "Complex event - re-randomizing position of particles involved\n"
     ]
    },
    {
     "data": {
      "application/vnd.jupyter.widget-view+json": {
       "model_id": "0581b013154c407a897ea6c9c934ca10",
       "version_major": 2,
       "version_minor": 0
      },
      "text/html": [
       "<p>Failed to display Jupyter Widget of type <code>HBox</code>.</p>\n",
       "<p>\n",
       "  If you're reading this message in the Jupyter Notebook or JupyterLab Notebook, it may mean\n",
       "  that the widgets JavaScript is still loading. If this message persists, it\n",
       "  likely means that the widgets JavaScript library is either not installed or\n",
       "  not enabled. See the <a href=\"https://ipywidgets.readthedocs.io/en/stable/user_install.html\">Jupyter\n",
       "  Widgets Documentation</a> for setup instructions.\n",
       "</p>\n",
       "<p>\n",
       "  If you're reading this message in another frontend (for example, a static\n",
       "  rendering on GitHub or <a href=\"https://nbviewer.jupyter.org/\">NBViewer</a>),\n",
       "  it may mean that your frontend doesn't currently support widgets.\n",
       "</p>\n"
      ],
      "text/plain": [
       "HBox(children=(VBox(children=(BoundedIntText(value=1, continuous_update=True, layout=Layout(width='150px'), max=21, min=1), IntSlider(value=1, layout=Layout(width='150px'), max=21, min=1, readout=False), Play(value=1, interval=8571, layout=Layout(width='150px'), max=21, min=1))), Output()))"
      ]
     },
     "metadata": {},
     "output_type": "display_data"
    }
   ],
   "source": [
    "%matplotlib inline\n",
    "seed = 10\n",
    "dim = 2\n",
    "%run -i billiard_defs.py\n",
    "\n",
    "R_particle = 1\n",
    "\n",
    "x_0 = 25*R_particle\n",
    "y_0 = 10*R_particle\n",
    "\n",
    "wall = [FlatWall(dim=dim, base_point=[-x_0, 0], normal=[1, 0], tangents=[0, y_0], collision_law='no_slip',gap_pad=R_particle)\n",
    "        ,FlatWall(dim=dim, base_point=[x_0, 0], normal=[-1, 0], tangents=[0, -y_0], collision_law='no_slip',gap_pad=R_particle)\n",
    "        ,FlatWall(dim=dim, base_point=[0, -y_0], normal=[0, 1], tangents=[-x_0, 0], collision_law='no_slip',gap_pad=R_particle)\n",
    "        ,FlatWall(dim=dim, base_point=[0, y_0], normal=[0, -1], tangents=[x_0, 0], collision_law='no_slip',gap_pad=R_particle)\n",
    "#         ,SphereWall(dim=dim, base_point=[0,0], radius=R_scatter, gap_pad=R_particle, collision_law='no_slip')\n",
    "#         ,SphereWall(dim=dim, base_point=[-x_0, -y_0], radius=R_scatter, gap_pad=R_particle, collision_law='no_slip')\n",
    "#         ,SphereWall(dim=dim, w = [[vector_from_matrix(M) for M in particles] for particles in part.spin_hist]base_point=[x_0, -y_0], radius=R_scatter, gap_pad=R_particle, collision_law='no_slip')\n",
    "#         ,SphereWall(dim=dim, base_point=[-x_0, y_0], radius=R_scatter, gap_pad=R_particle, collision_law='no_slip')\n",
    "#         ,SphereWall(dim=dim, base_point=[x_0, y_0], radius=R_scatter, gap_pad=R_particle, collision_law='no_slip')\n",
    "       ]\n",
    "for (i, w) in enumerate(wall):\n",
    "    w.idx = i\n",
    "\n",
    "#x = [[x_0/2, y_0/2], [-x_/2, y_0/2], [-x_0/2, -y_0/2], [x_0/2, -y_0/2]]\n",
    "part = Particles(max_steps=20, cell_size=[x_0, y_0], dim=dim, num=3, mass=3, radius=R_particle)\n",
    "part.set_pos_init([[0,0],[3,0],[-3,0]])#x)\n",
    "part.set_vel_init([[0,1],[-1,0],[1,0]])#x)\n",
    "part.set_orient_init()\n",
    "part.set_spin_init([.5])\n",
    "\n",
    "run_trial(wall, part)\n",
    "# smoother(part, max_distort=10, min_frames=10)\n",
    "smoother(part, max_distort=None)\n",
    "draw_hist(wall, part, duration=180)"
   ]
  },
  {
   "cell_type": "code",
   "execution_count": 51,
   "metadata": {},
   "outputs": [
    {
     "name": "stdout",
     "output_type": "stream",
     "text": [
      "(21,)\n"
     ]
    },
    {
     "ename": "TypeError",
     "evalue": "unsupported operand type(s) for ** or pow(): 'list' and 'int'",
     "output_type": "error",
     "traceback": [
      "\u001b[0;31m---------------------------------------------------------------------------\u001b[0m",
      "\u001b[0;31mTypeError\u001b[0m                                 Traceback (most recent call last)",
      "\u001b[0;32m~/unb_billiards/billiard_defs.py\u001b[0m in \u001b[0;36m<module>\u001b[0;34m()\u001b[0m\n\u001b[1;32m      5\u001b[0m \u001b[0mLinKE\u001b[0m \u001b[0;34m=\u001b[0m \u001b[0;34m(\u001b[0m\u001b[0mpart\u001b[0m\u001b[0;34m.\u001b[0m\u001b[0mmass\u001b[0m \u001b[0;34m*\u001b[0m \u001b[0mpart\u001b[0m\u001b[0;34m.\u001b[0m\u001b[0mvel_hist\u001b[0m\u001b[0;34m**\u001b[0m\u001b[0;36m2\u001b[0m\u001b[0;34m)\u001b[0m\u001b[0;34m.\u001b[0m\u001b[0msum\u001b[0m\u001b[0;34m(\u001b[0m\u001b[0maxis\u001b[0m\u001b[0;34m=\u001b[0m\u001b[0;34m-\u001b[0m\u001b[0;36m1\u001b[0m\u001b[0;34m)\u001b[0m\u001b[0;34m.\u001b[0m\u001b[0mflatten\u001b[0m\u001b[0;34m(\u001b[0m\u001b[0;34m)\u001b[0m\u001b[0;34m\u001b[0m\u001b[0m\n\u001b[1;32m      6\u001b[0m \u001b[0mprint\u001b[0m\u001b[0;34m(\u001b[0m\u001b[0mLinKE\u001b[0m\u001b[0;34m.\u001b[0m\u001b[0mshape\u001b[0m\u001b[0;34m)\u001b[0m\u001b[0;34m\u001b[0m\u001b[0m\n\u001b[0;32m----> 7\u001b[0;31m \u001b[0mAngKE\u001b[0m \u001b[0;34m=\u001b[0m \u001b[0;34m(\u001b[0m\u001b[0mpart\u001b[0m\u001b[0;34m.\u001b[0m\u001b[0mmom_inert\u001b[0m \u001b[0;34m*\u001b[0m \u001b[0mw\u001b[0m\u001b[0;34m**\u001b[0m\u001b[0;36m2\u001b[0m\u001b[0;34m)\u001b[0m\u001b[0;34m.\u001b[0m\u001b[0msum\u001b[0m\u001b[0;34m(\u001b[0m\u001b[0maxis\u001b[0m\u001b[0;34m=\u001b[0m\u001b[0;34m-\u001b[0m\u001b[0;36m1\u001b[0m\u001b[0;34m)\u001b[0m\u001b[0;34m.\u001b[0m\u001b[0msum\u001b[0m\u001b[0;34m(\u001b[0m\u001b[0maxis\u001b[0m\u001b[0;34m=\u001b[0m\u001b[0;34m-\u001b[0m\u001b[0;36m1\u001b[0m\u001b[0;34m)\u001b[0m\u001b[0;34m\u001b[0m\u001b[0m\n\u001b[0m\u001b[1;32m      8\u001b[0m \u001b[0mprint\u001b[0m\u001b[0;34m(\u001b[0m\u001b[0mAngKE\u001b[0m\u001b[0;34m.\u001b[0m\u001b[0mshape\u001b[0m\u001b[0;34m)\u001b[0m\u001b[0;34m\u001b[0m\u001b[0m\n\u001b[1;32m      9\u001b[0m \u001b[0mKE\u001b[0m \u001b[0;34m=\u001b[0m \u001b[0;34m(\u001b[0m\u001b[0mLinKE\u001b[0m \u001b[0;34m+\u001b[0m \u001b[0mAngKE\u001b[0m\u001b[0;34m)\u001b[0m\u001b[0;34m.\u001b[0m\u001b[0mflatten\u001b[0m\u001b[0;34m(\u001b[0m\u001b[0;34m)\u001b[0m\u001b[0;34m\u001b[0m\u001b[0m\n",
      "\u001b[0;31mTypeError\u001b[0m: unsupported operand type(s) for ** or pow(): 'list' and 'int'"
     ]
    }
   ],
   "source": [
    "# w = [[vector_from_matrix(A) for A in part.spin_hist[:,:]]]\n",
    "# w = np.array([[vector_from_matrix(A) for A in S] for S in part.spin_hist])\n",
    "w = [[vector_from_matrix(M) for M in particles] for particles in part.spin_hist]\n",
    "# print(w[:,0])\n",
    "LinKE = (part.mass * part.vel_hist**2).sum(axis=-1).flatten()\n",
    "print(LinKE.shape)\n",
    "AngKE = (part.mom_inert * w**2).sum(axis=-1).sum(axis=-1)\n",
    "print(AngKE.shape)\n",
    "KE = (LinKE + AngKE).flatten()\n",
    "print(KE)\n",
    "LinMom = part.mass * part.vel_hist\n",
    "AngMom = (part.mom_inert * w)\n",
    "AngMom.shape\n",
    "LinMom.shape"
   ]
  },
  {
   "cell_type": "code",
   "execution_count": 49,
   "metadata": {},
   "outputs": [
    {
     "data": {
      "text/plain": [
       "array([[[ 0.        ,  1.        ]],\n",
       "\n",
       "       [[ 0.33333333, -1.        ]],\n",
       "\n",
       "       [[ 0.22222222,  1.        ]],\n",
       "\n",
       "       [[-0.18518519, -1.        ]],\n",
       "\n",
       "       [[-0.34567901,  1.        ]],\n",
       "\n",
       "       [[-0.04526749, -1.        ]],\n",
       "\n",
       "       [[ 0.31550069,  1.        ]],\n",
       "\n",
       "       [[ 0.25560128, -1.        ]],\n",
       "\n",
       "       [[-0.14509983,  1.        ]],\n",
       "\n",
       "       [[-0.3523345 , -1.        ]],\n",
       "\n",
       "       [[-0.08978984,  1.        ]],\n",
       "\n",
       "       [[ 0.29247461, -1.        ]],\n",
       "\n",
       "       [[ 0.28477291,  1.        ]],\n",
       "\n",
       "       [[-0.102626  , -1.        ]],\n",
       "\n",
       "       [[-0.35319025,  1.        ]],\n",
       "\n",
       "       [[-0.13283416, -1.        ]],\n",
       "\n",
       "       [[ 0.26463414,  1.        ]],\n",
       "\n",
       "       [[ 0.30925692, -1.        ]],\n",
       "\n",
       "       [[-0.05846286,  1.        ]],\n",
       "\n",
       "       [[-0.34823216, -1.        ]],\n",
       "\n",
       "       [[-0.17369191,  1.        ]]])"
      ]
     },
     "execution_count": 49,
     "metadata": {},
     "output_type": "execute_result"
    }
   ],
   "source": [
    "part.vel_hist"
   ]
  }
 ],
 "metadata": {
  "kernelspec": {
   "display_name": "Python 3",
   "language": "python",
   "name": "python3"
  },
  "language_info": {
   "codemirror_mode": {
    "name": "ipython",
    "version": 3
   },
   "file_extension": ".py",
   "mimetype": "text/x-python",
   "name": "python",
   "nbconvert_exporter": "python",
   "pygments_lexer": "ipython3",
   "version": "3.4.7"
  }
 },
 "nbformat": 4,
 "nbformat_minor": 2
}
