{
 "cells": [
  {
   "cell_type": "markdown",
   "metadata": {},
   "source": [
    "## Welcome to the Billiard Dynamics Workshop at the University of Brasilia Summer 2018 Workshops in Mathematics"
   ]
  },
  {
   "cell_type": "markdown",
   "metadata": {},
   "source": [
    "Setup steps\n",
    "1. Get python + jupyter.  Options:\n",
    "    1. Use my cloud instance (recommended on shared machines or if you don't want to install; also prevents problem with version differences)\n",
    "        1. Get username and password from me\n",
    "        2. Log into https://tinyurl.com/unb-billiards-hub\n",
    "        3. *DO NOT CLICK STOP MY SERVER* - closes for everyone\n",
    "    2. Local installation\n",
    "        - Recommended (satisfies all requirements) - Anaconda distribution https://www.anaconda.com/download/\n",
    "            - Minimum requirements - Python 3.4 or above, Numpy, Scipy, Matplotlib, iPython widgets, Jupyter (http://jupyter.org/install) (possibly more)\n",
    "        - (Optional) Animations use https://www.ffmpeg.org/.  Installation difficulty varies based on operating system.\n",
    "2. GitHub\n",
    "    - From Jupyter\n",
    "        1. Create new Python 3 notebook\n",
    "        2. ! git clone https://github.com/drscook/unb_billiards.git\n",
    "        3. ctrl-enter runs the cell\n",
    "    - From terminal\n",
    "        1. git clone https://github.com/drscook/unb_billiards.git\n",
    "3. I will edit the repo througout the week.  So do NOT edit these files directly - may have trouble pulling these changes.  Instead make a copy and work with the copy.\n",
    "4. unb_billiards -> code -> session1.ipynb"
   ]
  }
 ],
 "metadata": {
  "kernelspec": {
   "display_name": "Python 3",
   "language": "python",
   "name": "python3"
  },
  "language_info": {
   "codemirror_mode": {
    "name": "ipython",
    "version": 3
   },
   "file_extension": ".py",
   "mimetype": "text/x-python",
   "name": "python",
   "nbconvert_exporter": "python",
   "pygments_lexer": "ipython3",
   "version": "3.6.3"
  }
 },
 "nbformat": 4,
 "nbformat_minor": 2
}
