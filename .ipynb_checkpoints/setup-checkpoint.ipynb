{
 "cells": [
  {
   "cell_type": "markdown",
   "metadata": {},
   "source": [
    "## Welcome to the Billiard Dynamics Workshop at the University of Brasilia Summer 2018 Workshops in Mathematics"
   ]
  },
  {
   "cell_type": "markdown",
   "metadata": {},
   "source": [
    "Setup steps\n",
    "1. Get python + jupyter.  Options:\n",
    "    1. Use my cloud instance (recommended on shared machines or if you don't want to install; also prevents problem with version differences)\n",
    "        1. Get username and password from me\n",
    "        2. Log into https://tinyurl.com/unb-billiards-hub\n",
    "        3. * DO NOT CLICK STOP MY SERVER * - closes for everyone\n",
    "    2. Local installation\n",
    "        1. Python 3, Numpy, Matplotlib, iPython widgets, Jupyter (http://jupyter.org/install) (possibly more)\n",
    "        2. Recommended - Anaconda distribution https://www.anaconda.com/download/\n",
    "2. GitHub\n",
    "    1. Create & sign into your github.com account (free)\n",
    "    2. https://github.com/drscook/unb_billiards.git\n",
    "    3. Fork (makes a copy for you)\n",
    "    4. Click \"Clone or download\".  Copy the link.\n",
    "    4. Clone repo to your machine\n",
    "        1. Launch Jupyter\n",
    "        2. Run commands in cell below\n",
    "        3. ctrl+enter executes the cell\n",
    "    5. Should see folder \"unb_billiards\" in home window\n",
    "    \n",
    "3. Edit & Sync\n",
    "    1. \"user\" is for you.  I will edit \"original\" - any changes you make here could be overwritten.\n",
    "    2. I suggest copying files from original to user before using/editing\n",
    "    3. See below to sync\n"
   ]
  },
  {
   "cell_type": "code",
   "execution_count": 6,
   "metadata": {
    "collapsed": true
   },
   "outputs": [
    {
     "name": "stdout",
     "output_type": "stream",
     "text": [
      "/home/scook4242\n",
      "Cloning into 'unb_billiards'...\n",
      "remote: Counting objects: 58, done.\u001b[K\n",
      "remote: Compressing objects: 100% (45/45), done.\u001b[K\n",
      "remote: Total 58 (delta 18), reused 24 (delta 6), pack-reused 0\u001b[K\n",
      "Unpacking objects: 100% (58/58), done.\n",
      "/home/scook4242/unb_billiards\n",
      "From https://github.com/drscook/unb_billiards\n",
      " * [new branch]      master     -> upstream/master\n",
      "From https://github.com/drscook/unb_billiards\n",
      " * branch            master     -> FETCH_HEAD\n",
      "Already up-to-date.\n"
     ]
    }
   ],
   "source": [
    "path_for_local_repo = '~'# path for local copy of repo; on my cloud instance, it is '/home/user__'\n",
    "url_for_your_github_remote_repo = 'https://github.com/scook4242/unb_billiards.git' # url of YOUR fork of the repo\n",
    "your_github_username = 'scook4242'\n",
    "your_email = 'scook4242@gmail.com'\n",
    "\n",
    "%cd $path_for_local_repo\n",
    "! git clone $url_for_your_github_remote_repo\n",
    "%cd 'unb_billiards'\n",
    "! git remote add upstream 'https://github.com/drscook/unb_billiards.git'\n",
    "! git fetch upstream\n",
    "! git pull upstream master\n",
    "! git config user.name $your_github_username\n",
    "! git config user.email $your_email\n"
   ]
  },
  {
   "cell_type": "code",
   "execution_count": 3,
   "metadata": {
    "collapsed": true
   },
   "outputs": [
    {
     "name": "stdout",
     "output_type": "stream",
     "text": [
      "fatal: 'upstream' does not appear to be a git repository\n",
      "fatal: Could not read from remote repository.\n",
      "\n",
      "Please make sure you have the correct access rights\n",
      "and the repository exists.\n",
      "Already up-to-date.\n"
     ]
    }
   ],
   "source": [
    "## Get updates my repo and your repo\n",
    "! git pull upstream master\n",
    "! git pull"
   ]
  },
  {
   "cell_type": "code",
   "execution_count": 2,
   "metadata": {},
   "outputs": [],
   "source": [
    "# (optional) This will cache your username and password for T seconds (example uses T=3600) so that you don't need to retype.\n",
    "! git config credential.helper 'cache --timeout 3600'  "
   ]
  },
  {
   "cell_type": "markdown",
   "metadata": {},
   "source": [
    "To commit changes to your remote repo on github, you need will need to enter your username and password.  This can't be done within the notebook because it requires user interaction (unless youe have prviously stored/cached in a credential file or setup an rsa key).  \n",
    "1. Home screen -> new -> terminal\n",
    "2. cd to your local repo"
   ]
  },
  {
   "cell_type": "code",
   "execution_count": null,
   "metadata": {},
   "outputs": [],
   "source": [
    "! git add --all; git commit -m 'your commit message'; git push"
   ]
  }
 ],
 "metadata": {
  "kernelspec": {
   "display_name": "Python 3",
   "language": "python",
   "name": "python3"
  },
  "language_info": {
   "codemirror_mode": {
    "name": "ipython",
    "version": 3
   },
   "file_extension": ".py",
   "mimetype": "text/x-python",
   "name": "python",
   "nbconvert_exporter": "python",
   "pygments_lexer": "ipython3",
   "version": "3.4.7"
  }
 },
 "nbformat": 4,
 "nbformat_minor": 2
}
