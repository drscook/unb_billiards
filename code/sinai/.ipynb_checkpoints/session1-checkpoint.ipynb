{
 "cells": [
  {
   "cell_type": "markdown",
   "metadata": {},
   "source": [
    "### Mathematical Simulation in Python, Billiard Dynamical Systems\n",
    "### Summer Workshop in Mathematics, University of Brasilia\n",
    "### Summer 2018, Session 1, Scott Cook"
   ]
  },
  {
   "cell_type": "markdown",
   "metadata": {},
   "source": [
    "Goal: Write a simulation of \"open billiard\" system on pages 71-86 of https://github.com/drscook/unb_billiards/blob/master/references/Non-standard%20billiards/Random_Mechanical_Systems.pdf"
   ]
  },
  {
   "cell_type": "markdown",
   "metadata": {},
   "source": [
    "Consider the standard Sinai billiard in dimension 2 consisting of a square with a circular \"scatterer\" removed from the center. http://www.dynamical-systems.org/sinai/\n",
    "\n",
    "In 1963, Yakov Sinai proved that this system is ergodic (see http://people.cas.uab.edu/~simanyi/Sinai-Abel-Volume-Simanyi.pdf for a survey of this result and its extensions).  Thus, we have strong averaging properties.\n",
    "\n",
    "We declare that part of the bottom side will be \"open\"; this means that the system starts with the particle entering throught this open side and ends when it returns.\n",
    "- See p.80-82 for a proof that, with probability 1, the particle will eventually return to the open side using the Poincare Recurrence Theorem.  (Note that \"trapped\" trajectories can exist, but they form a set of measure zero.)\n",
    "- Ergodicity of the closed billiard gives beautiful averaging properties to the open billiard, as discussed on p.83.\n",
    "- We wish to simulate the time average side of these expressions and see that they do in fact equal the corresponding spatial average."
   ]
  },
  {
   "cell_type": "markdown",
   "metadata": {},
   "source": [
    "First, create objects for each wall and the particle.  Python (like many languages) allows you to define classes which are containers for attributes (information) and methods (functions).  Though we could do this simulation without writing classes, they will prove they useful as our code gets more complex.\n",
    "\n",
    "\n",
    "As with many things in this minicourse, we try to write code that is clear, not clever.  There are better ways to do this, but I think this is easiest to learn.\n",
    "\n",
    "Definitions:\n",
    "- A class is a type of object.\n",
    "- An instance is an object of that type.  Thus, we will make one class FlatWall and 4 instances of it.\n",
    "- An attribute is a piece of data \"bound\" to an object\n",
    "- A method is a funtion \"bound\" to an object."
   ]
  },
  {
   "cell_type": "code",
   "execution_count": 1,
   "metadata": {
    "collapsed": true
   },
   "outputs": [],
   "source": [
    "import numpy as np   # implements fast matrix algebra\n",
    "import matplotlib.pyplot as plt   # main visualization module\n",
    "\n",
    "dim = 2\n",
    "# cell size\n",
    "x0 = 10\n",
    "y0 = 10\n",
    "\n",
    "# Define empty classes to start.  We will add stuff here later.\n",
    "class Wall:\n",
    "    pass\n",
    "\n",
    "class FlatWall(Wall):\n",
    "    pass\n",
    "\n",
    "class CircleWall(Wall):\n",
    "    pass\n",
    "\n",
    "class Particles():\n",
    "    pass\n",
    "\n",
    "part = Particles()\n",
    "part.num = 1\n",
    "part.dim = dim\n",
    "part.radius = np.full(part.num, 1.0) # an array of length part.num flled with the radius\n",
    "\n",
    "wall = [FlatWall() for i in range(4)]\n",
    "\n",
    "wall[0].base_point = [x0, 0]\n",
    "wall[0].normal = [-1, 0]\n",
    "wall[0].tangent = [0, y0]\n",
    "\n",
    "wall[1].base_point = [0, y0]\n",
    "wall[1].normal = [0, -1]\n",
    "wall[1].tangent = [-x0,0]\n",
    "\n",
    "wall[2].base_point = [-x0, 0]\n",
    "wall[2].normal = [1, 0]\n",
    "wall[2].tangent = [0, -y0]\n",
    "\n",
    "wall[3].base_point = [0, -y0]\n",
    "wall[3].normal = [0, 1]\n",
    "wall[3].tangent = [x0, 0]\n",
    "\n",
    "\n",
    "for w in wall:\n",
    "    w.dim = part.dim\n",
    "    w.wp_gap_min = part.radius  # part.pos is the particle center; must leave a gap so the entire particle fits\n",
    "\n",
    "wall.append(CircleWall())\n",
    "wall[4].base_point = [0,0]\n",
    "wall[4].radius = 3\n",
    "wall[4].wp_gap_min = part.radius + wall[4].radius\n"
   ]
  },
  {
   "cell_type": "markdown",
   "metadata": {},
   "source": [
    "We'd like to plot the cell to makes sure it looks right.  We'll create a mesh of points for each wall using numpy linspace to get 100 evenly spaced numbers from -1 to 1."
   ]
  },
  {
   "cell_type": "code",
   "execution_count": 2,
   "metadata": {},
   "outputs": [
    {
     "name": "stdout",
     "output_type": "stream",
     "text": [
      "[-1.         -0.97979798 -0.95959596 -0.93939394 -0.91919192 -0.8989899\n",
      " -0.87878788 -0.85858586 -0.83838384 -0.81818182 -0.7979798  -0.77777778\n",
      " -0.75757576 -0.73737374 -0.71717172 -0.6969697  -0.67676768 -0.65656566\n",
      " -0.63636364 -0.61616162 -0.5959596  -0.57575758 -0.55555556 -0.53535354\n",
      " -0.51515152 -0.49494949 -0.47474747 -0.45454545 -0.43434343 -0.41414141\n",
      " -0.39393939 -0.37373737 -0.35353535 -0.33333333 -0.31313131 -0.29292929\n",
      " -0.27272727 -0.25252525 -0.23232323 -0.21212121 -0.19191919 -0.17171717\n",
      " -0.15151515 -0.13131313 -0.11111111 -0.09090909 -0.07070707 -0.05050505\n",
      " -0.03030303 -0.01010101  0.01010101  0.03030303  0.05050505  0.07070707\n",
      "  0.09090909  0.11111111  0.13131313  0.15151515  0.17171717  0.19191919\n",
      "  0.21212121  0.23232323  0.25252525  0.27272727  0.29292929  0.31313131\n",
      "  0.33333333  0.35353535  0.37373737  0.39393939  0.41414141  0.43434343\n",
      "  0.45454545  0.47474747  0.49494949  0.51515152  0.53535354  0.55555556\n",
      "  0.57575758  0.5959596   0.61616162  0.63636364  0.65656566  0.67676768\n",
      "  0.6969697   0.71717172  0.73737374  0.75757576  0.77777778  0.7979798\n",
      "  0.81818182  0.83838384  0.85858586  0.87878788  0.8989899   0.91919192\n",
      "  0.93939394  0.95959596  0.97979798  1.        ]\n"
     ]
    },
    {
     "ename": "ValueError",
     "evalue": "operands could not be broadcast together with shapes (100,) (2,) ",
     "output_type": "error",
     "traceback": [
      "\u001b[1;31m---------------------------------------------------------------------------\u001b[0m",
      "\u001b[1;31mValueError\u001b[0m                                Traceback (most recent call last)",
      "\u001b[1;32m<ipython-input-2-661e67164501>\u001b[0m in \u001b[0;36m<module>\u001b[1;34m()\u001b[0m\n\u001b[0;32m      2\u001b[0m \u001b[0mprint\u001b[0m\u001b[1;33m(\u001b[0m\u001b[0ms\u001b[0m\u001b[1;33m)\u001b[0m\u001b[1;33m\u001b[0m\u001b[0m\n\u001b[0;32m      3\u001b[0m \u001b[1;32mfor\u001b[0m \u001b[0mw\u001b[0m \u001b[1;32min\u001b[0m \u001b[0mwall\u001b[0m\u001b[1;33m[\u001b[0m\u001b[1;33m:\u001b[0m\u001b[1;36m4\u001b[0m\u001b[1;33m]\u001b[0m\u001b[1;33m:\u001b[0m\u001b[1;33m\u001b[0m\u001b[0m\n\u001b[1;32m----> 4\u001b[1;33m     \u001b[0mw\u001b[0m\u001b[1;33m.\u001b[0m\u001b[0mmesh\u001b[0m \u001b[1;33m=\u001b[0m \u001b[0mw\u001b[0m\u001b[1;33m.\u001b[0m\u001b[0mbase_point\u001b[0m \u001b[1;33m+\u001b[0m \u001b[0ms\u001b[0m\u001b[1;33m*\u001b[0m\u001b[0mw\u001b[0m\u001b[1;33m.\u001b[0m\u001b[0mtangent\u001b[0m\u001b[1;33m\u001b[0m\u001b[0m\n\u001b[0m\u001b[0;32m      5\u001b[0m \u001b[0mprint\u001b[0m\u001b[1;33m(\u001b[0m\u001b[0mwall\u001b[0m\u001b[1;33m[\u001b[0m\u001b[1;36m0\u001b[0m\u001b[1;33m]\u001b[0m\u001b[1;33m.\u001b[0m\u001b[0mmesh\u001b[0m\u001b[1;33m.\u001b[0m\u001b[0mshape\u001b[0m\u001b[1;33m)\u001b[0m\u001b[1;33m\u001b[0m\u001b[0m\n",
      "\u001b[1;31mValueError\u001b[0m: operands could not be broadcast together with shapes (100,) (2,) "
     ]
    }
   ],
   "source": [
    "s = np.linspace(-1,1,100)\n",
    "print(s)\n",
    "for w in wall[:4]:\n",
    "    w.mesh = w.base_point + s*w.tangent\n",
    "print(wall[0].mesh.shape)"
   ]
  },
  {
   "cell_type": "markdown",
   "metadata": {},
   "source": [
    "That did not work for 2 reasons.  The error says the shapes are not compatible.  We'll fix that later, but there is another problem we must handle first: base_point and tangent are python lists.  They do not know matrix algebra.  See:"
   ]
  },
  {
   "cell_type": "code",
   "execution_count": 3,
   "metadata": {},
   "outputs": [
    {
     "name": "stdout",
     "output_type": "stream",
     "text": [
      "[1, 2, 3]\n",
      "[1, 2, 3, 1, 2, 3, 1, 2, 3, 1, 2, 3, 1, 2, 3]\n"
     ]
    }
   ],
   "source": [
    "L = [1,2,3]\n",
    "print(L)\n",
    "print(5*L)"
   ]
  },
  {
   "cell_type": "markdown",
   "metadata": {},
   "source": [
    "We wanted [5,10,15], but got 5 copies of L.  Numpy implements fast matrix algebra.  Not only is it convenient from a mathematical perspective, it is crucial for compuation speed.  Python is slow because it is as interpretted language.  Most numpy algorithms have been compiled into fast C (or C-like) code, making them much faster than a pure Python equivalent.  The single best way way to boost speed in Python is to vectorize your code with numpy.\n",
    "\n",
    "Numpy uses the name \"array\" for all vectors and matrices."
   ]
  },
  {
   "cell_type": "code",
   "execution_count": 4,
   "metadata": {},
   "outputs": [
    {
     "name": "stdout",
     "output_type": "stream",
     "text": [
      "[1 2 3]\n",
      "[ 5 10 15]\n"
     ]
    }
   ],
   "source": [
    "L = np.asarray([1,2,3])\n",
    "print(L)\n",
    "print(5*L)"
   ]
  },
  {
   "cell_type": "markdown",
   "metadata": {},
   "source": [
    "So, we will convert everything to numpy arrays. We will also force them to be floats to avoid problems.  Notice of the array above has dtype int."
   ]
  },
  {
   "cell_type": "code",
   "execution_count": 5,
   "metadata": {},
   "outputs": [
    {
     "data": {
      "text/plain": [
       "dtype('int32')"
      ]
     },
     "execution_count": 5,
     "metadata": {},
     "output_type": "execute_result"
    }
   ],
   "source": [
    "L.dtype"
   ]
  },
  {
   "cell_type": "markdown",
   "metadata": {},
   "source": [
    "This can occasionally cause problems - it can trigger integer division rather than float division.  If this happens, we will get 3 / 2 = 1 or 2 rather than 1.5.  This was a bigger problem in earlier versions of Python which has been largerly fixed now.  But I still prefer to add safeguards when convenient."
   ]
  },
  {
   "cell_type": "code",
   "execution_count": 6,
   "metadata": {},
   "outputs": [
    {
     "name": "stdout",
     "output_type": "stream",
     "text": [
      "<class 'list'>\n",
      "<class 'numpy.ndarray'>\n"
     ]
    }
   ],
   "source": [
    "print(type(wall[0].base_point))\n",
    "for w in wall[:4]:\n",
    "    w.base_point = np.asarray(w.base_point).astype(float)\n",
    "    w.normal = np.asarray(w.normal).astype(float)\n",
    "    w.tangent = np.asarray(w.tangent).astype(float)\n",
    "print(type(wall[0].base_point))"
   ]
  },
  {
   "cell_type": "markdown",
   "metadata": {},
   "source": [
    "Now, let's try the mesh again."
   ]
  },
  {
   "cell_type": "code",
   "execution_count": 7,
   "metadata": {},
   "outputs": [
    {
     "ename": "ValueError",
     "evalue": "operands could not be broadcast together with shapes (100,) (2,) ",
     "output_type": "error",
     "traceback": [
      "\u001b[1;31m---------------------------------------------------------------------------\u001b[0m",
      "\u001b[1;31mValueError\u001b[0m                                Traceback (most recent call last)",
      "\u001b[1;32m<ipython-input-7-3f892b8c5d45>\u001b[0m in \u001b[0;36m<module>\u001b[1;34m()\u001b[0m\n\u001b[0;32m      1\u001b[0m \u001b[0ms\u001b[0m \u001b[1;33m=\u001b[0m \u001b[0mnp\u001b[0m\u001b[1;33m.\u001b[0m\u001b[0mlinspace\u001b[0m\u001b[1;33m(\u001b[0m\u001b[1;33m-\u001b[0m\u001b[1;36m1\u001b[0m\u001b[1;33m,\u001b[0m\u001b[1;36m1\u001b[0m\u001b[1;33m,\u001b[0m\u001b[1;36m100\u001b[0m\u001b[1;33m)\u001b[0m\u001b[1;33m\u001b[0m\u001b[0m\n\u001b[0;32m      2\u001b[0m \u001b[1;32mfor\u001b[0m \u001b[0mw\u001b[0m \u001b[1;32min\u001b[0m \u001b[0mwall\u001b[0m\u001b[1;33m[\u001b[0m\u001b[1;33m:\u001b[0m\u001b[1;36m4\u001b[0m\u001b[1;33m]\u001b[0m\u001b[1;33m:\u001b[0m\u001b[1;33m\u001b[0m\u001b[0m\n\u001b[1;32m----> 3\u001b[1;33m     \u001b[0mw\u001b[0m\u001b[1;33m.\u001b[0m\u001b[0mmesh\u001b[0m \u001b[1;33m=\u001b[0m \u001b[0mw\u001b[0m\u001b[1;33m.\u001b[0m\u001b[0mbase_point\u001b[0m \u001b[1;33m+\u001b[0m \u001b[0ms\u001b[0m\u001b[1;33m*\u001b[0m\u001b[0mw\u001b[0m\u001b[1;33m.\u001b[0m\u001b[0mtangent\u001b[0m\u001b[1;33m\u001b[0m\u001b[0m\n\u001b[0m\u001b[0;32m      4\u001b[0m \u001b[0mprint\u001b[0m\u001b[1;33m(\u001b[0m\u001b[0mwall\u001b[0m\u001b[1;33m[\u001b[0m\u001b[1;36m0\u001b[0m\u001b[1;33m]\u001b[0m\u001b[1;33m.\u001b[0m\u001b[0mmesh\u001b[0m\u001b[1;33m.\u001b[0m\u001b[0mshape\u001b[0m\u001b[1;33m)\u001b[0m\u001b[1;33m\u001b[0m\u001b[0m\n",
      "\u001b[1;31mValueError\u001b[0m: operands could not be broadcast together with shapes (100,) (2,) "
     ]
    }
   ],
   "source": [
    "s = np.linspace(-1,1,100)\n",
    "for w in wall[:4]:\n",
    "    w.mesh = w.base_point + s*w.tangent\n",
    "print(wall[0].mesh.shape)"
   ]
  },
  {
   "cell_type": "markdown",
   "metadata": {},
   "source": [
    "We still have the shape issue.  We want is s*w.tangent to be a 100x2 array.  Numpy will help us via its broadcasting rules: https://docs.scipy.org/doc/numpy-1.13.0/user/basics.broadcasting.html\n",
    "1. "
   ]
  },
  {
   "cell_type": "code",
   "execution_count": 8,
   "metadata": {},
   "outputs": [
    {
     "name": "stdout",
     "output_type": "stream",
     "text": [
      "nope\n",
      "(2,)\n",
      "(1, 2) (100, 1)\n",
      "(100, 2)\n"
     ]
    }
   ],
   "source": [
    "t = wall[0].tangent.copy()\n",
    "try:\n",
    "    m = s*t\n",
    "    print(m.shape)\n",
    "except:\n",
    "    print('nope')\n",
    "\n",
    "print(t.shape)\n",
    "t = t[np.newaxis,:]\n",
    "s = s[:,np.newaxis]\n",
    "print(t.shape,s.shape)\n",
    "\n",
    "try:\n",
    "    m = s*t\n",
    "    print(m.shape)\n",
    "except:\n",
    "    print('nope')\n"
   ]
  },
  {
   "cell_type": "code",
   "execution_count": 9,
   "metadata": {},
   "outputs": [
    {
     "name": "stdout",
     "output_type": "stream",
     "text": [
      "(100, 2)\n"
     ]
    }
   ],
   "source": [
    "s = np.linspace(-1,1,100)\n",
    "s = s[:,np.newaxis]\n",
    "for w in wall[:4]:\n",
    "    w.mesh = w.base_point + s*w.tangent[np.newaxis,:]\n",
    "print(wall[0].mesh.shape)"
   ]
  },
  {
   "cell_type": "code",
   "execution_count": 10,
   "metadata": {
    "collapsed": true
   },
   "outputs": [],
   "source": [
    "theta = np.linspace(0,2*np.pi,100)\n",
    "w = wall[4]\n",
    "w.mesh = np.array([np.cos(theta), np.sin(theta)]).T * w.radius + w.base_point"
   ]
  },
  {
   "cell_type": "code",
   "execution_count": 11,
   "metadata": {},
   "outputs": [
    {
     "data": {
      "image/png": "[encoded data removed]",
      "text/plain": [
       "<matplotlib.figure.Figure at 0x18eb1241278>"
      ]
     },
     "metadata": {},
     "output_type": "display_data"
    }
   ],
   "source": [
    "fig, ax = plt.subplots()\n",
    "for w in wall:\n",
    "    ax.plot(w.mesh[:,0], w.mesh[:,1], 'black')\n",
    "ax.set_aspect('equal')\n",
    "plt.show()"
   ]
  },
  {
   "cell_type": "markdown",
   "metadata": {},
   "source": [
    "Here is another version that uses \\* unpacking.  Observe that mesh has shape (pts,dim) so mesh.T has shape (dim,pts).  The * unpacks the first dimesion, giving dim vectors of length pts corresponding to each dimension.  "
   ]
  },
  {
   "cell_type": "code",
   "execution_count": 12,
   "metadata": {},
   "outputs": [
    {
     "data": {
      "image/png": "[encoded data removed]",
      "text/plain": [
       "<matplotlib.figure.Figure at 0x18eb122aeb8>"
      ]
     },
     "metadata": {},
     "output_type": "display_data"
    }
   ],
   "source": [
    "fig, ax = plt.subplots()\n",
    "for w in wall:\n",
    "    ax.plot(*(w.mesh.T), 'black')\n",
    "ax.set_aspect('equal')\n",
    "plt.show()"
   ]
  },
  {
   "cell_type": "markdown",
   "metadata": {},
   "source": [
    "Here is a version that works in n dimensions if you define a list of n-1 tangent vectors.  It uses np.meshgrid which essentially gives the Cartesian product of n-1 copies of the parameter values."
   ]
  },
  {
   "cell_type": "code",
   "execution_count": 13,
   "metadata": {},
   "outputs": [
    {
     "data": {
      "image/png": "[encoded data removed]",
      "text/plain": [
       "<matplotlib.figure.Figure at 0x18eb1478c88>"
      ]
     },
     "metadata": {},
     "output_type": "display_data"
    }
   ],
   "source": [
    "def flat_mesh(tangents):\n",
    "    pts = 100\n",
    "    N, D = tangents.shape\n",
    "    grid = [np.linspace(-1, 1, pts) for n in range(N)]\n",
    "    grid = np.meshgrid(*grid)\n",
    "    grid = np.asarray(grid)\n",
    "    mesh = grid.T.dot(tangents)\n",
    "    return mesh\n",
    "\n",
    "def sphere_mesh(dim, radius):\n",
    "    pts = 100\n",
    "    grid = [np.linspace(0, np.pi, pts) for d in range(dim-1)]\n",
    "    grid[-1] *= 2\n",
    "    grid = np.meshgrid(*grid)                           \n",
    "    mesh = []\n",
    "    for d in range(dim):\n",
    "        w = radius * np.ones_like(grid[0])\n",
    "        for j in range(d):\n",
    "            w *= np.sin(grid[j])\n",
    "        if d < dim-1:\n",
    "            w *= np.cos(grid[d])\n",
    "        mesh.append(w)\n",
    "    return np.asarray(mesh).T\n",
    "\n",
    "### 3D version\n",
    "from mpl_toolkits.mplot3d import Axes3D\n",
    "plane = flat_mesh(tangents=np.array([[1,0,3],[0,1,0]])) + np.array([0,0,3])\n",
    "scatter = sphere_mesh(dim=3, radius=2)\n",
    "\n",
    "\n",
    "fig = plt.figure()\n",
    "ax = fig.gca(projection='3d')\n",
    "ax.plot_surface(*(plane.T), color='b')\n",
    "ax.plot_surface(*(scatter.T), color='b')\n",
    "ax.set_aspect('equal')\n",
    "ax.set_xlabel('x')\n",
    "ax.set_ylabel('y')\n",
    "ax.set_zlabel('z')\n",
    "plt.show()"
   ]
  },
  {
   "cell_type": "markdown",
   "metadata": {},
   "source": [
    "Good, now let's put a particle into the cell.  For simplicity:\n",
    "- use only 1 particle\n",
    "- pick initial positions and velocities explicitly ... we will pick randomly later"
   ]
  },
  {
   "cell_type": "code",
   "execution_count": 14,
   "metadata": {},
   "outputs": [
    {
     "data": {
      "image/png": "[encoded data removed]",
      "text/plain": [
       "<matplotlib.figure.Figure at 0x18eb122ab70>"
      ]
     },
     "metadata": {},
     "output_type": "display_data"
    }
   ],
   "source": [
    "part.pos = np.array([[0,2*wall[4].wp_gap_min]])\n",
    "part.vel = np.array([[0.0,-1.0]])\n",
    "part.mesh = [sphere_mesh(dim=part.dim, radius=part.radius)]\n",
    "\n",
    "fig, ax = plt.subplots()\n",
    "for w in wall:\n",
    "    ax.plot(*(w.mesh.T), 'black')\n",
    "for p in range(part.num):\n",
    "    ax.plot(*(part.mesh[p]+part.pos[0]).T, 'black')\n",
    "ax.set_aspect('equal')\n",
    "plt.show()"
   ]
  },
  {
   "cell_type": "markdown",
   "metadata": {},
   "source": [
    "Steps\n",
    "1. Compute time until collision with each wall\n",
    "2. Find min\n",
    "3. Move the particle\n",
    "4. Resolve the collision\n",
    "\n",
    "We must compute time until collision differently for flat walls and circle walls.  This is the right situation for class methods.  Let's refactor our code and add appropriate class methods.  Some key facts:\n",
    "- part.pos are the *centers* of the particles; we must leave a gap for the entire particle\n",
    "- the normal vector for a circle wall depends on the position; not true for a flat wall"
   ]
  },
  {
   "cell_type": "markdown",
   "metadata": {},
   "source": [
    "For FlatWall, let $dx$ = part.pos - wall.base_point, $v$=vel, $g$ = wp_gap_min, and $n$=unit normal.  Then distance to wall = orthogonal projection of (dx+tv) onto n.  We solve for collision time via:\n",
    "\n",
    "$$g=(\\vec{dx}+t\\vec{v}) \\cdot \\vec{n} = \\vec{dx}\\cdot\\vec{n} + t(\\vec{v}\\cdot\\vec{n})$$\n",
    "$$t = \\frac{g-\\vec{dx}\\cdot\\vec{n}}{(\\vec{v}\\cdot\\vec{n})}$$"
   ]
  },
  {
   "cell_type": "code",
   "execution_count": 15,
   "metadata": {},
   "outputs": [
    {
     "name": "stdout",
     "output_type": "stream",
     "text": [
      "[array([-inf]), array([-1.]), array([-inf]), array([ 17.])]\n"
     ]
    },
    {
     "name": "stderr",
     "output_type": "stream",
     "text": [
      "C:\\ProgramData\\Anaconda3_6\\lib\\site-packages\\ipykernel_launcher.py:8: RuntimeWarning: divide by zero encountered in true_divide\n",
      "  \n"
     ]
    }
   ],
   "source": [
    "# flat wall\n",
    "# computes time to next collision with each particle via proj (x+vt) onto normal = wp_gap_main\n",
    "def get_wp_col_time(w):\n",
    "    nu = w.normal\n",
    "    dx = part.pos - w.base_point\n",
    "    c = w.wp_gap_min - dx.dot(nu)\n",
    "    b = part.vel.dot(nu)\n",
    "    t = c / b\n",
    "    return t\n",
    "dts = [get_wp_col_time(w) for w in wall[:4]]\n",
    "print(dts)\n"
   ]
  },
  {
   "cell_type": "markdown",
   "metadata": {},
   "source": [
    "This is good except\n",
    "1. it divides by 0 if the particle moves parallel to a wall\n",
    "2. it can return negative times"
   ]
  },
  {
   "cell_type": "code",
   "execution_count": 16,
   "metadata": {},
   "outputs": [
    {
     "name": "stdout",
     "output_type": "stream",
     "text": [
      "[array([ inf]), array([ inf]), array([ inf]), array([ 17.])]\n"
     ]
    }
   ],
   "source": [
    "abs_tol = 1e-4\n",
    "def get_wp_col_time(w):\n",
    "    t = np.full(part.num, np.inf)  # default in np.inf\n",
    "    nu = w.normal\n",
    "    dx = part.pos - w.base_point\n",
    "    c = w.wp_gap_min - dx.dot(nu)\n",
    "    b = part.vel.dot(nu)\n",
    "    idx = np.abs(b) >= abs_tol  # prevents divide by zero\n",
    "    t[idx] = c[idx] / b[idx]\n",
    "    t[t<0] = np.inf  #np.inf for negative times\n",
    "    return t\n",
    "dts = [get_wp_col_time(w) for w in wall[:4]]\n",
    "print(dts)"
   ]
  },
  {
   "cell_type": "markdown",
   "metadata": {},
   "source": [
    "For time to collision with the circular scatter, we recall that wp_min_gap was defined as the particle radius + scatterer radius.  Thus:\n",
    "$$\\vec{dx}+t\\vec{v} \\cdot \\vec{dx}+t\\vec{v} = g^2$$\n",
    "We get a quadratic equation:\n",
    "$$(\\vec{v} \\cdot \\vec{v}) t^2 + 2(\\vec{dx} \\cdot \\vec{v})t + (\\vec{dx} \\cdot \\vec{dx}-g^2)=0$$\n",
    "We want the smallest positive solution.  We break this into 2 functions:"
   ]
  },
  {
   "cell_type": "code",
   "execution_count": 17,
   "metadata": {},
   "outputs": [],
   "source": [
    "# Solves for positive solutions to at^2+bt+c=0, guarding against degenerate cases.\n",
    "# Like the flat wall, we write vectorized code that will efficiently handle many particle systems later.\n",
    "# a,b,c can be arrays with many entries - they must have the same shape.  Each entry treated as an\n",
    "# independent quadratic equation.\n",
    "\n",
    "def solve_quadratic(a, b, c):\n",
    "    small = np.full_like(a, np.inf)  \n",
    "    d = b**2 - 4*a*c  #discriminant\n",
    "    lin = (abs(a) < abs_tol) & (abs(b) >= abs_tol)  #linear \n",
    "    quad = (abs(a) >= abs_tol) & (d >= abs_tol)  #quadratic\n",
    "    \n",
    "    small[lin] = -1 * c[lin] / b[lin]\n",
    "    big = small.copy()\n",
    "    \n",
    "    d[quad] = np.sqrt(d[quad])\n",
    "    small[quad] = (-b[quad] - d[quad]) / (2*a[quad])\n",
    "    big[quad] = (-b[quad] + d[quad]) / (2*a[quad])\n",
    "    swap = (b >= abs_tol)  # We want the solutions ordered (small, big), so we swap where needed\n",
    "    small[swap], big[swap] = big[swap], small[swap]\n",
    "    \n",
    "    small[small<0] = np.inf\n",
    "    big[big<0] = np.inf\n",
    "    return small, big\n",
    "\n",
    "def get_wp_col_time(w):\n",
    "    dx = part.pos - w.base_point\n",
    "    dv = part.vel\n",
    "    a =   (dv*dv).sum(axis=-1)\n",
    "    b = 2*(dv*dx).sum(axis=-1)\n",
    "    c =   (dx*dx).sum(axis=-1) - w.wp_gap_min**2\n",
    "    t_small, t_big = solve_quadratic(a, b, c)\n",
    "    t = np.fmin(t_small, t_big)\n",
    "    return t\n",
    "dts = [get_wp_col_time(w) for w in wall]"
   ]
  },
  {
   "cell_type": "markdown",
   "metadata": {},
   "source": [
    "Now, this still has one issue.  A particle *leaving* a wall after a collision will show $dt=0$ to collision during the next step.  As a result, the program can get stuck.  We will implement a mask to protect again this later."
   ]
  },
  {
   "cell_type": "markdown",
   "metadata": {},
   "source": [
    "Now, we find the minimum positive time dt and advance the particle by dt * vel.  Then we resolve the collision.  For specular collision, the normal component of the velocity is reversed, while the tangential component does not change."
   ]
  },
  {
   "cell_type": "code",
   "execution_count": null,
   "metadata": {
    "collapsed": true
   },
   "outputs": [],
   "source": [
    "def wp_specular_law(w, part, p):\n",
    "    nu = w.normal(part.pos[p])\n",
    "    part.vel[p] -= 2 * (part.vel[p].dot(nu)) * nu"
   ]
  },
  {
   "cell_type": "markdown",
   "metadata": {},
   "source": [
    "We now have all the pieces we need.  Let us put them all together, making use of the class methods for organization.\n",
    "\n",
    "Comments\n",
    "- self refers to the object the method is bound to.  Many variables used above become self in the refactored code below.\n",
    "- Normal vector for a circle wall depends on the position, but not for a flat wall.  For consistency, every wall class will provide .normal(pos) method, even though flat walls will not use the pos argument."
   ]
  },
  {
   "cell_type": "code",
   "execution_count": 5,
   "metadata": {},
   "outputs": [],
   "source": [
    "import numpy as np\n",
    "import matplotlib.pyplot as plt\n",
    "from mpl_toolkits.mplot3d import Axes3D\n",
    "%matplotlib inline\n",
    "\n",
    "abs_tol = 1e-4\n",
    "\n",
    "class Wall:\n",
    "    def wp_specular_law(self, part, p):\n",
    "        nu = self.normal(part.pos[p])\n",
    "        part.vel[p] -= 2 * part.vel[p].dot(nu) * nu\n",
    "\n",
    "    def resolve_collision(self, part, p):\n",
    "        self.wp_specular_law(part, p)\n",
    "        \n",
    "class FlatWall(Wall):\n",
    "    def get_mesh(self):\n",
    "        self.mesh = flat_mesh(self.tangents) + self.base_point\n",
    "        \n",
    "    def normal(self, pos):  # normal does not depend on collision point\n",
    "        return self.normal_static\n",
    "\n",
    "    def get_wp_col_time(self, mask=None):\n",
    "        t = np.full(part.num, np.inf)  # default in np.inf\n",
    "        nu = self.normal_static\n",
    "        dx = part.pos - self.base_point\n",
    "        c = self.wp_gap_min - dx.dot(nu)\n",
    "        b = part.vel.dot(nu)\n",
    "        idx = np.abs(b) >= abs_tol  # prevents divide by zero\n",
    "        t[idx] = c[idx] / b[idx]\n",
    "        if mask is not None:\n",
    "            t[mask] = np.inf\n",
    "        t[t<0] = np.inf  #np.inf for negative times\n",
    "        return t\n",
    "    \n",
    "class SphereWall(Wall):\n",
    "    def get_mesh(self):\n",
    "        self.mesh = sphere_mesh(self.dim, self.radius) + self.base_point\n",
    "\n",
    "    def normal(self, pos): # normal depends on collision point\n",
    "        dx = pos - self.base_point\n",
    "        return make_unit(dx)  # see below for make_unit\n",
    "\n",
    "    def get_wp_col_time(self, mask=None):\n",
    "        dx = part.pos - self.base_point\n",
    "        dv = part.vel\n",
    "        a =   (dv*dv).sum(axis=-1)\n",
    "        b = 2*(dv*dx).sum(axis=-1)\n",
    "        c =   (dx*dx).sum(axis=-1) - self.wp_gap_min**2\n",
    "        t_small, t_big = solve_quadratic(a, b, c, mask)\n",
    "        t = np.fmin(t_small, t_big)\n",
    "        return t\n",
    "        \n",
    "class Particles():\n",
    "    def __init__(self):\n",
    "        self.t = 0.0\n",
    "        self.t_hist = []\n",
    "        self.pos_hist = []\n",
    "        self.vel_hist = []\n",
    "        self.col_hist = []\n",
    "\n",
    "    def record_state(self):\n",
    "        self.t_hist.append(self.t)\n",
    "        self.pos_hist.append(self.pos.copy())        \n",
    "        self.vel_hist.append(self.vel.copy())\n",
    "\n",
    "    def get_KE(self):\n",
    "        KE = self.mass * np.sum(self.vel**2, axis=-1)\n",
    "        return np.sum(KE) / 2\n",
    "        \n",
    "        \n",
    "def make_unit(A, axis=-1):\n",
    "    # Normalizes along given axis.  This means that Thus, np.sum(A**2, axis) gives a matrix of all 1's.\n",
    "    #In other words, if you pick values for all indices except axis and sum the squares, you get 1.  \n",
    "    A = np.asarray(A, dtype=float)\n",
    "    M = np.linalg.norm(A, axis=axis, keepdims=True)\n",
    "    return A / M\n",
    "\n",
    "def solve_quadratic(a, b, c, mask=None):\n",
    "    small = np.full_like(a, np.inf)  \n",
    "    d = b**2 - 4*a*c  #discriminant\n",
    "    lin = (abs(a) < abs_tol) & (abs(b) >= abs_tol)  #linear \n",
    "    quad = (abs(a) >= abs_tol) & (d >= abs_tol)  #quadratic\n",
    "    \n",
    "    small[lin] = -1 * c[lin] / b[lin]\n",
    "    big = small.copy()\n",
    "    \n",
    "    d[quad] = np.sqrt(d[quad])\n",
    "    small[quad] = (-b[quad] - d[quad]) / (2*a[quad])\n",
    "    big[quad] = (-b[quad] + d[quad]) / (2*a[quad])\n",
    "    swap = (b >= abs_tol)  # We want the solutions ordered (small, big), so we swap where needed\n",
    "    small[swap], big[swap] = big[swap], small[swap]\n",
    "    if mask is not None:\n",
    "        small[mask] = np.inf\n",
    "        big[mask] = np.inf\n",
    "    small[small<0] = np.inf\n",
    "    big[big<0] = np.inf\n",
    "    return small, big\n",
    "\n",
    "def flat_mesh(tangents):\n",
    "    pts = 100\n",
    "    N, D = tangents.shape\n",
    "    grid = [np.linspace(-1, 1, pts) for n in range(N)]\n",
    "    grid = np.meshgrid(*grid)\n",
    "    grid = np.asarray(grid)\n",
    "    mesh = grid.T.dot(tangents)\n",
    "    return mesh\n",
    "\n",
    "def sphere_mesh(dim, radius):\n",
    "    pts = 100\n",
    "    grid = [np.linspace(0, np.pi, pts) for d in range(dim-1)]\n",
    "    grid[-1] *= 2\n",
    "    grid = np.meshgrid(*grid)                           \n",
    "    mesh = []\n",
    "    for d in range(dim):\n",
    "        w = radius * np.ones_like(grid[0])\n",
    "        for j in range(d):\n",
    "            w *= np.sin(grid[j])\n",
    "        if d < dim-1:\n",
    "            w *= np.cos(grid[d])\n",
    "        mesh.append(w)\n",
    "    return np.asarray(mesh).T\n",
    "\n",
    "\n",
    "dim = 2\n",
    "# cell size\n",
    "x0 = 10\n",
    "y0 = 10\n",
    "\n",
    "wall = [FlatWall() for i in range(4)]\n",
    "\n",
    "wall[0].base_point = [x0, 0]\n",
    "wall[0].normal_static = [-1, 0]\n",
    "wall[0].tangents = [[0, y0]]\n",
    "\n",
    "wall[1].base_point = [0, y0]\n",
    "wall[1].normal_static = [0, -1]\n",
    "wall[1].tangents = [[-x0,0]]\n",
    "\n",
    "wall[2].base_point = [-x0, 0]\n",
    "wall[2].normal_static = [1, 0]\n",
    "wall[2].tangents = [[0, -y0]]\n",
    "\n",
    "wall[3].base_point = [0, -y0]\n",
    "wall[3].normal_static = [0, 1]\n",
    "wall[3].tangents = [[x0, 0]]\n",
    "\n",
    "wall.append(SphereWall())\n",
    "wall[4].dim = dim\n",
    "wall[4].base_point = np.asarray([0,0])\n",
    "wall[4].radius = 3\n",
    "\n",
    "part = Particles()\n",
    "part.num = 1\n",
    "part.dim = dim\n",
    "part.radius = np.full(part.num, 1.0) # an array of length part.num flled with the radius\n",
    "part.mass = np.full(part.num, 2.0) # an array of length part.num flled with the mass\n",
    "part.cell_size = [[-x0,x0],[-y0,y0]]\n",
    "\n",
    "for w in wall[:4]:\n",
    "    w.dim = dim\n",
    "    w.base_point = np.asarray(w.base_point).astype(float)\n",
    "    w.normal_static = np.asarray(w.normal_static).astype(float)\n",
    "    w.tangents = np.asarray(w.tangents).astype(float)\n",
    "    w.wp_gap_min = part.radius\n",
    "    w.get_mesh()\n",
    "\n",
    "wall[4].dim = dim\n",
    "wall[4].wp_gap_min = wall[4].radius + part.radius\n",
    "wall[4].get_mesh()\n",
    "\n",
    "part.pos = np.array([[0,1.5*wall[4].wp_gap_min]])\n",
    "part.vel = np.array([[0.1,-1.0]])\n",
    "part.mesh = [sphere_mesh(dim=part.dim, radius=part.radius)]\n",
    "    \n",
    "def draw_state():\n",
    "    pos = np.asarray(part.pos_hist)\n",
    "    fig, ax = plt.subplots()\n",
    "    for w in wall:\n",
    "        ax.plot(*(w.mesh.T), 'black')\n",
    "    for p in range(part.num):\n",
    "        ax.plot(pos[:,p,0], pos[:,p,1])#, color=clr[p])\n",
    "        ax.plot(*(part.mesh[p]+pos[-1]).T, 'black')\n",
    "    ax.set_aspect('equal')\n",
    "    plt.show()"
   ]
  },
  {
   "cell_type": "code",
   "execution_count": 6,
   "metadata": {},
   "outputs": [
    {
     "data": {
      "image/png": "[encoded data removed]",
      "text/plain": [
       "<matplotlib.figure.Figure at 0x1bd074d2898>"
      ]
     },
     "metadata": {},
     "output_type": "display_data"
    }
   ],
   "source": [
    "part.col = {}\n",
    "part.KE_init = part.get_KE().sum()\n",
    "part.wp_dt = np.full([len(wall), part.num], np.inf)\n",
    "part.wp_mask = np.zeros_like(part.wp_dt).astype(bool)\n",
    "part.record_state()\n",
    "draw_state()\n",
    "def next_state(wall, part):\n",
    "    for (i,w) in enumerate(wall):\n",
    "        part.wp_dt[i] = w.get_wp_col_time(part.wp_mask[i])\n",
    "    print(part.wp_dt)\n",
    "    part.dt = np.min(part.wp_dt)\n",
    "\n",
    "    part.t += part.dt\n",
    "    part.pos += part.vel * part.dt\n",
    "\n",
    "    part.wp_mask = (part.wp_dt - part.dt) < abs_tol\n",
    "    w, p = np.nonzero(part.wp_mask)\n",
    "    w, p = w[0], p[0]\n",
    "    part.col = {'w':w, 'p':p}\n",
    "    wall[w].resolve_collision(part, p)\n",
    "    part.record_state()\n",
    "    draw_state()\n",
    "    "
   ]
  },
  {
   "cell_type": "code",
   "execution_count": 1,
   "metadata": {},
   "outputs": [
    {
     "ename": "NameError",
     "evalue": "name 'next_state' is not defined",
     "output_type": "error",
     "traceback": [
      "\u001b[1;31m---------------------------------------------------------------------------\u001b[0m",
      "\u001b[1;31mNameError\u001b[0m                                 Traceback (most recent call last)",
      "\u001b[1;32m<ipython-input-1-872e16121de3>\u001b[0m in \u001b[0;36m<module>\u001b[1;34m()\u001b[0m\n\u001b[1;32m----> 1\u001b[1;33m \u001b[0mnext_state\u001b[0m\u001b[1;33m(\u001b[0m\u001b[0mwall\u001b[0m\u001b[1;33m,\u001b[0m \u001b[0mpart\u001b[0m\u001b[1;33m)\u001b[0m\u001b[1;33m\u001b[0m\u001b[0m\n\u001b[0m",
      "\u001b[1;31mNameError\u001b[0m: name 'next_state' is not defined"
     ]
    }
   ],
   "source": [
    "next_state(wall, part)"
   ]
  },
  {
   "cell_type": "code",
   "execution_count": null,
   "metadata": {
    "collapsed": true
   },
   "outputs": [],
   "source": []
  }
 ],
 "metadata": {
  "kernelspec": {
   "display_name": "Python 3",
   "language": "python",
   "name": "python3"
  },
  "language_info": {
   "codemirror_mode": {
    "name": "ipython",
    "version": 3
   },
   "file_extension": ".py",
   "mimetype": "text/x-python",
   "name": "python",
   "nbconvert_exporter": "python",
   "pygments_lexer": "ipython3",
   "version": "3.6.3"
  }
 },
 "nbformat": 4,
 "nbformat_minor": 2
}
