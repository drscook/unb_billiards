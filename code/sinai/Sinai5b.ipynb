{
 "cells": [
  {
   "cell_type": "markdown",
   "metadata": {},
   "source": [
    "Goals: Test Birkhoff Ergodic Theorem"
   ]
  },
  {
   "cell_type": "code",
   "execution_count": 6,
   "metadata": {},
   "outputs": [
    {
     "data": {
      "image/png": "[encoded data removed]",
      "text/plain": [
       "<matplotlib.figure.Figure at 0x1f593aaff60>"
      ]
     },
     "metadata": {},
     "output_type": "display_data"
    }
   ],
   "source": [
    "side = 10\n",
    "particle_radius = 2\n",
    "scatter_radius_crit = (side - particle_radius)/2**(1/2) - particle_radius\n",
    "scatter_radius = scatter_radius_crit * 0.9\n",
    "\n",
    "num_walls = 5\n",
    "hole = 3\n",
    "max_steps = 10000000\n",
    "seed = None\n",
    "\n",
    "%run -i Sinai_billiard_defs.py\n",
    "\n",
    "x = 0.0\n",
    "y = -y_range\n",
    "speed = 1.0\n",
    "theta = np.pi/4*1.0001\n",
    "result = run_trial(x, y, speed, theta, max_escapes = 3000)\n",
    "\n",
    "# result = run_trial(max_escapes = 100)\n",
    "\n",
    "escapes = result[4]\n",
    "collisions = np.arange(len(escapes))\n",
    "with np.errstate(all='ignore'):\n",
    "    ce_ratio = collisions / escapes\n",
    "\n",
    "plt.plot(ce_ratio)\n",
    "plt.plot(np.full_like(ce_ratio,bdy_hole_ratio))\n",
    "plt.show()"
   ]
  },
  {
   "cell_type": "code",
   "execution_count": 6,
   "metadata": {},
   "outputs": [
    {
     "data": {
      "application/vnd.jupyter.widget-view+json": {
       "model_id": "561afec55f184ec49a00c2da5c3ce452",
       "version_major": 2,
       "version_minor": 0
      },
      "text/plain": [
       "A Jupyter Widget"
      ]
     },
     "metadata": {},
     "output_type": "display_data"
    }
   ],
   "source": [
    "import matplotlib.pyplot as plt\n",
    "import ipywidgets as widgets\n",
    "def draw_hist(pos, t=None, ce_ratio=None):\n",
    "    dpos = np.diff(pos,axis=0)\n",
    "    max_steps = dpos.shape[0]\n",
    "    if t is None:\n",
    "        t = np.arange(max_steps)\n",
    "    \n",
    "    h = hole_range\n",
    "    x = x_range\n",
    "    y = y_range\n",
    "    side_bdy = np.array([(h,-y), (x,-y), (x,y), (-x,y), (-x,-y), (-h,-y)])\n",
    "    thetas = np.linspace(0, 2*np.pi, 100)\n",
    "    scatter_bdy = scatter_range * np.array([np.cos(thetas), np.sin(thetas)]).T\n",
    "\n",
    "    def draw(steps=1):\n",
    "        print('steps = {}, time = {:.2f}'.format(steps, t[steps]))\n",
    "        if ce_ratio is not None:\n",
    "            print('boundary length / hole length = {:.2f}, collisions / escapes = {:.2f}'.format(bdy_hole_ratio, ce_ratio[steps]))\n",
    "        fig, ax = plt.subplots(figsize=[5,5])\n",
    "        ax.plot(side_bdy[:,0], side_bdy[:,1])\n",
    "        ax.fill(scatter_bdy[:,0], scatter_bdy[:,1])\n",
    "        ax.quiver(pos[:steps,0], pos[:steps,1], dpos[:steps,0], dpos[:steps,1], angles='xy', scale_units='xy', scale=1)\n",
    "        ax.set_aspect('equal')\n",
    "        plt.show()\n",
    "\n",
    "    widgets.interact(draw,steps=(1,max_steps));\n",
    "    \n",
    "draw_hist(pos=result[2], t=result[1], ce_ratio=ce_ratio)"
   ]
  },
  {
   "cell_type": "code",
   "execution_count": null,
   "metadata": {
    "collapsed": true
   },
   "outputs": [],
   "source": []
  }
 ],
 "metadata": {
  "kernelspec": {
   "display_name": "Python 3",
   "language": "python",
   "name": "python3"
  },
  "language_info": {
   "codemirror_mode": {
    "name": "ipython",
    "version": 3
   },
   "file_extension": ".py",
   "mimetype": "text/x-python",
   "name": "python",
   "nbconvert_exporter": "python",
   "pygments_lexer": "ipython3",
   "version": "3.6.3"
  }
 },
 "nbformat": 4,
 "nbformat_minor": 2
}
