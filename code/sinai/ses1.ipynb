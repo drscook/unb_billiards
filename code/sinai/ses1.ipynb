{
 "cells": [
  {
   "cell_type": "markdown",
   "metadata": {},
   "source": [
    "First, create objects for each wall and the particles.  Python (like many languages) allows you to define classes which are containers for attributes (information) and methods (functions).  We could probably make some progress without introducing this abstraction, but they will prove they useful as our code gets more complex.\n",
    "\n",
    "\n",
    "As with many things in this minicourse, we try to write code that is clear, not clever.  There are better ways to do this, but I think this is easiest to learn.\n",
    "\n",
    "Definitions:\n",
    "- A class is a type of object.\n",
    "- An instance is an object of that type.  Thus, we will make one class FlatWall and 4 instances of it.\n",
    "- An attribute is a piece of data \"attached\" to an object\n",
    "- A method is a funtion \"attached\" to an object.\n"
   ]
  },
  {
   "cell_type": "code",
   "execution_count": 1,
   "metadata": {
    "collapsed": true
   },
   "outputs": [],
   "source": [
    "import numpy as np\n",
    "import matplotlib.pyplot as plt\n",
    "\n",
    "dim = 2\n",
    "# cell size\n",
    "x0 = 10\n",
    "y0 = 10\n",
    "\n",
    "# Define empty classes to start.  We will add stuff here later.\n",
    "class Particles():\n",
    "    pass\n",
    "\n",
    "class Wall:\n",
    "    pass\n",
    "\n",
    "class FlatWall(Wall):\n",
    "    pass\n",
    "\n",
    "class CircleWall(Wall):\n",
    "    pass\n",
    "\n",
    "part = Particles()\n",
    "part.num = 3\n",
    "part.dim = dim\n",
    "part.radius = np.full(part.num, 3.0) # an array of length part.num flled with the radius\n",
    "\n",
    "wall = []\n",
    "for i in range(4):\n",
    "    wall.append(FlatWall())\n",
    "    wall[i].dim = dim\n",
    "\n",
    "wall[0].base_point = [x0, 0]\n",
    "wall[0].normal = [-1, 0]\n",
    "wall[0].tangent = [0, y0]\n",
    "\n",
    "wall[1].base_point = [0, y0]\n",
    "wall[1].normal = [0, -1]\n",
    "wall[1].tangent = [-x0,0]\n",
    "\n",
    "wall[2].base_point = [-x0, 0]\n",
    "wall[2].normal = [1, 0]\n",
    "wall[2].tangent = [0, -y0]\n",
    "\n",
    "wall[3].base_point = [0, -y0]\n",
    "wall[3].normal = [0, 1]\n",
    "wall[3].tangent = [x0, 0]\n",
    "\n",
    "\n",
    "wall.append(CircleWall())\n",
    "wall[4].base_point = [0,0]\n",
    "wall[4].radius = 1"
   ]
  },
  {
   "cell_type": "markdown",
   "metadata": {},
   "source": [
    "We'd like to plot the cell to makes sure it looks right.  We'll create a mesh of points for each wall using numpy linspace to get 100 evenly spaced numbers from -1 to 1."
   ]
  },
  {
   "cell_type": "code",
   "execution_count": 18,
   "metadata": {},
   "outputs": [
    {
     "name": "stdout",
     "output_type": "stream",
     "text": [
      "[-1.         -0.97979798 -0.95959596 -0.93939394 -0.91919192 -0.8989899\n",
      " -0.87878788 -0.85858586 -0.83838384 -0.81818182 -0.7979798  -0.77777778\n",
      " -0.75757576 -0.73737374 -0.71717172 -0.6969697  -0.67676768 -0.65656566\n",
      " -0.63636364 -0.61616162 -0.5959596  -0.57575758 -0.55555556 -0.53535354\n",
      " -0.51515152 -0.49494949 -0.47474747 -0.45454545 -0.43434343 -0.41414141\n",
      " -0.39393939 -0.37373737 -0.35353535 -0.33333333 -0.31313131 -0.29292929\n",
      " -0.27272727 -0.25252525 -0.23232323 -0.21212121 -0.19191919 -0.17171717\n",
      " -0.15151515 -0.13131313 -0.11111111 -0.09090909 -0.07070707 -0.05050505\n",
      " -0.03030303 -0.01010101  0.01010101  0.03030303  0.05050505  0.07070707\n",
      "  0.09090909  0.11111111  0.13131313  0.15151515  0.17171717  0.19191919\n",
      "  0.21212121  0.23232323  0.25252525  0.27272727  0.29292929  0.31313131\n",
      "  0.33333333  0.35353535  0.37373737  0.39393939  0.41414141  0.43434343\n",
      "  0.45454545  0.47474747  0.49494949  0.51515152  0.53535354  0.55555556\n",
      "  0.57575758  0.5959596   0.61616162  0.63636364  0.65656566  0.67676768\n",
      "  0.6969697   0.71717172  0.73737374  0.75757576  0.77777778  0.7979798\n",
      "  0.81818182  0.83838384  0.85858586  0.87878788  0.8989899   0.91919192\n",
      "  0.93939394  0.95959596  0.97979798  1.        ]\n"
     ]
    },
    {
     "ename": "ValueError",
     "evalue": "operands could not be broadcast together with shapes (100,) (2,) ",
     "output_type": "error",
     "traceback": [
      "\u001b[1;31m---------------------------------------------------------------------------\u001b[0m",
      "\u001b[1;31mValueError\u001b[0m                                Traceback (most recent call last)",
      "\u001b[1;32m<ipython-input-18-661e67164501>\u001b[0m in \u001b[0;36m<module>\u001b[1;34m()\u001b[0m\n\u001b[0;32m      2\u001b[0m \u001b[0mprint\u001b[0m\u001b[1;33m(\u001b[0m\u001b[0ms\u001b[0m\u001b[1;33m)\u001b[0m\u001b[1;33m\u001b[0m\u001b[0m\n\u001b[0;32m      3\u001b[0m \u001b[1;32mfor\u001b[0m \u001b[0mw\u001b[0m \u001b[1;32min\u001b[0m \u001b[0mwall\u001b[0m\u001b[1;33m[\u001b[0m\u001b[1;33m:\u001b[0m\u001b[1;36m4\u001b[0m\u001b[1;33m]\u001b[0m\u001b[1;33m:\u001b[0m\u001b[1;33m\u001b[0m\u001b[0m\n\u001b[1;32m----> 4\u001b[1;33m     \u001b[0mw\u001b[0m\u001b[1;33m.\u001b[0m\u001b[0mmesh\u001b[0m \u001b[1;33m=\u001b[0m \u001b[0mw\u001b[0m\u001b[1;33m.\u001b[0m\u001b[0mbase_point\u001b[0m \u001b[1;33m+\u001b[0m \u001b[0ms\u001b[0m\u001b[1;33m*\u001b[0m\u001b[0mw\u001b[0m\u001b[1;33m.\u001b[0m\u001b[0mtangent\u001b[0m\u001b[1;33m\u001b[0m\u001b[0m\n\u001b[0m\u001b[0;32m      5\u001b[0m \u001b[0mprint\u001b[0m\u001b[1;33m(\u001b[0m\u001b[0mwall\u001b[0m\u001b[1;33m[\u001b[0m\u001b[1;36m0\u001b[0m\u001b[1;33m]\u001b[0m\u001b[1;33m.\u001b[0m\u001b[0mmesh\u001b[0m\u001b[1;33m.\u001b[0m\u001b[0mshape\u001b[0m\u001b[1;33m)\u001b[0m\u001b[1;33m\u001b[0m\u001b[0m\n",
      "\u001b[1;31mValueError\u001b[0m: operands could not be broadcast together with shapes (100,) (2,) "
     ]
    }
   ],
   "source": [
    "s = np.linspace(-1,1,100)\n",
    "print(s)\n",
    "for w in wall[:4]:\n",
    "    w.mesh = w.base_point + s*w.tangent\n",
    "print(wall[0].mesh.shape)"
   ]
  },
  {
   "cell_type": "markdown",
   "metadata": {},
   "source": [
    "That did not work for 2 reasons.  The error says the shapes are not compatible.  We'll fix that later, but there is another problem we must handle first: base_point and tangent are python lists.  They do not know matrix algebra.  See:"
   ]
  },
  {
   "cell_type": "code",
   "execution_count": 19,
   "metadata": {},
   "outputs": [
    {
     "name": "stdout",
     "output_type": "stream",
     "text": [
      "[1, 2, 3]\n",
      "[1, 2, 3, 1, 2, 3, 1, 2, 3, 1, 2, 3, 1, 2, 3]\n"
     ]
    }
   ],
   "source": [
    "L = [1,2,3]\n",
    "print(L)\n",
    "print(5*L)"
   ]
  },
  {
   "cell_type": "markdown",
   "metadata": {},
   "source": [
    "We wanted [5,10,15], but got 5 copies of L.  Numpy implements matrix algebra.  Numpy uses the name \"array\" for all vectors and matrices."
   ]
  },
  {
   "cell_type": "code",
   "execution_count": 20,
   "metadata": {},
   "outputs": [
    {
     "name": "stdout",
     "output_type": "stream",
     "text": [
      "[1 2 3]\n",
      "[ 5 10 15]\n"
     ]
    }
   ],
   "source": [
    "L = np.asarray([1,2,3])\n",
    "print(L)\n",
    "print(5*L)"
   ]
  },
  {
   "cell_type": "markdown",
   "metadata": {},
   "source": [
    "So, we will convert everything to numpy arrays. We will also force them to be floats to avoid problems.  Notice of the array above has dtype int."
   ]
  },
  {
   "cell_type": "code",
   "execution_count": 21,
   "metadata": {},
   "outputs": [
    {
     "data": {
      "text/plain": [
       "dtype('int32')"
      ]
     },
     "execution_count": 21,
     "metadata": {},
     "output_type": "execute_result"
    }
   ],
   "source": [
    "L.dtype"
   ]
  },
  {
   "cell_type": "markdown",
   "metadata": {},
   "source": [
    "This can occasionally cause problems - it can trigger integer division rather than float division.  If this happens, we will get 3 / 2 = 1 or 2 rather than 1.5.  This was a bigger problem in earlier versions of Python which has been largerly fixed now.  But I still prefer to add safeguards when convenient."
   ]
  },
  {
   "cell_type": "code",
   "execution_count": 22,
   "metadata": {},
   "outputs": [
    {
     "name": "stdout",
     "output_type": "stream",
     "text": [
      "<class 'numpy.ndarray'>\n",
      "<class 'numpy.ndarray'>\n"
     ]
    }
   ],
   "source": [
    "print(type(wall[0].base_point))\n",
    "for w in wall[:4]:\n",
    "    w.base_point = np.asarray(w.base_point).astype(float)\n",
    "    w.normal = np.asarray(w.normal).astype(float)\n",
    "    w.tangent = np.asarray(w.tangent).astype(float)\n",
    "print(type(wall[0].base_point))"
   ]
  },
  {
   "cell_type": "markdown",
   "metadata": {},
   "source": [
    "Now, let's try the mesh again."
   ]
  },
  {
   "cell_type": "code",
   "execution_count": 7,
   "metadata": {},
   "outputs": [
    {
     "ename": "ValueError",
     "evalue": "operands could not be broadcast together with shapes (100,) (2,) ",
     "output_type": "error",
     "traceback": [
      "\u001b[1;31m---------------------------------------------------------------------------\u001b[0m",
      "\u001b[1;31mValueError\u001b[0m                                Traceback (most recent call last)",
      "\u001b[1;32m<ipython-input-7-3f892b8c5d45>\u001b[0m in \u001b[0;36m<module>\u001b[1;34m()\u001b[0m\n\u001b[0;32m      1\u001b[0m \u001b[0ms\u001b[0m \u001b[1;33m=\u001b[0m \u001b[0mnp\u001b[0m\u001b[1;33m.\u001b[0m\u001b[0mlinspace\u001b[0m\u001b[1;33m(\u001b[0m\u001b[1;33m-\u001b[0m\u001b[1;36m1\u001b[0m\u001b[1;33m,\u001b[0m\u001b[1;36m1\u001b[0m\u001b[1;33m,\u001b[0m\u001b[1;36m100\u001b[0m\u001b[1;33m)\u001b[0m\u001b[1;33m\u001b[0m\u001b[0m\n\u001b[0;32m      2\u001b[0m \u001b[1;32mfor\u001b[0m \u001b[0mw\u001b[0m \u001b[1;32min\u001b[0m \u001b[0mwall\u001b[0m\u001b[1;33m[\u001b[0m\u001b[1;33m:\u001b[0m\u001b[1;36m4\u001b[0m\u001b[1;33m]\u001b[0m\u001b[1;33m:\u001b[0m\u001b[1;33m\u001b[0m\u001b[0m\n\u001b[1;32m----> 3\u001b[1;33m     \u001b[0mw\u001b[0m\u001b[1;33m.\u001b[0m\u001b[0mmesh\u001b[0m \u001b[1;33m=\u001b[0m \u001b[0mw\u001b[0m\u001b[1;33m.\u001b[0m\u001b[0mbase_point\u001b[0m \u001b[1;33m+\u001b[0m \u001b[0ms\u001b[0m\u001b[1;33m*\u001b[0m\u001b[0mw\u001b[0m\u001b[1;33m.\u001b[0m\u001b[0mtangent\u001b[0m\u001b[1;33m\u001b[0m\u001b[0m\n\u001b[0m\u001b[0;32m      4\u001b[0m \u001b[0mprint\u001b[0m\u001b[1;33m(\u001b[0m\u001b[0mwall\u001b[0m\u001b[1;33m[\u001b[0m\u001b[1;36m0\u001b[0m\u001b[1;33m]\u001b[0m\u001b[1;33m.\u001b[0m\u001b[0mmesh\u001b[0m\u001b[1;33m.\u001b[0m\u001b[0mshape\u001b[0m\u001b[1;33m)\u001b[0m\u001b[1;33m\u001b[0m\u001b[0m\n",
      "\u001b[1;31mValueError\u001b[0m: operands could not be broadcast together with shapes (100,) (2,) "
     ]
    }
   ],
   "source": [
    "s = np.linspace(-1,1,100)\n",
    "for w in wall[:4]:\n",
    "    w.mesh = w.base_point + s*w.tangent\n",
    "print(wall[0].mesh.shape)"
   ]
  },
  {
   "cell_type": "markdown",
   "metadata": {},
   "source": [
    "We still have the shape issue.  We want is s*w.tangent to be a 100x2 array.  Numpy will help us via its broadcasting rules: https://docs.scipy.org/doc/numpy-1.13.0/user/basics.broadcasting.html\n",
    "1. "
   ]
  },
  {
   "cell_type": "code",
   "execution_count": 8,
   "metadata": {},
   "outputs": [
    {
     "name": "stdout",
     "output_type": "stream",
     "text": [
      "nope\n",
      "(2,)\n",
      "(1, 2) (100, 1)\n",
      "(100, 2)\n"
     ]
    }
   ],
   "source": [
    "t = wall[0].tangent.copy()\n",
    "try:\n",
    "    m = s*t\n",
    "    print(m.shape)\n",
    "except:\n",
    "    print('nope')\n",
    "\n",
    "print(t.shape)\n",
    "t = t[np.newaxis,:]\n",
    "s = s[:,np.newaxis]\n",
    "print(t.shape,s.shape)\n",
    "\n",
    "try:\n",
    "    m = s*t\n",
    "    print(m.shape)\n",
    "except:\n",
    "    print('nope')\n"
   ]
  },
  {
   "cell_type": "code",
   "execution_count": 9,
   "metadata": {},
   "outputs": [
    {
     "name": "stdout",
     "output_type": "stream",
     "text": [
      "(100, 2)\n"
     ]
    }
   ],
   "source": [
    "s = np.linspace(-1,1,100)\n",
    "s = s[:,np.newaxis]\n",
    "for w in wall[:4]:\n",
    "    w.mesh = w.base_point + s*w.tangent[np.newaxis,:]\n",
    "print(wall[0].mesh.shape)"
   ]
  },
  {
   "cell_type": "code",
   "execution_count": 18,
   "metadata": {
    "collapsed": true
   },
   "outputs": [],
   "source": [
    "theta = np.linspace(0,2*np.pi,100)\n",
    "w = wall[4]\n",
    "w.mesh = np.array([np.cos(theta), np.sin(theta)]).T * w.radius + w.base_point"
   ]
  },
  {
   "cell_type": "code",
   "execution_count": 20,
   "metadata": {},
   "outputs": [
    {
     "data": {
      "image/png": "[encoded data removed]",
      "text/plain": [
       "<matplotlib.figure.Figure at 0x195f8ab9668>"
      ]
     },
     "metadata": {},
     "output_type": "display_data"
    }
   ],
   "source": [
    "fig, ax = plt.subplots()\n",
    "for w in wall:\n",
    "    ax.plot(w.mesh[:,0], w.mesh[:,1], 'black')\n",
    "ax.set_aspect('equal')\n",
    "plt.show()"
   ]
  },
  {
   "cell_type": "markdown",
   "metadata": {},
   "source": [
    "Here's a version that works in n dimensions if you define n-1 a list of n-1 tangent vectors.  It uses\n",
    "- np.meshgrid: essentially the Cartesian product of the parameter values for each tangent\n",
    "- \"unpacking operator\" *: mesh.shape is (pts,dim) so mesh.T.shape is (dim,pts).  The * unpacks the first dimesion, giving dim vectors of length pts corresponding to each dimension.  "
   ]
  },
  {
   "cell_type": "code",
   "execution_count": 22,
   "metadata": {},
   "outputs": [
    {
     "data": {
      "image/png": "[encoded data removed]",
      "text/plain": [
       "<matplotlib.figure.Figure at 0x195f8b5de48>"
      ]
     },
     "metadata": {},
     "output_type": "display_data"
    }
   ],
   "source": [
    "def flat_mesh(tangents):\n",
    "    pts = 100\n",
    "    N, D = tangents.shape\n",
    "    grid = [np.linspace(-1, 1, pts) for n in range(N)]\n",
    "    grid = np.meshgrid(*grid)\n",
    "    grid = np.asarray(grid)\n",
    "    mesh = grid.T.dot(tangents)\n",
    "    return mesh\n",
    "\n",
    "def sphere_mesh(dim, radius):\n",
    "    pts = 100\n",
    "    grid = [np.linspace(0, np.pi, pts) for d in range(dim-1)]\n",
    "    grid[-1] *= 2\n",
    "    grid = np.meshgrid(*grid)                           \n",
    "    mesh = []\n",
    "    for d in range(dim):\n",
    "        w = radius * np.ones_like(grid[0])\n",
    "        for j in range(d):\n",
    "            w *= np.sin(grid[j])\n",
    "        if d < dim-1:\n",
    "            w *= np.cos(grid[d])\n",
    "        mesh.append(w)\n",
    "    return np.asarray(mesh).T\n",
    "\n",
    "fig, ax = plt.subplots()\n",
    "for w in wall:\n",
    "    ax.plot(*(w.mesh.T), 'black')\n",
    "ax.set_aspect('equal')\n",
    "plt.show()"
   ]
  },
  {
   "cell_type": "markdown",
   "metadata": {},
   "source": [
    "Let's collect the good code.  Later, we may want to put the mesh making code into a function or method."
   ]
  },
  {
   "cell_type": "code",
   "execution_count": 1,
   "metadata": {},
   "outputs": [
    {
     "data": {
      "image/png": "[encoded data removed]",
      "text/plain": [
       "<matplotlib.figure.Figure at 0x17c54e24d68>"
      ]
     },
     "metadata": {},
     "output_type": "display_data"
    }
   ],
   "source": [
    "import numpy as np\n",
    "import matplotlib.pyplot as plt\n",
    "\n",
    "dim = 2\n",
    "# cell size\n",
    "x0 = 10\n",
    "y0 = 10\n",
    "\n",
    "# We will add stuff here later\n",
    "class Particles():\n",
    "    pass\n",
    "\n",
    "class Wall:\n",
    "    pass\n",
    "\n",
    "class FlatWall(Wall):\n",
    "    pass\n",
    "\n",
    "class CircleWall(Wall):\n",
    "    pass\n",
    "\n",
    "part = Particles()\n",
    "part.num = 3\n",
    "part.dim = dim\n",
    "part.radius = np.full(part.num, 3.0) # an array of length part.num flled with the radius\n",
    "\n",
    "wall = []\n",
    "for i in range(4):\n",
    "    wall.append(FlatWall())\n",
    "    wall[i].dim = dim\n",
    "\n",
    "wall[0].base_point = [x0, 0]\n",
    "wall[0].normal = [-1, 0]\n",
    "wall[0].tangent = [0, y0]\n",
    "\n",
    "wall[1].base_point = [0, y0]\n",
    "wall[1].normal = [0, -1]\n",
    "wall[1].tangent = [-x0,0]\n",
    "\n",
    "wall[2].base_point = [-x0, 0]\n",
    "wall[2].normal = [1, 0]\n",
    "wall[2].tangent = [0, -y0]\n",
    "\n",
    "wall[3].base_point = [0, -y0]\n",
    "wall[3].normal = [0, 1]\n",
    "wall[3].tangent = [x0, 0]\n",
    "\n",
    "\n",
    "wall.append(CircleWall())\n",
    "wall[4].base_point = np.asarray([0,0])\n",
    "wall[4].radius = 1\n",
    "\n",
    "for w in wall[:4]:\n",
    "    w.base_point = np.asarray(w.base_point).astype(float)\n",
    "    w.normal = np.asarray(w.normal).astype(float)\n",
    "    w.tangent = np.asarray(w.tangent).astype(float)\n",
    "\n",
    "\n",
    "s = np.linspace(-1,1,100)\n",
    "s = s[:,np.newaxis]\n",
    "for w in wall[:4]:\n",
    "    w.mesh = w.base_point + s*w.tangent[np.newaxis,:]\n",
    "\n",
    "theta = np.linspace(0,2*np.pi,100)\n",
    "w = wall[4]\n",
    "w.mesh = np.array([np.cos(theta), np.sin(theta)]).T * w.radius + w.base_point\n",
    "\n",
    "fig, ax = plt.subplots()\n",
    "for w in wall:\n",
    "    ax.plot(w.mesh[:,0], w.mesh[:,1], 'black')\n",
    "ax.set_aspect('equal')\n",
    "plt.show()"
   ]
  },
  {
   "cell_type": "markdown",
   "metadata": {},
   "source": [
    "Now, let's initialize the particles.  Velocity is fairly simple, but position is harder."
   ]
  },
  {
   "cell_type": "code",
   "execution_count": null,
   "metadata": {
    "collapsed": true
   },
   "outputs": [],
   "source": [
    "rnd = np.random.RandomState(42)  # so we all get the same random numbers\n",
    "part.vel = rnd.normal(0, 1, [part.num, part.dim])\n",
    "part.vel.shape"
   ]
  },
  {
   "cell_type": "markdown",
   "metadata": {},
   "source": [
    "For position, we want to define the allowed values.  We will want this later to resolve collisions too, so we pause for a little more machinery."
   ]
  },
  {
   "cell_type": "code",
   "execution_count": null,
   "metadata": {
    "collapsed": true
   },
   "outputs": [],
   "source": [
    "for w in wall:\n",
    "    w.wp_min_gap = part"
   ]
  },
  {
   "cell_type": "code",
   "execution_count": 17,
   "metadata": {
    "collapsed": true
   },
   "outputs": [],
   "source": [
    "part.cell_size = [[-x0,x0],[-y0,y0]]\n",
    "part.pos = np.full([part.num, part.dim], np.inf)\n",
    "for p in range(part.num):\n",
    "    for d in range(part.dim):\n",
    "        part.pos[p,d] = rnd.uniform(part.cell_size[d][0], part.cell_size[d][1])\n",
    "        "
   ]
  },
  {
   "cell_type": "code",
   "execution_count": null,
   "metadata": {
    "collapsed": true
   },
   "outputs": [],
   "source": [
    "import numpy as np\n",
    "\n",
    "def get_wp_col_time():\n",
    "    t = \n",
    "    nu = self.normal()\n",
    "    dx = (part.pos - self.base_point)\n",
    "    c = dx.dot(nu)\n",
    "    b = -1 * part.vel.dot(nu)\n",
    "    t = c / b\n",
    "    return t"
   ]
  },
  {
   "cell_type": "code",
   "execution_count": null,
   "metadata": {
    "collapsed": true
   },
   "outputs": [],
   "source": [
    "def get_wp_col_time():\n",
    "    nu = self.normal()\n",
    "    dx = (part.pos - self.base_point)\n",
    "    c = dx.dot(nu)\n",
    "    b = -1 * part.vel.dot(nu)\n",
    "    t = c / b\n",
    "    return t\n",
    "\n"
   ]
  }
 ],
 "metadata": {
  "kernelspec": {
   "display_name": "Python 3",
   "language": "python",
   "name": "python3"
  },
  "language_info": {
   "codemirror_mode": {
    "name": "ipython",
    "version": 3
   },
   "file_extension": ".py",
   "mimetype": "text/x-python",
   "name": "python",
   "nbconvert_exporter": "python",
   "pygments_lexer": "ipython3",
   "version": "3.6.3"
  }
 },
 "nbformat": 4,
 "nbformat_minor": 2
}
