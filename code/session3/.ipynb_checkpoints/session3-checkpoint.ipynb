{
 "cells": [
  {
   "cell_type": "markdown",
   "metadata": {},
   "source": [
    "## Mathematical Simulation in Python, Billiard Dynamical Systems\n",
    "### Summer Workshop in Mathematics, University of Brasilia\n",
    "### Summer 2018, Session 3, Scott Cook"
   ]
  },
  {
   "cell_type": "markdown",
   "metadata": {},
   "source": [
    "Goal: Implement the \"No-Slip\" collision of Chris Cox and Renato Feres.  See:\n",
    "- https://github.com/drscook/unb_billiards/blob/master/references/Non-standard%20billiards/No%20Slip%20law/broomhead_gutkin_1992.pdf - first introduction of the no-slip law, restricted to 2 dimensional collisions\n",
    "- https://github.com/drscook/unb_billiards/blob/master/references/Non-standard%20billiards/No%20Slip%20law/cox_feres_2016.pdf - Simulation study of no-slip billiard systems\n",
    "- https://github.com/drscook/unb_billiards/blob/master/references/Non-standard%20billiards/No%20Slip%20law/cox_feres_ward_2015.pdf - Theoretical classification of collision laws\n",
    "- https://github.com/drscook/unb_billiards/blob/master/references/Non-standard%20billiards/No%20Slip%20law/cox_feres_zhang2018.pdf - Stability study of no-slip billiard systems\n",
    "- https://github.com/drscook/unb_billiards/blob/master/references/Non-standard%20billiards/No%20Slip%20law/feres_N_dim_no_slip_law_2017.pdf - Derivation of no-slip collision law in arbitrary dimension last 2 pages (handwritten notes from Renato Feres - to be published)"
   ]
  },
  {
   "cell_type": "markdown",
   "metadata": {},
   "source": [
    "We will implement the version that works in any dimension derived in Renato Feres's notes (last reference above).  It is much easier to *understand* the derivation in 2 dimensions in Broomhead and Gutkin's 1992 paper, but we will code the more general version in arbitrary dimension.\n",
    "\n",
    "To do this, we need to implement angular positions and velocities.  See https://en.wikipedia.org/wiki/Rotation_matrix.  Let d = dimension\n",
    "- angular position\n",
    "    - Variable name = orient\n",
    "    - $d \\times d$ orthogonal matrix\n",
    "    \n",
    "- angular velocity\n",
    "    - Variable name = spin\n",
    "    - $d \\times d$ skew-symmetric matrix\n",
    "- evolution between collisions:\n",
    "    - Say the particle leaves a collision with orientation $A$ and spin $U$ and travels for time $t$.  Then the new orientation $A' = e^{t U} A$, where $e$ is the matrix exponential https://en.wikipedia.org/wiki/Matrix_exponential.\n",
    "- Collision between 2 particles:\n",
    "    - Denote the state of a particle with a 4-tuple (pos, vel, orient, spin).\n",
    "        - $(a_1^-, u_1^-, A_1^-, U_1^-)$ be incoming state of particle 1\n",
    "        - $(a_2^-, u_2^-, A_2^-, U_2^-)$ be incoming state of particle 2\n",
    "        - $(a_1^+, u_1^+, A_1^+, U_1^+)$ be outgoing state of particle 1\n",
    "        - $(a_2^+, u_2^+, A_2^+, U_2^+)$ be outgoing state of particle 2\n",
    "    - Clearly $a_1^- = a_1^+$, $a_2^+ = a_2^+$ because position does not change during a collision\n",
    "    - Clearly $A_1^- = A_1^+$, $A_2^+ = A_2^+$ because orientation does not change during a collision\n",
    "    - The remaining + variables are given in terms of the - variables by the no-slip collision law on p.23 of https://github.com/drscook/unb_billiards/blob/master/references/Non-standard%20billiards/No%20Slip%20law/feres_N_dim_no_slip_law_2017.pdf"
   ]
  },
  {
   "cell_type": "markdown",
   "metadata": {},
   "source": [
    "### Step 1 - Implement orientation and spin variables\n",
    "\n",
    "This will involve 2 types of variables:\n",
    "- physical constants\n",
    "    - refs\n",
    "        - Dim 2 - http://ec2-54-242-24-75.compute-1.amazonaws.com:8000/user/scook/files/unb_billiards/references/Non-standard%20billiards/No%20Slip%20law/cox_feres_zhang2018.pdf, page 4\n",
    "        - Dim d - https://github.com/drscook/unb_billiards/blob/master/references/Non-standard%20billiards/No%20Slip%20law/feres_N_dim_no_slip_law_2017.pdf, page 1\n",
    "    - radius $r$\n",
    "    - mass $m$\n",
    "    - mass distribution $\\gamma$\n",
    "        - $0 \\leq \\gamma \\leq \\sqrt{2/d}$\n",
    "        - $\\gamma = 0 \\implies$ all mass at center (point mass)\n",
    "        - $\\gamma = \\sqrt{2/(2+d)} \\implies$ uniform mass distribution\n",
    "        - $\\gamma = \\sqrt{2/d} \\implies$ mass along boundary (shell)\n",
    "    - Moment of inertia $I = m * (\\gamma * r)^2$\n",
    "- dynamical quantites\n",
    "    - translation\n",
    "        - position\n",
    "        - velocity\n",
    "    - rotation\n",
    "        - orientation\n",
    "        - spin"
   ]
  },
  {
   "cell_type": "code",
   "execution_count": null,
   "metadata": {},
   "outputs": [],
   "source": [
    "%%time\n",
    "%matplotlib inline\n",
    "seed = 10\n",
    "# Note we use version 2d now\n",
    "%run -i billiard_defs_2d.py\n",
    "\n",
    "dim = 2\n",
    "R_particle = 1.0\n",
    "R_scatter = 10.0\n",
    "\n",
    "R = R_particle + R_scatter\n",
    "gap_crit = (2/np.sqrt(3) - 1) * R\n",
    "gap = 0.99 * gap_crit\n",
    "\n",
    "x0 = R + gap\n",
    "y0 = np.sqrt(3) * x0\n",
    "\n",
    "wall = [FlatWall(dim=dim, base_point=[-x0, 0], normal=[1, 0], tangents=[[0, y0]], wp_collision_law='wp_wrap', wrap_dim=0, wrap_wall=1)\n",
    "        ,FlatWall(dim=dim, base_point=[x0, 0], normal=[-1, 0], tangents=[[0, -y0]], wp_collision_law='wp_wrap', wrap_dim=0, wrap_wall=0)\n",
    "        ,FlatWall(dim=dim, base_point=[0, -y0], normal=[0, 1], tangents=[[-x0, 0]], wp_collision_law='wp_wrap', wrap_dim=1, wrap_wall=3)\n",
    "        ,FlatWall(dim=dim, base_point=[0, y0], normal=[0, -1], tangents=[[x0, 0]], wp_collision_law='wp_wrap', wrap_dim=1, wrap_wall=2)\n",
    "        ,SphereWall(dim=dim, base_point=[0,0], radius=R_scatter, gap_pad=R_particle)\n",
    "        ,SphereWall(dim=dim, base_point=[-x0, -y0], radius=R_scatter, gap_pad=R_particle)\n",
    "        ,SphereWall(dim=dim, base_point=[x0, -y0], radius=R_scatter, gap_pad=R_particle)\n",
    "        ,SphereWall(dim=dim, base_point=[-x0, y0], radius=R_scatter, gap_pad=R_particle)\n",
    "        ,SphereWall(dim=dim, base_point=[x0, y0], radius=R_scatter, gap_pad=R_particle)\n",
    "       ]\n",
    "for (i, w) in enumerate(wall):\n",
    "    w.idx = i\n",
    "\n",
    "num = 750\n",
    "part = Particles(max_steps=50000, cell_size=[x0, y0], dim=dim, num=num\n",
    "                 , mass  = 1.0\n",
    "                 , radius= R_particle\n",
    "                 , gamma = 'uniform'\n",
    "                )\n",
    "part.cell_size = [x0, y0]\n",
    "\n",
    "theta = rnd.uniform(0, 2*np.pi, num)\n",
    "part.pos = 1.1 * wall[4].wp_gap_min * np.asarray([np.cos(theta), np.sin(theta)]).T\n",
    "\n",
    "phi = rnd.uniform(0, 2*np.pi, num)\n",
    "speed = 1.0\n",
    "part.vel = speed * np.asarray([np.cos(phi), np.sin(phi)]).T\n",
    "\n",
    "part.KE_init = part.get_KE().sum()\n",
    "\n",
    "part.record_state()\n",
    "for step in range(part.max_steps):\n",
    "    next_state(wall, part)\n",
    "\n",
    "clean_up(part)"
   ]
  }
 ],
 "metadata": {
  "kernelspec": {
   "display_name": "Python 3",
   "language": "python",
   "name": "python3"
  },
  "language_info": {
   "codemirror_mode": {
    "name": "ipython",
    "version": 3
   },
   "file_extension": ".py",
   "mimetype": "text/x-python",
   "name": "python",
   "nbconvert_exporter": "python",
   "pygments_lexer": "ipython3",
   "version": "3.4.7"
  }
 },
 "nbformat": 4,
 "nbformat_minor": 2
}
