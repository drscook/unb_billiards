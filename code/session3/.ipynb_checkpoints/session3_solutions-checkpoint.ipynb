{
 "cells": [
  {
   "cell_type": "markdown",
   "metadata": {},
   "source": [
    "## Mathematical Simulation in Python, Billiard Dynamical Systems\n",
    "### Summer Workshop in Mathematics, University of Brasilia\n",
    "### Summer 2018, Session 3, Scott Cook"
   ]
  },
  {
   "cell_type": "markdown",
   "metadata": {},
   "source": [
    "Goal: Implement the \"No-Slip\" collision of Chris Cox and Renato Feres.  See:\n",
    "- https://github.com/drscook/unb_billiards/blob/master/references/Non-standard%20billiards/No%20Slip%20law/broomhead_gutkin_1992.pdf - first introduction of the no-slip law, restricted to 2 dimensional collisions\n",
    "- https://github.com/drscook/unb_billiards/blob/master/references/Non-standard%20billiards/No%20Slip%20law/cox_feres_2016.pdf - Simulation study of no-slip billiard systems\n",
    "- https://github.com/drscook/unb_billiards/blob/master/references/Non-standard%20billiards/No%20Slip%20law/cox_feres_ward_2015.pdf - Theoretical classification of collision laws\n",
    "- https://github.com/drscook/unb_billiards/blob/master/references/Non-standard%20billiards/No%20Slip%20law/cox_feres_zhang2018.pdf - Stability study of no-slip billiard systems\n",
    "- https://github.com/drscook/unb_billiards/blob/master/references/Non-standard%20billiards/No%20Slip%20law/feres_N_dim_no_slip_law_2017.pdf - Derivation of no-slip collision law in arbitrary dimension last 2 pages (handwritten notes from Renato Feres - to be published)"
   ]
  },
  {
   "cell_type": "markdown",
   "metadata": {},
   "source": [
    "We will implement the version that works in any dimension derived in Renato Feres's notes (last reference above).  It is much easier to *understand* the derivation in 2 dimensions in Broomhead and Gutkin's 1992 paper, but we will code the more general version in arbitrary dimension.\n",
    "\n",
    "To do this, we need to implement angular positions and velocities.  See https://en.wikipedia.org/wiki/Rotation_matrix.  Let d = dimension\n",
    "- angular position\n",
    "    - Variable name = orient\n",
    "    - $d \\times d$ orthogonal matrix\n",
    "    \n",
    "- angular velocity\n",
    "    - Variable name = spin\n",
    "    - $d \\times d$ skew-symmetric matrix\n",
    "- evolution between collisions:\n",
    "    - Say the particle leaves a collision with orientation $A$ and spin $U$ and travels for time $t$.  Then the new orientation $A' = e^{t U} A$, where $e$ is the matrix exponential https://en.wikipedia.org/wiki/Matrix_exponential.\n",
    "- Collision between 2 particles:\n",
    "    - Denote the state of a particle with a 4-tuple (pos, vel, orient, spin).\n",
    "        - $(a_1^-, u_1^-, A_1^-, U_1^-)$ be incoming state of particle 1\n",
    "        - $(a_2^-, u_2^-, A_2^-, U_2^-)$ be incoming state of particle 2\n",
    "        - $(a_1^+, u_1^+, A_1^+, U_1^+)$ be outgoing state of particle 1\n",
    "        - $(a_2^+, u_2^+, A_2^+, U_2^+)$ be outgoing state of particle 2\n",
    "    - Clearly $a_1^- = a_1^+$, $a_2^+ = a_2^+$ because position does not change during a collision\n",
    "    - Clearly $A_1^- = A_1^+$, $A_2^+ = A_2^+$ because orientation does not change during a collision\n",
    "    - The remaining + variables are given in terms of the - variables by the no-slip collision law on p.23 of https://github.com/drscook/unb_billiards/blob/master/references/Non-standard%20billiards/No%20Slip%20law/feres_N_dim_no_slip_law_2017.pdf"
   ]
  },
  {
   "cell_type": "markdown",
   "metadata": {},
   "source": [
    "### Step 1 - Implement orientation and spin variables\n",
    "\n",
    "This will involve 2 types of variables:\n",
    "- physical constants\n",
    "    - refs\n",
    "        - Dim 2 - http://ec2-54-242-24-75.compute-1.amazonaws.com:8000/user/scook/files/unb_billiards/references/Non-standard%20billiards/No%20Slip%20law/cox_feres_zhang2018.pdf, page 4\n",
    "        - Dim d - https://github.com/drscook/unb_billiards/blob/master/references/Non-standard%20billiards/No%20Slip%20law/feres_N_dim_no_slip_law_2017.pdf, page 1\n",
    "    - radius $r$\n",
    "    - mass $m$\n",
    "    - mass distribution $\\gamma$\n",
    "        - $0 \\leq \\gamma \\leq \\sqrt{2/d}$\n",
    "        - $\\gamma = 0 \\implies$ all mass at center (point mass)\n",
    "        - $\\gamma = \\sqrt{2/(2+d)} \\implies$ uniform mass distribution\n",
    "        - $\\gamma = \\sqrt{2/d} \\implies$ mass along boundary (shell)\n",
    "    - Moment of inertia $I = m * (\\gamma * r)^2$\n",
    "- dynamical quantites\n",
    "    - translation\n",
    "        - position\n",
    "        - velocity\n",
    "    - rotation\n",
    "        - orientation\n",
    "        - spin"
   ]
  },
  {
   "cell_type": "markdown",
   "metadata": {},
   "source": [
    "Sadly, we need quite a few helper function to make this work nicely.  We have added/changed the following to version 3a billiard_def:\n",
    "- wp_no_slip_law (method of Wall)\n",
    "- \\__init\\__ of Particle to record $\\gamma$ and compute $I$\n",
    "- Added equator to particles so we can see the spin\n",
    "- smoother - interpolates between collisions AND computes correct orientation\n",
    "- Several support functions\n",
    "    - make_symmetric - converts any square matrix into symmetric or skew-symmetric based on its upper triangle\n",
    "    - spin_matrix_from_vector and spin_vector_from_matrix - Because spin is skew-symmetric, we only need to track its upper triangle.  These converts between the $d \\times d$ skew-symmteric matrix and the $d(d-1)/2$ vector.  See https://en.wikipedia.org/wiki/Rotation_matrix#Rotation_matrix_from_axis_and_angleSee for the conventional way to do so. \n",
    "    - wedge, Pi_nu, Pi, Lambda_nu, E_nu, Gamma_nu - functions defined in Feres's notes for the arbtrary dimenional no-slip law\n",
    "    - random_uniform_sphere and random_uniform_ball - choose uniformly at random from n-dim sphere or ball\n",
    "    "
   ]
  },
  {
   "cell_type": "code",
   "execution_count": 1,
   "metadata": {},
   "outputs": [
    {
     "name": "stdout",
     "output_type": "stream",
     "text": [
      "Done!! Steps = 10, Time = 64.167392\n"
     ]
    },
    {
     "data": {
      "application/vnd.jupyter.widget-view+json": {
       "model_id": "1bf22fc3fc0e4e02985b446e53dd7afb",
       "version_major": 2,
       "version_minor": 0
      },
      "text/plain": [
       "A Jupyter Widget"
      ]
     },
     "metadata": {},
     "output_type": "display_data"
    }
   ],
   "source": [
    "%matplotlib inline\n",
    "seed = 10\n",
    "# Note we use version 3a now\n",
    "%run -i billiard_defs_3a.py\n",
    "\n",
    "dim = 2\n",
    "R_particle = 1.0\n",
    "R_scatter = 10.0\n",
    "\n",
    "R = R_particle + R_scatter\n",
    "gap_crit = (2/np.sqrt(3) - 1) * R\n",
    "gap = 0.99 * gap_crit\n",
    "\n",
    "x0 = R + gap\n",
    "y0 = np.sqrt(3) * x0\n",
    "\n",
    "wall = [FlatWall(dim=dim, base_point=[-x0, 0], normal=[1, 0], tangents=[[0, y0]], gap_pad=R_particle, wp_collision_law='wp_no_slip')\n",
    "        ,FlatWall(dim=dim, base_point=[x0, 0], normal=[-1, 0], tangents=[[0, -y0]], gap_pad=R_particle, wp_collision_law='wp_no_slip')\n",
    "        ,FlatWall(dim=dim, base_point=[0, -y0], normal=[0, 1], tangents=[[-x0, 0]], gap_pad=R_particle, wp_collision_law='wp_no_slip')\n",
    "        ,FlatWall(dim=dim, base_point=[0, y0], normal=[0, -1], tangents=[[x0, 0]], gap_pad=R_particle, wp_collision_law='wp_no_slip')\n",
    "        ,SphereWall(dim=dim, base_point=[0,0], radius=R_scatter, gap_pad=R_particle, wp_collision_law='wp_no_slip')\n",
    "#         ,SphereWall(dim=dim, base_point=[-x0, -y0], radius=R_scatter, gap_pad=R_particle)\n",
    "#         ,SphereWall(dim=dim, base_point=[x0, -y0], radius=R_scatter, gap_pad=R_particle)\n",
    "#         ,SphereWall(dim=dim, base_point=[-x0, y0], radius=R_scatter, gap_pad=R_particle)\n",
    "#         ,SphereWall(dim=dim, base_point=[x0, y0], radius=R_scatter, gap_pad=R_particle)\n",
    "       ]\n",
    "for (i, w) in enumerate(wall):\n",
    "    w.idx = i\n",
    "\n",
    "num = 2\n",
    "part = Particles(max_steps=10, cell_size=[x0, y0], dim=dim, num=num\n",
    "                 , mass  = 1.0\n",
    "                 , radius= R_particle\n",
    "                 , gamma = 'uniform'\n",
    "                )\n",
    "part.cell_size = [x0, y0]\n",
    "\n",
    "theta = rnd.uniform(0, 2*np.pi, num)\n",
    "part.pos = 1.01 * wall[4].wp_gap_min * np.asarray([np.cos(theta), np.sin(theta)]).T\n",
    "\n",
    "theta = rnd.uniform(0, 2*np.pi, num)\n",
    "speed = 1.0\n",
    "part.vel = speed * np.asarray([np.cos(theta), np.sin(theta)]).T\n",
    "\n",
    "part.orient = np.asarray([np.eye(part.dim)\n",
    "                          for p in range(part.num)]).astype(float)\n",
    "\n",
    "speed = 1.0\n",
    "m = int(part.dim*(part.dim-1)/2)\n",
    "part.spin = np.asarray([spin_matrix_from_vector([random_uniform_sphere(num=1, dim=m, radius=speed)])\n",
    "                        for p in range(part.num)]).astype(float)\n",
    "\n",
    "\n",
    "part.KE_init = part.get_KE().sum()\n",
    "part.record_state()\n",
    "for step in range(part.max_steps):\n",
    "    next_state(wall, part)\n",
    "\n",
    "clean_up(part)\n",
    "smoother(part,min_frames=1)\n",
    "interactive_plot()"
   ]
  },
  {
   "cell_type": "markdown",
   "metadata": {},
   "source": [
    "Exercises: https://github.com/drscook/unb_billiards/blob/master/references/Non-standard%20billiards/No%20Slip%20law/cox_feres_2016.pdf\n",
    "\n",
    "1. Reproduce fig5 on p.6\n",
    "2. Or fig6 on p.7\n",
    "3. Or fig9 on p.10\n",
    "4. Or fig10 on p.10\n",
    "5. Or some other systems that looks interested to you"
   ]
  },
  {
   "cell_type": "code",
   "execution_count": 8,
   "metadata": {},
   "outputs": [
    {
     "name": "stdout",
     "output_type": "stream",
     "text": [
      "Done!! Steps = 10000, Time = 50806.852737\n"
     ]
    },
    {
     "data": {
      "application/vnd.jupyter.widget-view+json": {
       "model_id": "20eec86eb31e4f5e8d19ee7afa50c653",
       "version_major": 2,
       "version_minor": 0
      },
      "text/plain": [
       "A Jupyter Widget"
      ]
     },
     "metadata": {},
     "output_type": "display_data"
    },
    {
     "name": "stdout",
     "output_type": "stream",
     "text": [
      "Wall time: 6.83 s\n"
     ]
    }
   ],
   "source": [
    "%%time\n",
    "%matplotlib inline\n",
    "seed = 42\n",
    "# Note we use version 3b now\n",
    "%run -i billiard_defs_3b.py\n",
    "\n",
    "dim = 2\n",
    "R_particle = 1.0\n",
    "x0 = 100000*R_particle\n",
    "y0 = 5*R_particle\n",
    "\n",
    "wall = [FlatWall(dim=dim, base_point=[0, -y0], normal=[0, 1], tangents=[[-x0, 0]], gap_pad=R_particle, wp_collision_law='wp_no_slip')\n",
    "        ,FlatWall(dim=dim, base_point=[0, y0], normal=[0, -1], tangents=[[x0, 0]], gap_pad=R_particle, wp_collision_law='wp_no_slip')\n",
    "        ]\n",
    "for (i, w) in enumerate(wall):\n",
    "    w.idx = i\n",
    "\n",
    "num = 2\n",
    "part = Particles(max_steps=10000, cell_size=[x0, y0], dim=dim, num=num\n",
    "                 , mass  = 1.0\n",
    "                 , radius= R_particle\n",
    "                 , gamma = 'uniform'\n",
    "                )\n",
    "part.cell_size = [x0, y0]\n",
    "\n",
    "theta = rnd.uniform(0, 2*np.pi, num)\n",
    "part.pos = np.asarray([[p*3*R_particle, 0.0] for p in range(part.num)])\n",
    "\n",
    "theta = rnd.uniform(0, 2*np.pi, num)\n",
    "speed = 1.0\n",
    "part.vel = speed * np.asarray([np.cos(theta), np.sin(theta)]).T\n",
    "\n",
    "part.orient = np.asarray([np.eye(part.dim)\n",
    "                          for p in range(part.num)]).astype(float)\n",
    "\n",
    "speed = 1.0\n",
    "m = int(part.dim*(part.dim-1)/2)\n",
    "part.spin = np.asarray([spin_matrix_from_vector([random_uniform_sphere(num=1, dim=m, radius=speed)])\n",
    "                        for p in range(part.num)]).astype(float)\n",
    "\n",
    "\n",
    "part.KE_init = part.get_KE().sum()\n",
    "part.record_state()\n",
    "for step in range(part.max_steps):\n",
    "    next_state(wall, part)\n",
    "\n",
    "clean_up(part)\n",
    "smoother(part,min_frames=1)\n",
    "m = np.min(part.re_pos[:,:,0])-5*R_particle\n",
    "M = np.max(part.re_pos[:,:,0])+5*R_particle\n",
    "wall[0].mesh = np.asarray([[m,-y0],[M,-y0]])\n",
    "wall[1].mesh = np.asarray([[m,y0],[M,y0]])\n",
    "interactive_plot()\n",
    "# draw_state()"
   ]
  }
 ],
 "metadata": {
  "kernelspec": {
   "display_name": "Python 3",
   "language": "python",
   "name": "python3"
  },
  "language_info": {
   "codemirror_mode": {
    "name": "ipython",
    "version": 3
   },
   "file_extension": ".py",
   "mimetype": "text/x-python",
   "name": "python",
   "nbconvert_exporter": "python",
   "pygments_lexer": "ipython3",
   "version": "3.6.3"
  }
 },
 "nbformat": 4,
 "nbformat_minor": 2
}
