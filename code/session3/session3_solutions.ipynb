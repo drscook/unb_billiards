{
 "cells": [
  {
   "cell_type": "markdown",
   "metadata": {},
   "source": [
    "## Mathematical Simulation in Python, Billiard Dynamical Systems\n",
    "### Summer Workshop in Mathematics, University of Brasilia\n",
    "### Summer 2018, Session 3, Scott Cook"
   ]
  },
  {
   "cell_type": "markdown",
   "metadata": {},
   "source": [
    "Goal: Implement the \"No-Slip\" collision of Chris Cox and Renato Feres.  See:\n",
    "- https://github.com/drscook/unb_billiards/blob/master/references/Non-standard%20billiards/No%20Slip%20law/broomhead_gutkin_1992.pdf - first introduction of the no-slip law, restricted to 2 dimensional collisions\n",
    "- https://github.com/drscook/unb_billiards/blob/master/references/Non-standard%20billiards/No%20Slip%20law/cox_feres_2016.pdf - Simulation study of no-slip billiard systems\n",
    "- https://github.com/drscook/unb_billiards/blob/master/references/Non-standard%20billiards/No%20Slip%20law/cox_feres_ward_2015.pdf - Theoretical classification of collision laws\n",
    "- https://github.com/drscook/unb_billiards/blob/master/references/Non-standard%20billiards/No%20Slip%20law/cox_feres_zhang2018.pdf - Stability study of no-slip billiard systems\n",
    "- https://github.com/drscook/unb_billiards/blob/master/references/Non-standard%20billiards/No%20Slip%20law/feres_N_dim_no_slip_law_2017.pdf - Derivation of no-slip collision law in arbitrary dimension last 2 pages (handwritten notes from Renato Feres - to be published)"
   ]
  },
  {
   "cell_type": "markdown",
   "metadata": {},
   "source": [
    "We will implement the version that works in any dimension derived in Renato Feres's notes (last reference above).  It is much easier to *understand* the derivation in 2 dimensions in Broomhead and Gutkin's 1992 paper, but we will code the more general version in arbitrary dimension.\n",
    "\n",
    "To do this, we need to implement angular positions and velocities.  See https://en.wikipedia.org/wiki/Rotation_matrix.  Let d = dimension\n",
    "- angular position\n",
    "    - Variable name = orient\n",
    "    - $d \\times d$ orthogonal matrix\n",
    "    \n",
    "- angular velocity\n",
    "    - Variable name = spin\n",
    "    - $d \\times d$ skew-symmetric matrix\n",
    "- evolution between collisions:\n",
    "    - Say the particle leaves a collision with orientation $A$ and spin $U$ and travels for time $t$.  Then the new orientation $A' = e^{t U} A$, where $e$ is the matrix exponential https://en.wikipedia.org/wiki/Matrix_exponential.\n",
    "- Collision between 2 particles:\n",
    "    - Denote the state of a particle with a 4-tuple (pos, vel, orient, spin).\n",
    "        - $(a_1^-, u_1^-, A_1^-, U_1^-)$ be incoming state of particle 1\n",
    "        - $(a_2^-, u_2^-, A_2^-, U_2^-)$ be incoming state of particle 2\n",
    "        - $(a_1^+, u_1^+, A_1^+, U_1^+)$ be outgoing state of particle 1\n",
    "        - $(a_2^+, u_2^+, A_2^+, U_2^+)$ be outgoing state of particle 2\n",
    "    - Clearly $a_1^- = a_1^+$, $a_2^+ = a_2^+$ because position does not change during a collision\n",
    "    - Clearly $A_1^- = A_1^+$, $A_2^+ = A_2^+$ because orientation does not change during a collision\n",
    "    - The remaining + variables are given in terms of the - variables by the no-slip collision law on p.23 of https://github.com/drscook/unb_billiards/blob/master/references/Non-standard%20billiards/No%20Slip%20law/feres_N_dim_no_slip_law_2017.pdf"
   ]
  },
  {
   "cell_type": "markdown",
   "metadata": {},
   "source": [
    "### Step 1 - Implement orientation and spin variables\n",
    "\n",
    "This will involve 2 types of variables:\n",
    "- physical constants\n",
    "    - refs\n",
    "        - Dim 2 - http://ec2-54-242-24-75.compute-1.amazonaws.com:8000/user/scook/files/unb_billiards/references/Non-standard%20billiards/No%20Slip%20law/cox_feres_zhang2018.pdf, page 4\n",
    "        - Dim d - https://github.com/drscook/unb_billiards/blob/master/references/Non-standard%20billiards/No%20Slip%20law/feres_N_dim_no_slip_law_2017.pdf, page 1\n",
    "    - radius $r$\n",
    "    - mass $m$\n",
    "    - mass distribution $\\gamma$\n",
    "        - $0 \\leq \\gamma \\leq \\sqrt{2/d}$\n",
    "        - $\\gamma = 0 \\implies$ all mass at center (point mass)\n",
    "        - $\\gamma = \\sqrt{2/(2+d)} \\implies$ uniform mass distribution\n",
    "        - $\\gamma = \\sqrt{2/d} \\implies$ mass along boundary (shell)\n",
    "    - Moment of inertia $I = m * (\\gamma * r)^2$\n",
    "- dynamical quantites\n",
    "    - translation\n",
    "        - position\n",
    "        - velocity\n",
    "    - rotation\n",
    "        - orientation\n",
    "        - spin"
   ]
  },
  {
   "cell_type": "markdown",
   "metadata": {},
   "source": [
    "Sadly, we need quite a few helper function to make this work nicely.  We have added/changed the following to version 3a billiard_def:\n",
    "- wp_no_slip_law (method of Wall)\n",
    "- \\__init\\__ of Particle to record $\\gamma$ and compute $I$\n",
    "- Added equator to particles so we can see the spin\n",
    "- smoother - interpolates between collisions AND computes correct orientation\n",
    "- Several support functions\n",
    "    - make_symmetric - converts any square matrix into symmetric or skew-symmetric based on its upper triangle\n",
    "    - spin_matrix_from_vector and spin_vector_from_matrix - Because spin is skew-symmetric, we only need to track its upper triangle.  These converts between the $d \\times d$ skew-symmteric matrix and the $d(d-1)/2$ vector.  See https://en.wikipedia.org/wiki/Rotation_matrix#Rotation_matrix_from_axis_and_angleSee for the conventional way to do so. \n",
    "    - wedge, Pi_nu, Pi, Lambda_nu, E_nu, Gamma_nu - functions defined in Feres's notes for the arbtrary dimenional no-slip law\n",
    "    - random_uniform_sphere and random_uniform_ball - choose uniformly at random from n-dim sphere or ball\n",
    "    "
   ]
  },
  {
   "cell_type": "code",
   "execution_count": 28,
   "metadata": {},
   "outputs": [
    {
     "name": "stdout",
     "output_type": "stream",
     "text": [
      "Done!! Steps = 10, Time = 64.167392\n"
     ]
    },
    {
     "data": {
      "application/vnd.jupyter.widget-view+json": {
       "model_id": "2ff0b707570b49d3ac1bf75ee4fc5469",
       "version_major": 2,
       "version_minor": 0
      },
      "text/html": [
       "<p>Failed to display Jupyter Widget of type <code>HBox</code>.</p>\n",
       "<p>\n",
       "  If you're reading this message in the Jupyter Notebook or JupyterLab Notebook, it may mean\n",
       "  that the widgets JavaScript is still loading. If this message persists, it\n",
       "  likely means that the widgets JavaScript library is either not installed or\n",
       "  not enabled. See the <a href=\"https://ipywidgets.readthedocs.io/en/stable/user_install.html\">Jupyter\n",
       "  Widgets Documentation</a> for setup instructions.\n",
       "</p>\n",
       "<p>\n",
       "  If you're reading this message in another frontend (for example, a static\n",
       "  rendering on GitHub or <a href=\"https://nbviewer.jupyter.org/\">NBViewer</a>),\n",
       "  it may mean that your frontend doesn't currently support widgets.\n",
       "</p>\n"
      ],
      "text/plain": [
       "HBox(children=(VBox(children=(BoundedIntText(value=0, layout=Layout(width='150px'), max=180), IntSlider(value=0, continuous_update=False, layout=Layout(width='150px'), max=180, readout=False), Play(value=0, interval=500, layout=Layout(width='150px'), max=180))), Output()))"
      ]
     },
     "metadata": {},
     "output_type": "display_data"
    }
   ],
   "source": [
    "%matplotlib inline\n",
    "seed = 10\n",
    "# Note we use version 3a now\n",
    "%run -i billiard_defs_3a.py\n",
    "\n",
    "dim = 2\n",
    "R_particle = 1.0\n",
    "R_scatter = 10.0\n",
    "\n",
    "R = R_particle + R_scatter\n",
    "gap_crit = (2/np.sqrt(3) - 1) * R\n",
    "gap = 0.99 * gap_crit\n",
    "\n",
    "x0 = R + gap\n",
    "y0 = np.sqrt(3) * x0\n",
    "\n",
    "wall = [FlatWall(dim=dim, base_point=[-x0, 0], normal=[1, 0], tangents=[[0, y0]], gap_pad=R_particle, wp_collision_law='wp_no_slip')\n",
    "        ,FlatWall(dim=dim, base_point=[x0, 0], normal=[-1, 0], tangents=[[0, -y0]], gap_pad=R_particle, wp_collision_law='wp_no_slip')\n",
    "        ,FlatWall(dim=dim, base_point=[0, -y0], normal=[0, 1], tangents=[[-x0, 0]], gap_pad=R_particle, wp_collision_law='wp_no_slip')\n",
    "        ,FlatWall(dim=dim, base_point=[0, y0], normal=[0, -1], tangents=[[x0, 0]], gap_pad=R_particle, wp_collision_law='wp_no_slip')\n",
    "        ,SphereWall(dim=dim, base_point=[0,0], radius=R_scatter, gap_pad=R_particle, wp_collision_law='wp_no_slip')\n",
    "#         ,SphereWall(dim=dim, base_point=[-x0, -y0], radius=R_scatter, gap_pad=R_particle)\n",
    "#         ,SphereWall(dim=dim, base_point=[x0, -y0], radius=R_scatter, gap_pad=R_particle)\n",
    "#         ,SphereWall(dim=dim, base_point=[-x0, y0], radius=R_scatter, gap_pad=R_particle)\n",
    "#         ,SphereWall(dim=dim, base_point=[x0, y0], radius=R_scatter, gap_pad=R_particle)\n",
    "       ]\n",
    "for (i, w) in enumerate(wall):\n",
    "    w.idx = i\n",
    "\n",
    "num = 2\n",
    "part = Particles(max_steps=10, cell_size=[x0, y0], dim=dim, num=num\n",
    "                 , mass  = 1.0\n",
    "                 , radius= R_particle\n",
    "                 , gamma = 'uniform'\n",
    "                )\n",
    "part.cell_size = [x0, y0]\n",
    "\n",
    "theta = rnd.uniform(0, 2*np.pi, num)\n",
    "part.pos = 1.01 * wall[4].wp_gap_min * np.asarray([np.cos(theta), np.sin(theta)]).T\n",
    "\n",
    "theta = rnd.uniform(0, 2*np.pi, num)\n",
    "speed = 1.0\n",
    "part.vel = speed * np.asarray([np.cos(theta), np.sin(theta)]).T\n",
    "\n",
    "part.orient = np.asarray([np.eye(part.dim)\n",
    "                          for p in range(part.num)]).astype(float)\n",
    "\n",
    "speed = 1.0\n",
    "m = int(part.dim*(part.dim-1)/2)\n",
    "part.spin = np.asarray([spin_matrix_from_vector([random_uniform_sphere(num=1, dim=m, radius=speed)])\n",
    "                        for p in range(part.num)]).astype(float)\n",
    "\n",
    "\n",
    "part.KE_init = part.get_KE().sum()\n",
    "part.record_state()\n",
    "for step in range(part.max_steps):\n",
    "    next_state(wall, part)\n",
    "\n",
    "clean_up(part)\n",
    "smoother(part,min_frames=1)\n",
    "interactive_plot()"
   ]
  },
  {
   "cell_type": "markdown",
   "metadata": {},
   "source": [
    "Exercises: https://github.com/drscook/unb_billiards/blob/master/references/Non-standard%20billiards/No%20Slip%20law/cox_feres_2016.pdf\n",
    "\n",
    "1. Reproduce fig5 on p.6\n",
    "2. Or fig6 on p.7\n",
    "3. Or fig9 on p.10\n",
    "4. Or fig10 on p.10\n",
    "5. Or some other systems that looks interested to you"
   ]
  },
  {
   "cell_type": "code",
   "execution_count": 1,
   "metadata": {},
   "outputs": [
    {
     "name": "stdout",
     "output_type": "stream",
     "text": [
      "Done!! Steps = 1000, Time = 5076.453698\n"
     ]
    },
    {
     "ename": "NameError",
     "evalue": "name 'draw_hist' is not defined",
     "output_type": "error",
     "traceback": [
      "\u001b[1;31m---------------------------------------------------------------------------\u001b[0m",
      "\u001b[1;31mNameError\u001b[0m                                 Traceback (most recent call last)",
      "\u001b[1;32m~\\Google Drive\\Math\\brazil\\unb_billiards\\code\\session3\\billiard_defs_3a.py\u001b[0m in \u001b[0;36m<module>\u001b[1;34m()\u001b[0m\n\u001b[0;32m     51\u001b[0m \u001b[0mwall\u001b[0m\u001b[1;33m[\u001b[0m\u001b[1;36m1\u001b[0m\u001b[1;33m]\u001b[0m\u001b[1;33m.\u001b[0m\u001b[0mmesh\u001b[0m \u001b[1;33m=\u001b[0m \u001b[0mnp\u001b[0m\u001b[1;33m.\u001b[0m\u001b[0masarray\u001b[0m\u001b[1;33m(\u001b[0m\u001b[1;33m[\u001b[0m\u001b[1;33m[\u001b[0m\u001b[0mm\u001b[0m\u001b[1;33m,\u001b[0m\u001b[0my0\u001b[0m\u001b[1;33m]\u001b[0m\u001b[1;33m,\u001b[0m\u001b[1;33m[\u001b[0m\u001b[0mM\u001b[0m\u001b[1;33m,\u001b[0m\u001b[0my0\u001b[0m\u001b[1;33m]\u001b[0m\u001b[1;33m]\u001b[0m\u001b[1;33m)\u001b[0m\u001b[1;33m\u001b[0m\u001b[0m\n\u001b[0;32m     52\u001b[0m \u001b[1;31m# interactive_plot()\u001b[0m\u001b[1;33m\u001b[0m\u001b[1;33m\u001b[0m\u001b[0m\n\u001b[1;32m---> 53\u001b[1;33m \u001b[0mdraw_hist\u001b[0m\u001b[1;33m(\u001b[0m\u001b[1;33m)\u001b[0m\u001b[1;33m\u001b[0m\u001b[0m\n\u001b[0m",
      "\u001b[1;31mNameError\u001b[0m: name 'draw_hist' is not defined"
     ]
    }
   ],
   "source": [
    "%%time\n",
    "%matplotlib inline\n",
    "seed = 42\n",
    "# Note we use version 3a now\n",
    "%run -i billiard_defs_3a.py\n",
    "\n",
    "dim = 2\n",
    "R_particle = 1.0\n",
    "x0 = 100000*R_particle\n",
    "y0 = 5*R_particle\n",
    "\n",
    "wall = [FlatWall(dim=dim, base_point=[0, -y0], normal=[0, 1], tangents=[[-x0, 0]], gap_pad=R_particle, wp_collision_law='wp_no_slip')\n",
    "        ,FlatWall(dim=dim, base_point=[0, y0], normal=[0, -1], tangents=[[x0, 0]], gap_pad=R_particle, wp_collision_law='wp_no_slip')\n",
    "        ]\n",
    "for (i, w) in enumerate(wall):\n",
    "    w.idx = i\n",
    "\n",
    "num = 2\n",
    "part = Particles(max_steps=1000, cell_size=[x0, y0], dim=dim, num=num\n",
    "                 , mass  = 1.0\n",
    "                 , radius= R_particle\n",
    "                 , gamma = 'uniform'\n",
    "                )\n",
    "part.cell_size = [x0, y0]\n",
    "\n",
    "theta = rnd.uniform(0, 2*np.pi, num)\n",
    "part.pos = np.asarray([[p*3*R_particle, 0.0] for p in range(part.num)])\n",
    "\n",
    "theta = rnd.uniform(0, 2*np.pi, num)\n",
    "speed = 1.0\n",
    "part.vel = speed * np.asarray([np.cos(theta), np.sin(theta)]).T\n",
    "\n",
    "part.orient = np.asarray([np.eye(part.dim)\n",
    "                          for p in range(part.num)]).astype(float)\n",
    "\n",
    "speed = 1.0\n",
    "m = int(part.dim*(part.dim-1)/2)\n",
    "part.spin = np.asarray([spin_matrix_from_vector([random_uniform_sphere(num=1, dim=m, radius=speed)])\n",
    "                        for p in range(part.num)]).astype(float)\n",
    "\n",
    "\n",
    "part.KE_init = part.get_KE().sum()\n",
    "part.record_state()\n",
    "for step in range(part.max_steps):\n",
    "    next_state(wall, part)\n",
    "\n",
    "clean_up(part)\n",
    "smoother(part,min_frames=1)\n",
    "m = np.min(part.re_pos[:,:,0])-5*R_particle\n",
    "M = np.max(part.re_pos[:,:,0])+5*R_particle\n",
    "wall[0].mesh = np.asarray([[m,-y0],[M,-y0]])\n",
    "wall[1].mesh = np.asarray([[m,y0],[M,y0]])\n",
    "# interactive_plot()\n",
    "draw_state()"
   ]
  },
  {
   "cell_type": "code",
   "execution_count": 2,
   "metadata": {},
   "outputs": [
    {
     "ename": "NameError",
     "evalue": "name 's' is not defined",
     "output_type": "error",
     "traceback": [
      "\u001b[1;31m---------------------------------------------------------------------------\u001b[0m",
      "\u001b[1;31mNameError\u001b[0m                                 Traceback (most recent call last)",
      "\u001b[1;32m~\\Google Drive\\Math\\brazil\\unb_billiards\\code\\session3\\billiard_defs_3a.py\u001b[0m in \u001b[0;36m<module>\u001b[1;34m()\u001b[0m\n\u001b[1;32m----> 1\u001b[1;33m \u001b[0mdraw_state\u001b[0m\u001b[1;33m(\u001b[0m\u001b[1;33m)\u001b[0m\u001b[1;33m\u001b[0m\u001b[0m\n\u001b[0m",
      "\u001b[1;32m~\\Google Drive\\Math\\brazil\\unb_billiards\\code\\session3\\billiard_defs_3a.py\u001b[0m in \u001b[0;36mdraw_state\u001b[1;34m(num_frames)\u001b[0m\n\u001b[0;32m    268\u001b[0m     \u001b[1;32mfor\u001b[0m \u001b[0mp\u001b[0m \u001b[1;32min\u001b[0m \u001b[0mrange\u001b[0m\u001b[1;33m(\u001b[0m\u001b[0mpart\u001b[0m\u001b[1;33m.\u001b[0m\u001b[0mnum\u001b[0m\u001b[1;33m)\u001b[0m\u001b[1;33m:\u001b[0m\u001b[1;33m\u001b[0m\u001b[0m\n\u001b[0;32m    269\u001b[0m         \u001b[0max\u001b[0m\u001b[1;33m.\u001b[0m\u001b[0mplot\u001b[0m\u001b[1;33m(\u001b[0m\u001b[0mpos\u001b[0m\u001b[1;33m[\u001b[0m\u001b[1;33m:\u001b[0m\u001b[1;33m,\u001b[0m\u001b[0mp\u001b[0m\u001b[1;33m,\u001b[0m\u001b[1;36m0\u001b[0m\u001b[1;33m]\u001b[0m\u001b[1;33m,\u001b[0m \u001b[0mpos\u001b[0m\u001b[1;33m[\u001b[0m\u001b[1;33m:\u001b[0m\u001b[1;33m,\u001b[0m\u001b[0mp\u001b[0m\u001b[1;33m,\u001b[0m\u001b[1;36m1\u001b[0m\u001b[1;33m]\u001b[0m\u001b[1;33m,\u001b[0m \u001b[0mcolor\u001b[0m\u001b[1;33m=\u001b[0m\u001b[0mpart\u001b[0m\u001b[1;33m.\u001b[0m\u001b[0mclr\u001b[0m\u001b[1;33m[\u001b[0m\u001b[0mp\u001b[0m\u001b[1;33m]\u001b[0m\u001b[1;33m)\u001b[0m\u001b[1;33m\u001b[0m\u001b[0m\n\u001b[1;32m--> 270\u001b[1;33m         \u001b[0max\u001b[0m\u001b[1;33m.\u001b[0m\u001b[0mplot\u001b[0m\u001b[1;33m(\u001b[0m\u001b[1;33m*\u001b[0m\u001b[1;33m(\u001b[0m\u001b[0mpart\u001b[0m\u001b[1;33m.\u001b[0m\u001b[0mmesh\u001b[0m\u001b[1;33m[\u001b[0m\u001b[0mp\u001b[0m\u001b[1;33m]\u001b[0m\u001b[1;33m.\u001b[0m\u001b[0mdot\u001b[0m\u001b[1;33m(\u001b[0m\u001b[0morient\u001b[0m\u001b[1;33m[\u001b[0m\u001b[0ms\u001b[0m\u001b[1;33m,\u001b[0m\u001b[0mp\u001b[0m\u001b[1;33m]\u001b[0m\u001b[1;33m.\u001b[0m\u001b[0mT\u001b[0m\u001b[1;33m)\u001b[0m \u001b[1;33m+\u001b[0m \u001b[0mpos\u001b[0m\u001b[1;33m[\u001b[0m\u001b[0ms\u001b[0m\u001b[1;33m,\u001b[0m\u001b[0mp\u001b[0m\u001b[1;33m]\u001b[0m\u001b[1;33m)\u001b[0m\u001b[1;33m.\u001b[0m\u001b[0mT\u001b[0m\u001b[1;33m,\u001b[0m \u001b[0mcolor\u001b[0m\u001b[1;33m=\u001b[0m\u001b[0mpart\u001b[0m\u001b[1;33m.\u001b[0m\u001b[0mclr\u001b[0m\u001b[1;33m[\u001b[0m\u001b[0mp\u001b[0m\u001b[1;33m]\u001b[0m\u001b[1;33m)\u001b[0m\u001b[1;33m\u001b[0m\u001b[0m\n\u001b[0m\u001b[0;32m    271\u001b[0m     \u001b[0max\u001b[0m\u001b[1;33m.\u001b[0m\u001b[0mset_aspect\u001b[0m\u001b[1;33m(\u001b[0m\u001b[1;34m'equal'\u001b[0m\u001b[1;33m)\u001b[0m\u001b[1;33m\u001b[0m\u001b[0m\n\u001b[0;32m    272\u001b[0m     \u001b[0mplt\u001b[0m\u001b[1;33m.\u001b[0m\u001b[0mshow\u001b[0m\u001b[1;33m(\u001b[0m\u001b[1;33m)\u001b[0m\u001b[1;33m\u001b[0m\u001b[0m\n",
      "\u001b[1;31mNameError\u001b[0m: name 's' is not defined"
     ]
    },
    {
     "data": {
      "image/png": "[encoded data removed]",
      "text/plain": [
       "<matplotlib.figure.Figure at 0x2c9524d4320>"
      ]
     },
     "metadata": {},
     "output_type": "display_data"
    }
   ],
   "source": [
    "draw_state()"
   ]
  }
 ],
 "metadata": {
  "kernelspec": {
   "display_name": "Python 3",
   "language": "python",
   "name": "python3"
  },
  "language_info": {
   "codemirror_mode": {
    "name": "ipython",
    "version": 3
   },
   "file_extension": ".py",
   "mimetype": "text/x-python",
   "name": "python",
   "nbconvert_exporter": "python",
   "pygments_lexer": "ipython3",
   "version": "3.6.3"
  }
 },
 "nbformat": 4,
 "nbformat_minor": 2
}
