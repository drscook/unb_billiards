{
 "cells": [
  {
   "cell_type": "markdown",
   "metadata": {},
   "source": [
    "Goal: Rearrange code to make experimentation easier\n",
    "1. Organize code into functions\n",
    "2. Move \"foundational\" code to module to make \"experimentation\" code easier to play with\n",
    "3. Add checks"
   ]
  },
  {
   "cell_type": "code",
   "execution_count": null,
   "metadata": {
    "collapsed": true
   },
   "outputs": [],
   "source": [
    "import numpy as np"
   ]
  },
  {
   "cell_type": "code",
   "execution_count": 1,
   "metadata": {},
   "outputs": [
    {
     "name": "stdout",
     "output_type": "stream",
     "text": [
      "Escaped after 235 collisions\n"
     ]
    }
   ],
   "source": [
    "\n",
    "\n",
    "side = 10\n",
    "scatter_radius = 4\n",
    "particle_radius = 2\n",
    "speed = 1.0\n",
    "num_walls = 5\n",
    "hole = 3\n",
    "max_steps = 1000\n",
    "\n",
    "abs_tol = 1e-5\n",
    "rel_tol = 0.01\n",
    "rnd = np.random.RandomState(seed=42)\n",
    "\n",
    "x_range = side - particle_radius\n",
    "y_range = side - particle_radius\n",
    "scatter_range = scatter_radius + particle_radius\n",
    "hole_range = hole - particle_radius\n",
    "bdy_length = 2*2*x_range + 2*2*y_range + 2*np.pi*scatter_range\n",
    "hb_ratio = 2 * hole_range / bdy_length\n",
    "\n",
    "params = np.array([side, scatter_radius, particle_radius, speed, x_range-scatter_range, y_range-scatter_range])\n",
    "if np.any(params <= abs_tol):\n",
    "    print(params)\n",
    "    raise Exception('Parameters must all be positive')\n",
    "if hole <= particle_radius:\n",
    "    print('Hole is too small for particle to escape')\n",
    "    \n",
    "normals = [np.array([1,0])\n",
    "           ,np.array([-1,0])\n",
    "           ,np.array([0,1])\n",
    "           ,np.array([0,-1])\n",
    "          ]\n",
    "\n",
    "def check_position(pos):\n",
    "    ok = True\n",
    "    if abs(pos[0]) > (1+rel_tol) * x_range:\n",
    "        ok = False\n",
    "    if abs(pos[1]) > (1+rel_tol) * y_range:\n",
    "        ok = False\n",
    "    if pos.dot(pos) < (1-rel_tol) * scatter_range**2:\n",
    "        ok = False\n",
    "    return ok\n",
    "\n",
    "def error_message():\n",
    "    raise Exception('Particle escaped at step {} \\n pos = {} \\n vel = {}'.format(step, pos, vel))\n",
    "\n",
    "def solve_quadratic(a, b, c):\n",
    "    d = b**2 - 4*a*c\n",
    "    if d > abs_tol:\n",
    "        e = np.sqrt(d)\n",
    "        small = (-b - e) / (2*a)\n",
    "        big   = (-b + e) / (2*a)\n",
    "        if b > 0:\n",
    "            small, big = big, small\n",
    "    else:\n",
    "        small, big = np.inf, np.inf\n",
    "    return small, big\n",
    "\n",
    "def run_trial(x=None, y=None, speed=1.0, theta=None):\n",
    "    rand_x = x is None\n",
    "    rand_y = y is None\n",
    "    if rand_x or rand_y:\n",
    "        r = 0\n",
    "    else:\n",
    "        r = np.sqrt(x**2+y**2)\n",
    "    while r < (1+rel_tol) * scatter_range:\n",
    "        if rand_x is True:\n",
    "            x = rnd.uniform(low=-(1-rel_tol)*x_range, high=(1-rel_tol)*x_range)\n",
    "        if rand_y is True:\n",
    "            y = rnd.uniform(low=-(1-rel_tol)*y_range, high=(1-rel_tol)*y_range)\n",
    "    pos = np.array([x,y])\n",
    "    if theta is None:\n",
    "        theta = rnd.uniform(low=0, high=2*np.pi)\n",
    "    vel = speed * np.array([np.cos(theta), np.sin(theta)])\n",
    "    \n",
    "    t = 0\n",
    "    t_hist = [t]\n",
    "    pos_hist = [pos.copy()]\n",
    "    vel_hist = [vel.copy()]\n",
    "\n",
    "    dts = np.zeros(num_walls)\n",
    "    prior_collision = num_walls\n",
    "    for step in range(max_steps):\n",
    "        if check_position(pos) == False:\n",
    "            error_message()\n",
    "        dts[:] = np.inf\n",
    "\n",
    "        if abs(vel[0]) > abs_tol:\n",
    "            dts[0] = (-x_range - pos[0]) / vel[0]\n",
    "            dts[1] = ( x_range - pos[0]) / vel[0]\n",
    "\n",
    "        if abs(vel[1]) > abs_tol:\n",
    "            dts[2] = (-y_range - pos[1]) / vel[1]\n",
    "            dts[3] = ( y_range - pos[1]) / vel[1]\n",
    "        if prior_collision in range(0,4):\n",
    "            dts[prior_collision] = np.inf\n",
    "\n",
    "        a = vel.dot(vel)\n",
    "        if a  > abs_tol:\n",
    "            b = 2 * pos.dot(vel)\n",
    "            c = pos.dot(pos) - scatter_range**2\n",
    "            small, big = solve_quadratic(a, b, c)\n",
    "            if prior_collision == 4:\n",
    "                dts[4] = big\n",
    "            else:\n",
    "                dts[4] = small\n",
    "\n",
    "        dts[dts<abs_tol] = np.inf\n",
    "        if np.all(np.isinf(dts)):\n",
    "            error_message()\n",
    "        col_wall = np.argmin(dts)\n",
    "        dt = dts[col_wall]\n",
    "        t = t + dt\n",
    "        pos = pos + vel*dt\n",
    "\n",
    "        if col_wall in range(0,4):\n",
    "            n = normals[col_wall]\n",
    "        elif col_wall == 4:\n",
    "            n = pos.copy()\n",
    "            l = np.sqrt(n.dot(n))\n",
    "            n = n / l\n",
    "\n",
    "        vel = vel - 2 * (vel.dot(n)) * n\n",
    "\n",
    "        pos_hist.append(pos.copy())\n",
    "        vel_hist.append(vel.copy())\n",
    "        t_hist.append(t)\n",
    "\n",
    "        if col_wall == 2:\n",
    "            if abs(pos[0]) < hole_range:\n",
    "                print('Escaped after {} collisions'.format(len(t_hist)-1))\n",
    "                break\n",
    "    num_col = len(t_hist)-1\n",
    "    return num_col, np.array(t_hist), np.array(pos_hist), np.array(vel_hist)\n",
    "\n",
    "x = 0\n",
    "y = -y_range\n",
    "theta = np.pi/10\n",
    "\n",
    "num_collisions, t_hist, pos_hist, vel_hist = run_trial(x, y, speed, theta)"
   ]
  },
  {
   "cell_type": "code",
   "execution_count": 2,
   "metadata": {
    "scrolled": false
   },
   "outputs": [
    {
     "data": {
      "application/vnd.jupyter.widget-view+json": {
       "model_id": "3cf6761a9ca849e29b4f704c9b711778",
       "version_major": 2,
       "version_minor": 0
      },
      "text/plain": [
       "A Jupyter Widget"
      ]
     },
     "metadata": {},
     "output_type": "display_data"
    }
   ],
   "source": [
    "import matplotlib.pyplot as plt\n",
    "import ipywidgets as widgets\n",
    "\n",
    "h = hole_range\n",
    "x = x_range\n",
    "y = y_range\n",
    "side_bdy = np.array([(h,-y), (x,-y), (x,y), (-x,y), (-x,-y), (-h,-y)])\n",
    "thetas = np.linspace(0, 2*np.pi, 100)\n",
    "scatter_bdy = scatter_range * np.array([np.cos(thetas), np.sin(thetas)]).T\n",
    "\n",
    "dpos = np.diff(pos_hist,axis=0)\n",
    "def draw(steps=1):\n",
    "    fig, ax = plt.subplots(figsize=[5,5])\n",
    "    ax.plot(side_bdy[:,0], side_bdy[:,1])\n",
    "    ax.fill(scatter_bdy[:,0], scatter_bdy[:,1])\n",
    "    ax.quiver(pos_hist[:steps,0], pos_hist[:steps,1], dpos[:steps,0], dpos[:steps,1], angles='xy', scale_units='xy', scale=1)\n",
    "    ax.set_aspect('equal')\n",
    "    plt.show()\n",
    "    \n",
    "widgets.interact(draw,steps=(1,pos_hist.shape[0]-1));"
   ]
  },
  {
   "cell_type": "code",
   "execution_count": null,
   "metadata": {
    "collapsed": true
   },
   "outputs": [],
   "source": []
  }
 ],
 "metadata": {
  "kernelspec": {
   "display_name": "Python 3",
   "language": "python",
   "name": "python3"
  },
  "language_info": {
   "codemirror_mode": {
    "name": "ipython",
    "version": 3
   },
   "file_extension": ".py",
   "mimetype": "text/x-python",
   "name": "python",
   "nbconvert_exporter": "python",
   "pygments_lexer": "ipython3",
   "version": "3.6.3"
  }
 },
 "nbformat": 4,
 "nbformat_minor": 2
}
