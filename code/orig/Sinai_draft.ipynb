{
 "cells": [
  {
   "cell_type": "code",
   "execution_count": 42,
   "metadata": {
    "collapsed": true
   },
   "outputs": [],
   "source": [
    "import numpy as np\n",
    "import matplotlib.pyplot as plt\n",
    "\n",
    "rnd = np.random.RandomState(seed=42)\n",
    "\n",
    "side = 10\n",
    "scatter_radius = 4\n",
    "particle_radius = 2\n",
    "speed = 1.0\n",
    "num_walls = 5\n",
    "hole = 3\n",
    "\n",
    "max_steps = 1000\n",
    "abs_tol = 1e-5\n",
    "rel_tol = 0.01\n",
    "\n",
    "x_range = side - particle_radius\n",
    "y_range = side - particle_radius\n",
    "scatter_range = scatter_radius + particle_radius\n",
    "hole_range = hole - particle_radius\n",
    "\n",
    "params = np.array([side, scatter_radius, particle_radius, speed, x_range-scatter_range, y_range-scatter_range])\n",
    "if np.any(params <= abs_tol):\n",
    "    print(params)\n",
    "    raise Exception('Parameters must all be positive')\n",
    "if hole <= particle_radius:\n",
    "    print('Hole is too small for particle to escape')\n",
    "    \n",
    "normals = [np.array([1,0])\n",
    "           ,np.array([-1,0])\n",
    "           ,np.array([0,1])\n",
    "           ,np.array([0,-1])\n",
    "          ]\n",
    "\n",
    "def solve_quadratic(a, b, c):\n",
    "    d = b**2 - 4*a*c\n",
    "    if d > abs_tol:\n",
    "        e = np.sqrt(d)\n",
    "        small = (-b - e) / (2*a)\n",
    "        big   = (-b + e) / (2*a)\n",
    "        if b > 0:\n",
    "            small, big = big, small\n",
    "    else:\n",
    "        small, big = np.inf, np.inf\n",
    "    return small, big\n",
    "\n",
    "def run_trial(pos=None, theta = None):\n",
    "    t = 0.0\n",
    "    if pos is None:\n",
    "        r = 0    \n",
    "        while r < (1+rel_tol) * scatter_range:\n",
    "            x = rnd.uniform(low=-(1-rel_tol)*x_range, high=(1-rel_tol)*x_range)    \n",
    "            y = rnd.uniform(low=-(1-rel_tol)*y_range, high=(1-rel_tol)*y_range)\n",
    "            pos = np.array([x,y])\n",
    "            r = np.sqrt(pos.dot(pos))\n",
    "    else:\n",
    "        if not((abs(pos[0]) < x_range) & (abs(pos[1]) < y_range) & pos.dot(pos) > scatter_range):\n",
    "            raise Exception('illegal initial position {}'.format(pos))\n",
    "            \n",
    "    if theta is None:\n",
    "        theta = rnd.uniform(low=0, high=2*np.pi)\n",
    "    vel = speed * np.array([np.cos(theta), np.sin(theta)])\n",
    "\n",
    "    t_hist = [t]\n",
    "    pos_hist = [pos.copy()]\n",
    "    vel_hist = [vel.copy()]\n",
    "\n",
    "    dts = np.zeros(num_walls)\n",
    "    prior_collision = num_walls\n",
    "    for step in range(max_steps):\n",
    "        dts[:] = np.inf\n",
    "\n",
    "        if abs(vel[0]) > abs_tol:\n",
    "            dts[0] = (-x_range - pos[0]) / vel[0]\n",
    "            dts[1] = ( x_range - pos[0]) / vel[0]\n",
    "\n",
    "        if abs(vel[1]) > abs_tol:\n",
    "            dts[2] = (-y_range - pos[1]) / vel[1]\n",
    "            dts[3] = ( y_range - pos[1]) / vel[1]\n",
    "        if prior_collision in range(0,4):\n",
    "            dts[prior_collision] = np.inf\n",
    "\n",
    "        a = vel.dot(vel)\n",
    "        if a  > abs_tol:\n",
    "            b = 2 * pos.dot(vel)\n",
    "            c = pos.dot(pos) - scatter_range**2\n",
    "            small, big = solve_quadratic(a, b, c)\n",
    "            if prior_collision == 4:\n",
    "                dts[4] = big\n",
    "            else:\n",
    "                dts[4] = small\n",
    "\n",
    "        dts[dts<abs_tol] = np.inf\n",
    "        col_wall = np.argmin(dts)\n",
    "        dt = dts[col_wall]\n",
    "        t += dt\n",
    "        pos += vel*dt\n",
    "\n",
    "        if col_wall in range(0,4):\n",
    "            n = normals[col_wall]\n",
    "        elif col_wall == 4:\n",
    "            n = pos.copy()\n",
    "            l = np.sqrt(n.dot(n))\n",
    "            n /= l\n",
    "\n",
    "        vel -= 2 * (vel.dot(n)) * n\n",
    "\n",
    "        pos_hist.append(pos.copy())\n",
    "        vel_hist.append(vel.copy())\n",
    "        t_hist.append(t)\n",
    "\n",
    "        if col_wall == 2:\n",
    "            if abs(pos[0]) < hole_range:\n",
    "#                 print('Escaped after {} collisions'.format(step+1))\n",
    "                break\n",
    "\n",
    "    t_hist = np.array(t_hist)\n",
    "    pos_hist = np.array(pos_hist)\n",
    "    vel_hist = np.array(vel_hist)\n",
    "    num_col = len(t_hist) - 1\n",
    "    return num_col, t_hist, pos_hist, vel_hist\n",
    "\n",
    "num_cols = []\n",
    "for t in range(trials):\n",
    "    nc, t_hist, pos_hist, vel_hist = run_trial()\n",
    "    num_cols.append(nc)\n",
    "# print(pos)"
   ]
  },
  {
   "cell_type": "code",
   "execution_count": 1,
   "metadata": {
    "collapsed": true
   },
   "outputs": [],
   "source": [
    "import numpy as np\n",
    "import matplotlib.pyplot as plt\n",
    "\n",
    "rnd = np.random.RandomState(seed=42)\n",
    "\n",
    "side = 10\n",
    "scatter_radius = 4\n",
    "particle_radius = 2\n",
    "speed = 1.0\n",
    "num_walls = 5\n",
    "hole = 3\n",
    "\n",
    "max_steps = 1000\n",
    "abs_tol = 1e-5\n",
    "rel_tol = 0.01\n",
    "\n",
    "x_range = side - particle_radius\n",
    "y_range = side - particle_radius\n",
    "scatter_range = scatter_radius + particle_radius\n",
    "hole_range = hole - particle_radius\n",
    "\n",
    "params = np.array([side, scatter_radius, particle_radius, speed, x_range-scatter_range, y_range-scatter_range])\n",
    "if np.any(params <= abs_tol):\n",
    "    print(params)\n",
    "    raise Exception('Parameters must all be positive')\n",
    "if hole <= particle_radius:\n",
    "    print('Hole is too small for particle to escape')\n",
    "    \n",
    "normals = [np.array([1,0])\n",
    "           ,np.array([-1,0])\n",
    "           ,np.array([0,1])\n",
    "           ,np.array([0,-1])\n",
    "          ]\n",
    "\n",
    "def solve_quadratic(a, b, c):\n",
    "    d = b**2 - 4*a*c\n",
    "    if d > abs_tol:\n",
    "        e = np.sqrt(d)\n",
    "        small = (-b - e) / (2*a)\n",
    "        big   = (-b + e) / (2*a)\n",
    "        if b > 0:\n",
    "            small, big = big, small\n",
    "    else:\n",
    "        small, big = np.inf, np.inf\n",
    "    return small, big\n",
    "\n",
    "# def run_trial():\n",
    "t = 0.0\n",
    "escapes = 0\n",
    "r = 0\n",
    "\n",
    "x = rnd.uniform(low=-hole_range, high=hole_range)    \n",
    "y = -y_range\n",
    "pos = np.array([x,y])\n",
    "theta = rnd.uniform(low=0, high=np.pi)\n",
    "vel = speed * np.array([np.cos(theta), np.sin(theta)])\n",
    "\n",
    "t_hist = [t]\n",
    "escape_hist = [0]\n",
    "pos_hist = [pos.copy()]\n",
    "vel_hist = [vel.copy()]\n",
    "\n",
    "\n",
    "while escapes < 1000:\n",
    "    dts = np.zeros(num_walls)\n",
    "    prior_collision = num_walls\n",
    "    for step in range(max_steps):\n",
    "        dts[:] = np.inf\n",
    "\n",
    "        if abs(vel[0]) > abs_tol:\n",
    "            dts[0] = (-x_range - pos[0]) / vel[0]\n",
    "            dts[1] = ( x_range - pos[0]) / vel[0]\n",
    "\n",
    "        if abs(vel[1]) > abs_tol:\n",
    "            dts[2] = (-y_range - pos[1]) / vel[1]\n",
    "            dts[3] = ( y_range - pos[1]) / vel[1]\n",
    "        if prior_collision in range(0,4):\n",
    "            dts[prior_collision] = np.inf\n",
    "\n",
    "        a = vel.dot(vel)\n",
    "        if a  > abs_tol:\n",
    "            b = 2 * pos.dot(vel)\n",
    "            c = pos.dot(pos) - scatter_range**2\n",
    "            small, big = solve_quadratic(a, b, c)\n",
    "            if prior_collision == 4:\n",
    "                dts[4] = big\n",
    "            else:\n",
    "                dts[4] = small\n",
    "\n",
    "        dts[dts<abs_tol] = np.inf\n",
    "        col_wall = np.argmin(dts)\n",
    "        dt = dts[col_wall]\n",
    "        t += dt\n",
    "        pos += vel*dt\n",
    "\n",
    "        if col_wall in range(0,4):\n",
    "            n = normals[col_wall]\n",
    "        elif col_wall == 4:\n",
    "            n = pos.copy()\n",
    "            l = np.sqrt(n.dot(n))\n",
    "            n /= l\n",
    "\n",
    "        vel -= 2 * (vel.dot(n)) * n\n",
    "\n",
    "        if col_wall == 2:\n",
    "            if abs(pos[0]) < hole_range:\n",
    "                escapes += 1\n",
    "\n",
    "        pos_hist.append(pos.copy())\n",
    "        vel_hist.append(vel.copy())\n",
    "        t_hist.append(t)\n",
    "        escape_hist.append(escapes)\n",
    "\n",
    "\n",
    "t_hist = np.array(t_hist)\n",
    "pos_hist = np.array(pos_hist)\n",
    "vel_hist = np.array(vel_hist)\n",
    "escape_hist = np.array(escape_hist)"
   ]
  },
  {
   "cell_type": "code",
   "execution_count": 1,
   "metadata": {
    "collapsed": true
   },
   "outputs": [],
   "source": [
    "import numpy as np\n",
    "import matplotlib.pyplot as plt\n",
    "\n",
    "rnd = np.random.RandomState(seed=42)\n",
    "\n",
    "side = 10\n",
    "scatter_radius = 4\n",
    "particle_radius = 2\n",
    "speed = 1.0\n",
    "num_walls = 5\n",
    "hole = 3\n",
    "\n",
    "max_steps = 1000\n",
    "trials = 100\n",
    "abs_tol = 1e-5\n",
    "rel_tol = 0.01\n",
    "\n",
    "x_range = side - particle_radius\n",
    "y_range = side - particle_radius\n",
    "scatter_range = scatter_radius + particle_radius\n",
    "hole_range = hole - particle_radius\n",
    "\n",
    "params = np.array([side, scatter_radius, particle_radius, speed, x_range-scatter_range, y_range-scatter_range])\n",
    "if np.any(params <= abs_tol):\n",
    "    print(params)\n",
    "    raise Exception('Parameters must all be positive')\n",
    "if hole <= particle_radius:\n",
    "    print('Hole is too small for particle to escape')\n",
    "    \n",
    "normals = [np.array([1,0])\n",
    "           ,np.array([-1,0])\n",
    "           ,np.array([0,1])\n",
    "           ,np.array([0,-1])\n",
    "          ]\n",
    "\n",
    "def solve_quadratic(a, b, c):\n",
    "    d = b**2 - 4*a*c\n",
    "    if d > abs_tol:\n",
    "        e = np.sqrt(d)\n",
    "        small = (-b - e) / (2*a)\n",
    "        big   = (-b + e) / (2*a)\n",
    "        if b > 0:\n",
    "            small, big = big, small\n",
    "    else:\n",
    "        small, big = np.inf, np.inf\n",
    "    return small, big\n",
    "\n",
    "# def run_trial():\n",
    "t = 0.0\n",
    "escapes = 0\n",
    "r = 0\n",
    "\n",
    "x = rnd.uniform(low=-hole_range, high=hole_range)    \n",
    "y = -y_range\n",
    "pos = np.array([x,y])\n",
    "theta = rnd.uniform(low=0, high=np.pi)\n",
    "vel = speed * np.array([np.cos(theta), np.sin(theta)])\n",
    "\n",
    "t_hist = [t]\n",
    "escape_hist = [0]\n",
    "pos_hist = [pos.copy()]\n",
    "vel_hist = [vel.copy()]\n",
    "\n",
    "\n",
    "while escapes < 1000:\n",
    "    dts = np.zeros(num_walls)\n",
    "    prior_collision = num_walls\n",
    "    for step in range(max_steps):\n",
    "        dts[:] = np.inf\n",
    "\n",
    "        if abs(vel[0]) > abs_tol:\n",
    "            dts[0] = (-x_range - pos[0]) / vel[0]\n",
    "            dts[1] = ( x_range - pos[0]) / vel[0]\n",
    "\n",
    "        if abs(vel[1]) > abs_tol:\n",
    "            dts[2] = (-y_range - pos[1]) / vel[1]\n",
    "            dts[3] = ( y_range - pos[1]) / vel[1]\n",
    "        if prior_collision in range(0,4):\n",
    "            dts[prior_collision] = np.inf\n",
    "\n",
    "        a = vel.dot(vel)\n",
    "        if a  > abs_tol:\n",
    "            b = 2 * pos.dot(vel)\n",
    "            c = pos.dot(pos) - scatter_range**2\n",
    "            small, big = solve_quadratic(a, b, c)\n",
    "            if prior_collision == 4:\n",
    "                dts[4] = big\n",
    "            else:\n",
    "                dts[4] = small\n",
    "\n",
    "        dts[dts<abs_tol] = np.inf\n",
    "        col_wall = np.argmin(dts)\n",
    "        dt = dts[col_wall]\n",
    "        t += dt\n",
    "        pos += vel*dt\n",
    "\n",
    "        if col_wall in range(0,4):\n",
    "            n = normals[col_wall]\n",
    "        elif col_wall == 4:\n",
    "            n = pos.copy()\n",
    "            l = np.sqrt(n.dot(n))\n",
    "            n /= l\n",
    "\n",
    "        vel -= 2 * (vel.dot(n)) * n\n",
    "\n",
    "        if col_wall == 2:\n",
    "            if abs(pos[0]) < hole_range:\n",
    "                escapes += 1\n",
    "\n",
    "        pos_hist.append(pos.copy())\n",
    "        vel_hist.append(vel.copy())\n",
    "        t_hist.append(t)\n",
    "        escape_hist.append(escapes)\n",
    "\n",
    "\n",
    "t_hist = np.array(t_hist)\n",
    "pos_hist = np.array(pos_hist)\n",
    "vel_hist = np.array(vel_hist)\n",
    "escape_hist = np.array(escape_hist)"
   ]
  },
  {
   "cell_type": "code",
   "execution_count": 16,
   "metadata": {},
   "outputs": [
    {
     "name": "stderr",
     "output_type": "stream",
     "text": [
      "C:\\ProgramData\\Anaconda3\\lib\\site-packages\\ipykernel_launcher.py:2: RuntimeWarning: invalid value encountered in true_divide\n",
      "  \n"
     ]
    },
    {
     "data": {
      "image/png": "[encoded data removed]",
      "text/plain": [
       "<matplotlib.figure.Figure at 0x1ca9613da20>"
      ]
     },
     "metadata": {},
     "output_type": "display_data"
    }
   ],
   "source": [
    "q = np.arange(len(escape_hist))\n",
    "ce_ratio = escape_hist / q * 100\n",
    "\n",
    "bdy_length = 2*2*x_range + 2*2*y_range + 2*np.pi*scatter_range\n",
    "hole_length = 2*hole_range\n",
    "hb_ratio = hole_length / bdy_length * 100\n",
    "\n",
    "\n",
    "# print(num_col / escape_hist[-1])\n",
    "# print(pos)\n",
    "# plt\n",
    "ce_ratio\n",
    "plt.plot(q,ce_ratio)\n",
    "plt.plot(q,np.ones_like(q) * hb_ratio)\n",
    "plt.show()\n"
   ]
  },
  {
   "cell_type": "code",
   "execution_count": 6,
   "metadata": {
    "scrolled": false
   },
   "outputs": [
    {
     "data": {
      "application/vnd.jupyter.widget-view+json": {
       "model_id": "fef219041a7340279afd9ddc117d5a0b",
       "version_major": 2,
       "version_minor": 0
      },
      "text/plain": [
       "A Jupyter Widget"
      ]
     },
     "metadata": {},
     "output_type": "display_data"
    }
   ],
   "source": [
    "import ipywidgets as widgets\n",
    "\n",
    "h = hole_range\n",
    "x = x_range\n",
    "y = y_range\n",
    "\n",
    "side_bdy = np.array([(h,-y), (x,-y), (x,y), (-x,y), (-x,-y), (-h,-y)])\n",
    "thetas = np.linspace(0, 2*np.pi, 100)\n",
    "scatter_bdy = scatter_range * np.array([np.cos(thetas), np.sin(thetas)]).T\n",
    "\n",
    "dpos = np.diff(pos_hist,axis=0)\n",
    "def draw(steps=1):\n",
    "    e = escape_hist[steps]\n",
    "    if e == 0:\n",
    "        se_ratio = np.inf\n",
    "    else:\n",
    "        se_ratio = steps / e\n",
    "    print('boundary/hole = {}, collisions/escapes = {}'.format(bh_ratio, se_ratio))\n",
    "    fig, ax = plt.subplots(figsize=[5,5])\n",
    "    ax.plot(side_bdy[:,0], side_bdy[:,1])\n",
    "    ax.fill(scatter_bdy[:,0], scatter_bdy[:,1])\n",
    "    ax.quiver(pos_hist[:steps,0], pos_hist[:steps,1], dpos[:steps,0], dpos[:steps,1], angles='xy', scale_units='xy', scale=1)\n",
    "    ax.set_aspect('equal')\n",
    "    plt.show()\n",
    "    \n",
    "max_steps = pos_hist.shape[0]-1\n",
    "widgets.interact(draw,steps=(1,max_steps));"
   ]
  },
  {
   "cell_type": "code",
   "execution_count": 7,
   "metadata": {},
   "outputs": [
    {
     "name": "stdout",
     "output_type": "stream",
     "text": [
      "50.84955592153876\n",
      "49.85044865403788\n"
     ]
    }
   ],
   "source": [
    "bdy_length = 2*2*x_range + 2*2*y_range + 2*np.pi*scatter_range\n",
    "hole_length = 2*hole_range\n",
    "print(bdy_length/hole_length)\n",
    "print(num_col/escapes)\n",
    "# num_cols = np.array(num_cols)\n",
    "# print(num_cols.mean())"
   ]
  },
  {
   "cell_type": "code",
   "execution_count": 42,
   "metadata": {},
   "outputs": [],
   "source": [
    "import numpy as np\n",
    "import matplotlib.pyplot as plt\n",
    "\n",
    "rnd = np.random.RandomState(seed=42)\n",
    "\n",
    "side = 10\n",
    "scatter_radius = 4\n",
    "particle_radius = 2\n",
    "speed = 1.0\n",
    "num_walls = 5\n",
    "hole = 3\n",
    "\n",
    "max_steps = 1000\n",
    "trials = 1000\n",
    "abs_tol = 1e-5\n",
    "rel_tol = 0.01\n",
    "\n",
    "x_range = side - particle_radius\n",
    "y_range = side - particle_radius\n",
    "scatter_range = scatter_radius + particle_radius\n",
    "hole_range = hole - particle_radius\n",
    "\n",
    "params = np.array([side, scatter_radius, particle_radius, speed, x_range-scatter_range, y_range-scatter_range])\n",
    "if np.any(params <= abs_tol):\n",
    "    print(params)\n",
    "    raise Exception('Parameters must all be positive')\n",
    "if hole <= particle_radius:\n",
    "    print('Hole is too small for particle to escape')\n",
    "    \n",
    "normals = [np.array([1,0])\n",
    "           ,np.array([-1,0])\n",
    "           ,np.array([0,1])\n",
    "           ,np.array([0,-1])\n",
    "          ]\n",
    "\n",
    "def solve_quadratic(a, b, c):\n",
    "    d = b**2 - 4*a*c\n",
    "    if d > abs_tol:\n",
    "        e = np.sqrt(d)\n",
    "        small = (-b - e) / (2*a)\n",
    "        big   = (-b + e) / (2*a)\n",
    "        if b > 0:\n",
    "            small, big = big, small\n",
    "    else:\n",
    "        small, big = np.inf, np.inf\n",
    "    return small, big\n",
    "\n",
    "def run_trial():\n",
    "    t = 0.0\n",
    "    r = 0\n",
    "    while r < (1+rel_tol) * scatter_range:\n",
    "        x = rnd.uniform(low=-(1-rel_tol)*x_range, high=(1-rel_tol)*x_range)    \n",
    "        y = rnd.uniform(low=-(1-rel_tol)*y_range, high=(1-rel_tol)*y_range)\n",
    "        pos = np.array([x,y])\n",
    "        r = np.sqrt(pos.dot(pos))\n",
    "    theta = rnd.uniform(low=0, high=2*np.pi)\n",
    "    vel = speed * np.array([np.cos(theta), np.sin(theta)])\n",
    "\n",
    "    t_hist = [t]\n",
    "    pos_hist = [pos.copy()]\n",
    "    vel_hist = [vel.copy()]\n",
    "\n",
    "    dts = np.zeros(num_walls)\n",
    "    prior_collision = num_walls\n",
    "    for step in range(max_steps):\n",
    "        dts[:] = np.inf\n",
    "\n",
    "        if abs(vel[0]) > abs_tol:\n",
    "            dts[0] = (-x_range - pos[0]) / vel[0]\n",
    "            dts[1] = ( x_range - pos[0]) / vel[0]\n",
    "\n",
    "        if abs(vel[1]) > abs_tol:\n",
    "            dts[2] = (-y_range - pos[1]) / vel[1]\n",
    "            dts[3] = ( y_range - pos[1]) / vel[1]\n",
    "        if prior_collision in range(0,4):\n",
    "            dts[prior_collision] = np.inf\n",
    "\n",
    "        a = vel.dot(vel)\n",
    "        if a  > abs_tol:\n",
    "            b = 2 * pos.dot(vel)\n",
    "            c = pos.dot(pos) - scatter_range**2\n",
    "            small, big = solve_quadratic(a, b, c)\n",
    "            if prior_collision == 4:\n",
    "                dts[4] = big\n",
    "            else:\n",
    "                dts[4] = small\n",
    "\n",
    "        dts[dts<abs_tol] = np.inf\n",
    "        col_wall = np.argmin(dts)\n",
    "        dt = dts[col_wall]\n",
    "        t += dt\n",
    "        pos += vel*dt\n",
    "\n",
    "        if col_wall in range(0,4):\n",
    "            n = normals[col_wall]\n",
    "        elif col_wall == 4:\n",
    "            n = pos.copy()\n",
    "            l = np.sqrt(n.dot(n))\n",
    "            n /= l\n",
    "\n",
    "        vel -= 2 * (vel.dot(n)) * n\n",
    "\n",
    "        pos_hist.append(pos.copy())\n",
    "        vel_hist.append(vel.copy())\n",
    "        t_hist.append(t)\n",
    "\n",
    "        if col_wall == 2:\n",
    "            if abs(pos[0]) < hole_range:\n",
    "#                 print('Escaped after {} collisions'.format(step+1))\n",
    "                break\n",
    "\n",
    "    t_hist = np.array(t_hist)\n",
    "    pos_hist = np.array(pos_hist)\n",
    "    vel_hist = np.array(vel_hist)\n",
    "    num_col = len(t_hist) - 1\n",
    "    return num_col, t_hist, pos_hist, vel_hist\n",
    "\n",
    "num_cols = []\n",
    "for t in range(trials):\n",
    "    nc, t_hist, pos_hist, vel_hist = run_trial()\n",
    "    num_cols.append(nc)\n",
    "# print(pos)"
   ]
  },
  {
   "cell_type": "code",
   "execution_count": 43,
   "metadata": {},
   "outputs": [
    {
     "name": "stdout",
     "output_type": "stream",
     "text": [
      "50.84955592153876\n",
      "61.939\n"
     ]
    }
   ],
   "source": [
    "bdy_length = 2*2*x_range + 2*2*y_range + 2*np.pi*scatter_range\n",
    "hole_length = 2*hole_range\n",
    "print(bdy_length/hole_length)\n",
    "num_cols = np.array(num_cols)\n",
    "print(num_cols.mean())"
   ]
  },
  {
   "cell_type": "code",
   "execution_count": 33,
   "metadata": {},
   "outputs": [
    {
     "data": {
      "text/plain": [
       "107.9822971502571"
      ]
     },
     "execution_count": 33,
     "metadata": {},
     "output_type": "execute_result"
    }
   ],
   "source": [
    "8*y_range+2*np.pi*scatter_range\n",
    "bdy_length\n",
    "# hole_range"
   ]
  },
  {
   "cell_type": "code",
   "execution_count": 20,
   "metadata": {
    "scrolled": false
   },
   "outputs": [
    {
     "data": {
      "application/vnd.jupyter.widget-view+json": {
       "model_id": "204d689ff4064753990774e860126a38",
       "version_major": 2,
       "version_minor": 0
      },
      "text/plain": [
       "A Jupyter Widget"
      ]
     },
     "metadata": {},
     "output_type": "display_data"
    }
   ],
   "source": [
    "import ipywidgets as widgets\n",
    "h = hole_range\n",
    "x = x_range\n",
    "y = y_range\n",
    "side_bdy = np.array([(h,-y), (x,-y), (x,y), (-x,y), (-x,-y), (-h,-y)])\n",
    "thetas = np.linspace(0, 2*np.pi, 100)\n",
    "scatter_bdy = scatter_range * np.array([np.cos(thetas), np.sin(thetas)]).T\n",
    "\n",
    "dpos = np.diff(pos_hist,axis=0)\n",
    "def draw(steps=1):\n",
    "    fig, ax = plt.subplots(figsize=[5,5])\n",
    "    ax.plot(side_bdy[:,0], side_bdy[:,1])\n",
    "    ax.fill(scatter_bdy[:,0], scatter_bdy[:,1])\n",
    "    ax.quiver(pos_hist[:steps,0], pos_hist[:steps,1], dpos[:steps,0], dpos[:steps,1], angles='xy', scale_units='xy', scale=1)\n",
    "    ax.set_aspect('equal')\n",
    "    plt.show()\n",
    "    \n",
    "widgets.interact(draw,steps=(1,pos_hist.shape[0]-1));"
   ]
  },
  {
   "cell_type": "code",
   "execution_count": 6,
   "metadata": {
    "scrolled": true
   },
   "outputs": [
    {
     "data": {
      "application/vnd.jupyter.widget-view+json": {
       "model_id": "fde6f5c830f64b7c8b6e920b86973e5b",
       "version_major": 2,
       "version_minor": 0
      },
      "text/plain": [
       "A Jupyter Widget"
      ]
     },
     "metadata": {},
     "output_type": "display_data"
    },
    {
     "data": {
      "text/plain": [
       "<function __main__.draw>"
      ]
     },
     "execution_count": 6,
     "metadata": {},
     "output_type": "execute_result"
    }
   ],
   "source": [
    "import ipywidgets as widgets\n",
    "side_bdy = np.array([(hole,-side), (side,-side), (side,side), (-side,side)\n",
    "                     ,(-side,-side), (-hole,-side)])\n",
    "thetas = np.linspace(0, 2*np.pi, 100)\n",
    "scatter_bdy = scatter_radius * np.array([np.cos(thetas), np.sin(thetas)]).T\n",
    "\n",
    "\n",
    "dpos = np.diff(pos_hist,axis=0)\n",
    "def draw(steps=1):\n",
    "    plt.plot(side_bdy[:,0], side_bdy[:,1])\n",
    "    plt.plot(scatter_bdy[:,0], scatter_bdy[:,1])\n",
    "    plt.quiver(pos_hist[:steps,0], pos_hist[:steps,1], dpos[:steps,0], dpos[:steps,1], angles='xy', scale_units='xy', scale=1)\n",
    "    plt.show()\n",
    "widgets.interact(draw,steps=(1,num_col-1))"
   ]
  },
  {
   "cell_type": "code",
   "execution_count": 8,
   "metadata": {},
   "outputs": [
    {
     "data": {
      "application/vnd.jupyter.widget-view+json": {
       "model_id": "c497fda26dab4795a73a19703a4a4611",
       "version_major": 2,
       "version_minor": 0
      },
      "text/plain": [
       "A Jupyter Widget"
      ]
     },
     "metadata": {},
     "output_type": "display_data"
    },
    {
     "data": {
      "text/plain": [
       "<function __main__.draw>"
      ]
     },
     "execution_count": 8,
     "metadata": {},
     "output_type": "execute_result"
    }
   ],
   "source": [
    "import ipywidgets as widgets\n",
    "pos_hist = np.array(pos_hist)\n",
    "vel_hist = np.array(vel_hist)\n",
    "\n",
    "def draw(steps):\n",
    "    plt.plot([hole,side,side,-side,-side,-hole],\n",
    "             [-side,-side,side,side,-side,-side])\n",
    "    plt.plot(pos_hist[:steps,0], pos_hist[:steps,1])\n",
    "    plt.show()\n",
    "widgets.interact(draw,steps=(0,10))"
   ]
  },
  {
   "cell_type": "code",
   "execution_count": 21,
   "metadata": {},
   "outputs": [
    {
     "data": {
      "text/plain": [
       "array([[ -1.93515494, -17.03172894]])"
      ]
     },
     "execution_count": 21,
     "metadata": {},
     "output_type": "execute_result"
    }
   ],
   "source": [
    "step=1\n",
    "dpos[:step]"
   ]
  },
  {
   "cell_type": "code",
   "execution_count": 14,
   "metadata": {},
   "outputs": [
    {
     "data": {
      "text/plain": [
       "(106, 2)"
      ]
     },
     "execution_count": 14,
     "metadata": {},
     "output_type": "execute_result"
    }
   ],
   "source": [
    "dpos.shape"
   ]
  },
  {
   "cell_type": "code",
   "execution_count": 37,
   "metadata": {},
   "outputs": [
    {
     "data": {
      "image/png": "[encoded data removed]",
      "text/plain": [
       "<matplotlib.figure.Figure at 0x26c7e32c208>"
      ]
     },
     "metadata": {},
     "output_type": "display_data"
    }
   ],
   "source": [
    "import matplotlib.pyplot as plt\n",
    "import numpy as np\n",
    "from numpy import ma\n",
    "\n",
    "X, Y = np.meshgrid(np.arange(0, 2 * np.pi, .2), np.arange(0, 2 * np.pi, .2))\n",
    "U = 1*np.cos(X)\n",
    "V = np.sin(Y)\n",
    "\n",
    "plt.figure()\n",
    "plt.title('Arrows scale with plot width, not view')\n",
    "Q = plt.quiver(X, Y, U, V, units='xy', scale=1.0)\n",
    "qk = plt.quiverkey(Q, 0.9, 0.9, 2, r'$2 \\frac{m}{s}$', labelpos='E',\n",
    "                   coordinates='figure')\n",
    "plt.show()"
   ]
  },
  {
   "cell_type": "code",
   "execution_count": 65,
   "metadata": {},
   "outputs": [
    {
     "name": "stdout",
     "output_type": "stream",
     "text": [
      "[[-2.23569508  8.03172894]\n",
      " [-4.17085002 -9.        ]]\n",
      "[[ -1.93515494 -17.03172894]]\n"
     ]
    }
   ],
   "source": [
    "print(pos_hist[:2,:])\n",
    "print(dpos[:1,:])"
   ]
  },
  {
   "cell_type": "code",
   "execution_count": 80,
   "metadata": {},
   "outputs": [
    {
     "data": {
      "text/plain": [
       "array([[  2.00000000e+00,   1.99597335e+00,   1.98390963e+00,\n",
       "          1.96385739e+00,   1.93589740e+00,   1.90014224e+00,\n",
       "          1.85673587e+00,   1.80585308e+00,   1.74769875e+00,\n",
       "          1.68250707e+00,   1.61054052e+00,   1.53208889e+00,\n",
       "          1.44746808e+00,   1.35701882e+00,   1.26110533e+00,\n",
       "          1.16011382e+00,   1.05445094e+00,   9.44542150e-01,\n",
       "          8.30830026e-01,   7.13772443e-01,   5.93840751e-01,\n",
       "          4.71517871e-01,   3.47296355e-01,   2.21676400e-01,\n",
       "          9.51638316e-02,  -3.17319277e-02,  -1.58499914e-01,\n",
       "         -2.84629677e-01,  -4.09613336e-01,  -5.32947627e-01,\n",
       "         -6.54135927e-01,  -7.72690251e-01,  -8.88133225e-01,\n",
       "         -1.00000000e+00,  -1.10784013e+00,  -1.21121937e+00,\n",
       "         -1.30972147e+00,  -1.40294978e+00,  -1.49052890e+00,\n",
       "         -1.57210619e+00,  -1.64735316e+00,  -1.71596683e+00,\n",
       "         -1.77767090e+00,  -1.83221691e+00,  -1.87938524e+00,\n",
       "         -1.91898595e+00,  -1.95085957e+00,  -1.97487778e+00,\n",
       "         -1.99094385e+00,  -1.99899308e+00,  -1.99899308e+00,\n",
       "         -1.99094385e+00,  -1.97487778e+00,  -1.95085957e+00,\n",
       "         -1.91898595e+00,  -1.87938524e+00,  -1.83221691e+00,\n",
       "         -1.77767090e+00,  -1.71596683e+00,  -1.64735316e+00,\n",
       "         -1.57210619e+00,  -1.49052890e+00,  -1.40294978e+00,\n",
       "         -1.30972147e+00,  -1.21121937e+00,  -1.10784013e+00,\n",
       "         -1.00000000e+00,  -8.88133225e-01,  -7.72690251e-01,\n",
       "         -6.54135927e-01,  -5.32947627e-01,  -4.09613336e-01,\n",
       "         -2.84629677e-01,  -1.58499914e-01,  -3.17319277e-02,\n",
       "          9.51638316e-02,   2.21676400e-01,   3.47296355e-01,\n",
       "          4.71517871e-01,   5.93840751e-01,   7.13772443e-01,\n",
       "          8.30830026e-01,   9.44542150e-01,   1.05445094e+00,\n",
       "          1.16011382e+00,   1.26110533e+00,   1.35701882e+00,\n",
       "          1.44746808e+00,   1.53208889e+00,   1.61054052e+00,\n",
       "          1.68250707e+00,   1.74769875e+00,   1.80585308e+00,\n",
       "          1.85673587e+00,   1.90014224e+00,   1.93589740e+00,\n",
       "          1.96385739e+00,   1.98390963e+00,   1.99597335e+00,\n",
       "          2.00000000e+00],\n",
       "       [  0.00000000e+00,   1.26847839e-01,   2.53184907e-01,\n",
       "          3.78502489e-01,   5.02295974e-01,   6.24066891e-01,\n",
       "          7.43324911e-01,   8.59589824e-01,   9.72393472e-01,\n",
       "          1.08128163e+00,   1.18581586e+00,   1.28557522e+00,\n",
       "          1.38015802e+00,   1.46918342e+00,   1.55229293e+00,\n",
       "          1.62915190e+00,   1.69945086e+00,   1.76290673e+00,\n",
       "          1.81926399e+00,   1.86829572e+00,   1.90980448e+00,\n",
       "          1.94362314e+00,   1.96961551e+00,   1.98767693e+00,\n",
       "          1.99773468e+00,   1.99974826e+00,   1.99370955e+00,\n",
       "          1.97964288e+00,   1.95760489e+00,   1.92768432e+00,\n",
       "          1.89000164e+00,   1.84470859e+00,   1.79198755e+00,\n",
       "          1.73205081e+00,   1.66513971e+00,   1.59152368e+00,\n",
       "          1.51149915e+00,   1.42538834e+00,   1.33353800e+00,\n",
       "          1.23631797e+00,   1.13411973e+00,   1.02735478e+00,\n",
       "          9.16453043e-01,   8.01861071e-01,   6.84040287e-01,\n",
       "          5.63465114e-01,   4.40621066e-01,   3.16002792e-01,\n",
       "          1.90112087e-01,   6.34558670e-02,  -6.34558670e-02,\n",
       "         -1.90112087e-01,  -3.16002792e-01,  -4.40621066e-01,\n",
       "         -5.63465114e-01,  -6.84040287e-01,  -8.01861071e-01,\n",
       "         -9.16453043e-01,  -1.02735478e+00,  -1.13411973e+00,\n",
       "         -1.23631797e+00,  -1.33353800e+00,  -1.42538834e+00,\n",
       "         -1.51149915e+00,  -1.59152368e+00,  -1.66513971e+00,\n",
       "         -1.73205081e+00,  -1.79198755e+00,  -1.84470859e+00,\n",
       "         -1.89000164e+00,  -1.92768432e+00,  -1.95760489e+00,\n",
       "         -1.97964288e+00,  -1.99370955e+00,  -1.99974826e+00,\n",
       "         -1.99773468e+00,  -1.98767693e+00,  -1.96961551e+00,\n",
       "         -1.94362314e+00,  -1.90980448e+00,  -1.86829572e+00,\n",
       "         -1.81926399e+00,  -1.76290673e+00,  -1.69945086e+00,\n",
       "         -1.62915190e+00,  -1.55229293e+00,  -1.46918342e+00,\n",
       "         -1.38015802e+00,  -1.28557522e+00,  -1.18581586e+00,\n",
       "         -1.08128163e+00,  -9.72393472e-01,  -8.59589824e-01,\n",
       "         -7.43324911e-01,  -6.24066891e-01,  -5.02295974e-01,\n",
       "         -3.78502489e-01,  -2.53184907e-01,  -1.26847839e-01,\n",
       "         -4.89858720e-16]])"
      ]
     },
     "execution_count": 80,
     "metadata": {},
     "output_type": "execute_result"
    }
   ],
   "source": [
    "scatter_bdy"
   ]
  },
  {
   "cell_type": "code",
   "execution_count": 7,
   "metadata": {},
   "outputs": [
    {
     "name": "stdout",
     "output_type": "stream",
     "text": [
      "base point\n",
      "[-10.  -0.]\n",
      "frame\n",
      "[[ 10.   0.]\n",
      " [  0.  10.]]\n",
      "unit normal\n",
      "[ 1.  0.]\n",
      "\n",
      "base point\n",
      "[ 10.   0.]\n",
      "frame\n",
      "[[-10.  -0.]\n",
      " [  0.  10.]]\n",
      "unit normal\n",
      "[-1. -0.]\n",
      "\n",
      "base point\n",
      "[ -0. -10.]\n",
      "frame\n",
      "[[  0.  10.]\n",
      " [ 10.   0.]]\n",
      "unit normal\n",
      "[ 0.  1.]\n",
      "\n",
      "base point\n",
      "[  0.  10.]\n",
      "frame\n",
      "[[ -0. -10.]\n",
      " [ 10.   0.]]\n",
      "unit normal\n",
      "[-0. -1.]\n",
      "\n",
      "[ 0.  0.]\n",
      "[-2.03245007  7.30157176]\n",
      "[ 3.75830186  1.59826744]\n",
      "[-5.57249802 -5.57288877]\n",
      "[-7.15904548  5.93205356]\n",
      "[-0.80487925 -0.59343861]\n",
      "2.28724309816\n",
      "[-0.80487925 -0.59343861]\n",
      "-20.0763597959\n",
      "[-0.80487925 -0.59343861]\n",
      "25.1619177324\n",
      "[-0.80487925 -0.59343861]\n",
      "-5.1697789305\n"
     ]
    }
   ],
   "source": [
    "for w in walls:\n",
    "    dx = pos - w['base_point']    \n",
    "    dist_normal = dx.dot(w['normal'])\n",
    "    vel_normal = vel.dot(w['normal'])\n",
    "    t = (particle_radius - dist_normal) / vel_normal\n",
    "    print(vel)\n",
    "    print(t)\n",
    "\n",
    "\n",
    "frame = side_half_length * np.eye(2)\n",
    "walls = []\n",
    "for d in range(dim):\n",
    "    for side in [-1,1]:\n",
    "        new_wall = {'frame': frame.copy()}\n",
    "\n",
    "        new_wall['base_point'] = -1*frame[0].copy()\n",
    "        \n",
    "        normal = frame[0].copy()        \n",
    "        length = np.sqrt(normal.dot(normal))\n",
    "        normal /= length        \n",
    "        new_wall['normal'] = normal\n",
    "        \n",
    "        walls.append(new_wall)\n",
    "        frame[0] *= -1\n",
    "    frame = np.roll(frame, -1, axis=0)\n",
    "\n",
    "for w in walls:\n",
    "    print('base point')\n",
    "    print(w['base_point'])\n",
    "    print('frame')\n",
    "    print(w['frame'])\n",
    "    print('unit normal')\n",
    "    print(w['normal'])\n",
    "    print()"
   ]
  },
  {
   "cell_type": "code",
   "execution_count": 7,
   "metadata": {},
   "outputs": [
    {
     "name": "stdout",
     "output_type": "stream",
     "text": [
      "base point\n",
      "[-10.  -0.]\n",
      "frame\n",
      "[[ 10.   0.]\n",
      " [  0.  10.]]\n",
      "unit normal\n",
      "[ 1.  0.]\n",
      "\n",
      "base point\n",
      "[ 10.   0.]\n",
      "frame\n",
      "[[-10.  -0.]\n",
      " [  0.  10.]]\n",
      "unit normal\n",
      "[-1. -0.]\n",
      "\n",
      "base point\n",
      "[ -0. -10.]\n",
      "frame\n",
      "[[  0.  10.]\n",
      " [ 10.   0.]]\n",
      "unit normal\n",
      "[ 0.  1.]\n",
      "\n",
      "base point\n",
      "[  0.  10.]\n",
      "frame\n",
      "[[ -0. -10.]\n",
      " [ 10.   0.]]\n",
      "unit normal\n",
      "[-0. -1.]\n",
      "\n",
      "[ 0.  0.]\n",
      "[-2.03245007  7.30157176]\n",
      "[ 3.75830186  1.59826744]\n",
      "[-5.57249802 -5.57288877]\n",
      "[-7.15904548  5.93205356]\n",
      "[-0.80487925 -0.59343861]\n",
      "2.28724309816\n",
      "[-0.80487925 -0.59343861]\n",
      "-20.0763597959\n",
      "[-0.80487925 -0.59343861]\n",
      "25.1619177324\n",
      "[-0.80487925 -0.59343861]\n",
      "-5.1697789305\n"
     ]
    }
   ],
   "source": [
    "import numpy as np\n",
    "rnd = np.random.RandomState(seed=42)\n",
    "\n",
    "dim = 2\n",
    "side_half_length = 10\n",
    "scatter_radius = 7\n",
    "particle_radius = 1\n",
    "speed = 1.0\n",
    "\n",
    "frame = side_half_length * np.eye(2)\n",
    "walls = []\n",
    "for d in range(dim):\n",
    "    for side in [-1,1]:\n",
    "        new_wall = {'frame': frame.copy()}\n",
    "\n",
    "        new_wall['base_point'] = -1*frame[0].copy()\n",
    "        \n",
    "        normal = frame[0].copy()        \n",
    "        length = np.sqrt(normal.dot(normal))\n",
    "        normal /= length        \n",
    "        new_wall['normal'] = normal\n",
    "        \n",
    "        walls.append(new_wall)\n",
    "        frame[0] *= -1\n",
    "    frame = np.roll(frame, -1, axis=0)\n",
    "\n",
    "for w in walls:\n",
    "    print('base point')\n",
    "    print(w['base_point'])\n",
    "    print('frame')\n",
    "    print(w['frame'])\n",
    "    print('unit normal')\n",
    "    print(w['normal'])\n",
    "    print()\n",
    "\n",
    "pos = np.array([0.,0.])\n",
    "while pos.dot(pos) < 1.1 * (scatter_radius + particle_radius)**2:\n",
    "    print(pos)\n",
    "    x_range = 0.9 * (side_half_length - particle_radius)\n",
    "    y_range = 0.9 * (side_half_length - particle_radius)\n",
    "    x = rnd.uniform(low=-1*x_range, high=x_range)    \n",
    "    y = rnd.uniform(low=-1*y_range, high=y_range)\n",
    "    pos = np.array([x,y])\n",
    "print(pos)\n",
    "\n",
    "theta = rnd.uniform(low=0, high=2*np.pi)\n",
    "vel = speed * np.array([np.cos(theta), np.sin(theta)])\n",
    "\n",
    "for w in walls:\n",
    "    dx = pos - w['base_point']    \n",
    "    dist_normal = dx.dot(w['normal'])\n",
    "    vel_normal = vel.dot(w['normal'])\n",
    "    t = (particle_radius - dist_normal) / vel_normal\n",
    "    print(vel)\n",
    "    print(t)"
   ]
  },
  {
   "cell_type": "code",
   "execution_count": 4,
   "metadata": {
    "collapsed": true
   },
   "outputs": [],
   "source": [
    "import numpy as np\n",
    "\n"
   ]
  },
  {
   "cell_type": "code",
   "execution_count": 44,
   "metadata": {},
   "outputs": [
    {
     "data": {
      "text/html": [
       "<div>\n",
       "<style>\n",
       "    .dataframe thead tr:only-child th {\n",
       "        text-align: right;\n",
       "    }\n",
       "\n",
       "    .dataframe thead th {\n",
       "        text-align: left;\n",
       "    }\n",
       "\n",
       "    .dataframe tbody tr th {\n",
       "        vertical-align: top;\n",
       "    }\n",
       "</style>\n",
       "<table border=\"1\" class=\"dataframe\">\n",
       "  <thead>\n",
       "    <tr style=\"text-align: right;\">\n",
       "      <th></th>\n",
       "      <th>0</th>\n",
       "      <th>1</th>\n",
       "    </tr>\n",
       "  </thead>\n",
       "  <tbody>\n",
       "    <tr>\n",
       "      <th>0</th>\n",
       "      <td>1.0</td>\n",
       "      <td>0.0</td>\n",
       "    </tr>\n",
       "    <tr>\n",
       "      <th>1</th>\n",
       "      <td>0.0</td>\n",
       "      <td>1.0</td>\n",
       "    </tr>\n",
       "  </tbody>\n",
       "</table>\n",
       "</div>"
      ],
      "text/plain": [
       "     0    1\n",
       "0  1.0  0.0\n",
       "1  0.0  1.0"
      ]
     },
     "metadata": {},
     "output_type": "display_data"
    }
   ],
   "source": [
    "# from pprint import pprint# as print\n",
    "from IPython.display import display, Image\n",
    "import pandas as pd\n",
    "import pprint\n",
    "display(pd.DataFrame(walls[0]['frame']) )"
   ]
  },
  {
   "cell_type": "code",
   "execution_count": null,
   "metadata": {
    "collapsed": true
   },
   "outputs": [],
   "source": [
    "pos = rnd.rand"
   ]
  },
  {
   "cell_type": "code",
   "execution_count": null,
   "metadata": {
    "collapsed": true
   },
   "outputs": [],
   "source": [
    "    pos = rnd.rand"
   ]
  }
 ],
 "metadata": {
  "kernelspec": {
   "display_name": "Python 3",
   "language": "python",
   "name": "python3"
  },
  "language_info": {
   "codemirror_mode": {
    "name": "ipython",
    "version": 3
   },
   "file_extension": ".py",
   "mimetype": "text/x-python",
   "name": "python",
   "nbconvert_exporter": "python",
   "pygments_lexer": "ipython3",
   "version": "3.6.3"
  }
 },
 "nbformat": 4,
 "nbformat_minor": 2
}
