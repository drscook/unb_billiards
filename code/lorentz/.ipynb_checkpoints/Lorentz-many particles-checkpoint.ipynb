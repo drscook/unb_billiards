{
 "cells": [
  {
   "cell_type": "code",
   "execution_count": 9,
   "metadata": {
    "scrolled": false
   },
   "outputs": [
    {
     "name": "stdout",
     "output_type": "stream",
     "text": [
      "Wall time: 79.2 ms\n",
      "Wall time: 59.2 ms\n",
      "Wall time: 68.2 ms\n"
     ]
    },
    {
     "data": {
      "application/vnd.jupyter.widget-view+json": {
       "model_id": "fa47c2d8293c483ba53430ff0e825bf5",
       "version_major": 2,
       "version_minor": 0
      },
      "text/plain": [
       "A Jupyter Widget"
      ]
     },
     "metadata": {},
     "output_type": "display_data"
    }
   ],
   "source": [
    "%matplotlib inline\n",
    "seed = 10\n",
    "dim = 2\n",
    "%run -i billiard_defs.py\n",
    "\n",
    "R_particle = 1\n",
    "R_scatter = 10\n",
    "R = R_particle + R_scatter\n",
    "gap_crit = (2/np.sqrt(3) - 1) * R\n",
    "gap = 0.7 * gap_crit\n",
    "\n",
    "x_0 = R + gap\n",
    "y_0 = np.sqrt(3) * x_0\n",
    "\n",
    "\n",
    "# scatter_collision_law = 'wp_specular_law'\n",
    "scatter_collision_law = 'wp_no_slip_law'\n",
    "wall = [FlatWall(dim=dim, base_point=[-x_0, 0], normal=[1, 0], tangents=[0, y_0], wp_collision_law='wp_wrap_law', wrap_dim=0, wrap_wall=1)\n",
    "        ,FlatWall(dim=dim, base_point=[x_0, 0], normal=[-1, 0], tangents=[0, -y_0], wp_collision_law='wp_wrap_law', wrap_dim=0, wrap_wall=0)\n",
    "        ,FlatWall(dim=dim, base_point=[0, -y_0], normal=[0, 1], tangents=[-x_0, 0], wp_collision_law='wp_wrap_law', wrap_dim=1, wrap_wall=3)\n",
    "        ,FlatWall(dim=dim, base_point=[0, y_0], normal=[0, -1], tangents=[x_0, 0], wp_collision_law='wp_wrap_law', wrap_dim=1, wrap_wall=2)\n",
    "        ,SphereWall(dim=dim, base_point=[0,0], radius=R_scatter, gap_pad=R_particle)\n",
    "        ,SphereWall(dim=dim, base_point=[-x_0, -y_0], radius=R_scatter, gap_pad=R_particle, wp_collision_law=scatter_collision_law)\n",
    "        ,SphereWall(dim=dim, base_point=[x_0, -y_0], radius=R_scatter, gap_pad=R_particle, wp_collision_law=scatter_collision_law)\n",
    "        ,SphereWall(dim=dim, base_point=[-x_0, y_0], radius=R_scatter, gap_pad=R_particle, wp_collision_law=scatter_collision_law)\n",
    "        ,SphereWall(dim=dim, base_point=[x_0, y_0], radius=R_scatter, gap_pad=R_particle, wp_collision_law=scatter_collision_law)\n",
    "       ]\n",
    "for (i, w) in enumerate(wall):\n",
    "    w.idx = i\n",
    "\n",
    "x=v=s = None\n",
    "\n",
    "part = Particles(max_steps=100, cell_size=[x_0, y_0], dim=dim, num=100, mass=1, radius=R_particle, pp_collision_law='ignore')\n",
    "part.set_pos_init(x)\n",
    "part.set_vel_init(v)\n",
    "part.set_spin_init(s)\n",
    "part.set_orient_init()\n",
    "\n",
    "%time run_trial(wall, part)\n",
    "\n",
    "%time smoother(part, min_frames=1, orient=False)\n",
    "# anim = animate(num_frames=70, duration=10)#fps=60)\n",
    "\n",
    "# display(HTML(anim.to_jshtml()))\n",
    "# anim.save('anim.mp4')\n",
    "\n",
    "# smoother(part, min_frames=None)\n",
    "# %time smoother(part, min_frames=1, orient=False)\n",
    "# interactive_plot()\n"
   ]
  },
  {
   "cell_type": "code",
   "execution_count": null,
   "metadata": {
    "scrolled": false
   },
   "outputs": [
    {
     "name": "stdout",
     "output_type": "stream",
     "text": [
      "Complex event - re-randomizing position of particles involved\n"
     ]
    }
   ],
   "source": [
    "%matplotlib inline\n",
    "seed = 10\n",
    "dim = 2\n",
    "%run -i billiard_defs.py\n",
    "\n",
    "R_particle = 1\n",
    "R_scatter = 10\n",
    "R = R_particle + R_scatter\n",
    "gap_crit = (2/np.sqrt(3) - 1) * R\n",
    "gap = 0.7 * gap_crit\n",
    "\n",
    "x_0 = R + gap\n",
    "y_0 = np.sqrt(3) * x_0\n",
    "\n",
    "Experiment = {'scatter_collision_law':['wp_specular_law', 'wp_no_slip_law']}\n",
    "\n",
    "for scatter_collision_law in Experiment['scatter_collision_law']:\n",
    "    wall = [FlatWall(dim=dim, base_point=[-x_0, 0], normal=[1, 0], tangents=[0, y_0], wp_collision_law='wp_wrap_law', wrap_dim=0, wrap_wall=1)\n",
    "            ,FlatWall(dim=dim, base_point=[x_0, 0], normal=[-1, 0], tangents=[0, -y_0], wp_collision_law='wp_wrap_law', wrap_dim=0, wrap_wall=0)\n",
    "            ,FlatWall(dim=dim, base_point=[0, -y_0], normal=[0, 1], tangents=[-x_0, 0], wp_collision_law='wp_wrap_law', wrap_dim=1, wrap_wall=3)\n",
    "            ,FlatWall(dim=dim, base_point=[0, y_0], normal=[0, -1], tangents=[x_0, 0], wp_collision_law='wp_wrap_law', wrap_dim=1, wrap_wall=2)\n",
    "            ,SphereWall(dim=dim, base_point=[0,0], radius=R_scatter, gap_pad=R_particle)\n",
    "            ,SphereWall(dim=dim, base_point=[-x_0, -y_0], radius=R_scatter, gap_pad=R_particle, wp_collision_law=scatter_collision_law)\n",
    "            ,SphereWall(dim=dim, base_point=[x_0, -y_0], radius=R_scatter, gap_pad=R_particle, wp_collision_law=scatter_collision_law)\n",
    "            ,SphereWall(dim=dim, base_point=[-x_0, y_0], radius=R_scatter, gap_pad=R_particle, wp_collision_law=scatter_collision_law)\n",
    "            ,SphereWall(dim=dim, base_point=[x_0, y_0], radius=R_scatter, gap_pad=R_particle, wp_collision_law=scatter_collision_law)\n",
    "           ]\n",
    "    for (i, w) in enumerate(wall):\n",
    "        w.idx = i\n",
    "\n",
    "    x=v=s = None\n",
    "\n",
    "    part = Particles(max_steps=10000, cell_size=[x_0, y_0], dim=dim, num=500, mass=1, radius=R_particle, pp_collision_law='ignore')\n",
    "    part.set_pos_init(x)\n",
    "    part.set_vel_init(v)\n",
    "    part.set_spin_init(s)\n",
    "    part.set_orient_init()\n",
    "\n",
    "    %time run_trial(wall, part)\n",
    "\n",
    "    %time smoother(part, min_frames=None, orient=False)\n",
    "    # anim = animate(num_frames=70, duration=10)#fps=60)\n",
    "\n",
    "    # display(HTML(anim.to_jshtml()))\n",
    "    # anim.save('anim.mp4')\n",
    "\n",
    "    # smoother(part, min_frames=None)\n",
    "    #%time smoother(part, min_frames=1, orient=False)\n",
    "    #interactive_plot()\n",
    "    \n",
    "    square_displacement = np.sum((part.re_pos - part.re_pos[[0]])**2, axis=-1)\n",
    "    mean_square_displacement = square_displacement.mean(axis=-1)\n",
    "    plt.plot(part.re_t, mean_square_displacement/part.re_t)\n",
    "#     D = di\n",
    "    #plt.show()\n",
    "    #Experiments['']\n",
    "plt.show()"
   ]
  },
  {
   "cell_type": "code",
   "execution_count": 10,
   "metadata": {},
   "outputs": [
    {
     "data": {
      "image/png": "[encoded data removed]",
      "text/plain": [
       "<matplotlib.figure.Figure at 0x1f68ebe30f0>"
      ]
     },
     "metadata": {},
     "output_type": "display_data"
    }
   ],
   "source": [
    "part.re_pos.shape\n",
    "dist = np.linalg.norm(part.re_pos, axis=-1)\n",
    "ave_dist = dist.mean(axis=-1)\n",
    "plt.plot(part.re_t, ave_dist)\n",
    "plt.show()"
   ]
  }
 ],
 "metadata": {
  "kernelspec": {
   "display_name": "Python 3",
   "language": "python",
   "name": "python3"
  },
  "language_info": {
   "codemirror_mode": {
    "name": "ipython",
    "version": 3
   },
   "file_extension": ".py",
   "mimetype": "text/x-python",
   "name": "python",
   "nbconvert_exporter": "python",
   "pygments_lexer": "ipython3",
   "version": "3.6.3"
  }
 },
 "nbformat": 4,
 "nbformat_minor": 2
}
