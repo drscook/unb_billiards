{
 "cells": [
  {
   "cell_type": "markdown",
   "metadata": {},
   "source": [
    "Goals: Test Birkhoff Ergodic Theorem"
   ]
  },
  {
   "cell_type": "code",
   "execution_count": 2,
   "metadata": {
    "scrolled": false
   },
   "outputs": [
    {
     "data": {
      "application/vnd.jupyter.widget-view+json": {
       "model_id": "92dd4ced967444cf8def9a729c9d06df",
       "version_major": 2,
       "version_minor": 0
      },
      "text/plain": [
       "A Jupyter Widget"
      ]
     },
     "metadata": {},
     "output_type": "display_data"
    }
   ],
   "source": [
    "side = 10\n",
    "particle_radius = 2\n",
    "scatter_radius_crit = (side - particle_radius)/2**(1/2) - particle_radius\n",
    "scatter_radius = scatter_radius_crit * 1.1\n",
    "\n",
    "num_walls = 5\n",
    "hole = 3\n",
    "max_steps = 10000000\n",
    "seed = 49\n",
    "\n",
    "%run -i pinball_billiard_defs.py\n",
    "\n",
    "# x = rnd.uniform(-hole_range,hole_range)\n",
    "# y = -y_range\n",
    "# speed = 1.0\n",
    "# theta = rnd.uniform(0,np.pi)\n",
    "# result = run_trial(x=x, y=y, speed=1.0, theta=theta, max_escapes = 1000)\n",
    "\n",
    "result = run_trial(max_escapes = 1000)\n",
    "\n",
    "payoff_rate = np.array([0,0,0,0,1])\n",
    "wall_ranges = np.array([2*x_range, 2*x_range, 2*y_range, 2*y_range, 2*np.pi*scatter_range])\n",
    "wall_proportion = wall_ranges / wall_ranges.sum() \n",
    "with np.errstate(all='ignore'):\n",
    "    games = result['escapes']+1\n",
    "    payoff = result['wall_col'].dot(payoff_rate)\n",
    "    result['ave_payoff'] = payoff / games\n",
    "    result['expected_payoff'] = (wall_ranges / (2*hole_range)).dot(payoff_rate)\n",
    "# result = run_trial(max_escapes = 100)\n",
    "\n",
    "draw_hist(result)"
   ]
  },
  {
   "cell_type": "code",
   "execution_count": 3,
   "metadata": {},
   "outputs": [
    {
     "data": {
      "image/png": "[encoded data removed]",
      "text/plain": [
       "<matplotlib.figure.Figure at 0x244ee9f6da0>"
      ]
     },
     "metadata": {},
     "output_type": "display_data"
    }
   ],
   "source": [
    "plt.plot(result['ave_payoff'])\n",
    "plt.plot(result['expected_payoff'] + 0*result['ave_payoff'])\n",
    "plt.show()"
   ]
  }
 ],
 "metadata": {
  "kernelspec": {
   "display_name": "Python 3",
   "language": "python",
   "name": "python3"
  },
  "language_info": {
   "codemirror_mode": {
    "name": "ipython",
    "version": 3
   },
   "file_extension": ".py",
   "mimetype": "text/x-python",
   "name": "python",
   "nbconvert_exporter": "python",
   "pygments_lexer": "ipython3",
   "version": "3.6.3"
  }
 },
 "nbformat": 4,
 "nbformat_minor": 2
}
