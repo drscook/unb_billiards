{
 "cells": [
  {
   "cell_type": "markdown",
   "metadata": {},
   "source": [
    "Goals: Lorentz gas diffusion"
   ]
  },
  {
   "cell_type": "code",
   "execution_count": 36,
   "metadata": {},
   "outputs": [
    {
     "ename": "AxisError",
     "evalue": "axis -2 is out of bounds for array of dimension 1",
     "output_type": "error",
     "traceback": [
      "\u001b[1;31m---------------------------------------------------------------------------\u001b[0m",
      "\u001b[1;31mAxisError\u001b[0m                                 Traceback (most recent call last)",
      "\u001b[1;32m<ipython-input-36-9d80d507bb69>\u001b[0m in \u001b[0;36m<module>\u001b[1;34m()\u001b[0m\n\u001b[0;32m      1\u001b[0m \u001b[0msh\u001b[0m \u001b[1;33m=\u001b[0m \u001b[1;33m(\u001b[0m\u001b[1;36m3\u001b[0m\u001b[1;33m,\u001b[0m\u001b[1;33m)\u001b[0m\u001b[1;33m\u001b[0m\u001b[0m\n\u001b[0;32m      2\u001b[0m \u001b[0mA\u001b[0m \u001b[1;33m=\u001b[0m \u001b[0mnp\u001b[0m\u001b[1;33m.\u001b[0m\u001b[0marange\u001b[0m\u001b[1;33m(\u001b[0m\u001b[0mnp\u001b[0m\u001b[1;33m.\u001b[0m\u001b[0mprod\u001b[0m\u001b[1;33m(\u001b[0m\u001b[0msh\u001b[0m\u001b[1;33m)\u001b[0m\u001b[1;33m)\u001b[0m\u001b[1;33m.\u001b[0m\u001b[0mreshape\u001b[0m\u001b[1;33m(\u001b[0m\u001b[1;33m*\u001b[0m\u001b[0msh\u001b[0m\u001b[1;33m)\u001b[0m\u001b[1;33m\u001b[0m\u001b[0m\n\u001b[1;32m----> 3\u001b[1;33m \u001b[0mB\u001b[0m \u001b[1;33m=\u001b[0m \u001b[0mnp\u001b[0m\u001b[1;33m.\u001b[0m\u001b[0mrollaxis\u001b[0m\u001b[1;33m(\u001b[0m\u001b[0mA\u001b[0m\u001b[1;33m,\u001b[0m\u001b[1;33m-\u001b[0m\u001b[1;36m2\u001b[0m\u001b[1;33m,\u001b[0m\u001b[1;36m0\u001b[0m\u001b[1;33m)\u001b[0m\u001b[1;33m\u001b[0m\u001b[0m\n\u001b[0m\u001b[0;32m      4\u001b[0m \u001b[0mB\u001b[0m\u001b[1;33m.\u001b[0m\u001b[0mshape\u001b[0m\u001b[1;33m\u001b[0m\u001b[0m\n",
      "\u001b[1;32mC:\\ProgramData\\Anaconda3\\lib\\site-packages\\numpy\\core\\numeric.py\u001b[0m in \u001b[0;36mrollaxis\u001b[1;34m(a, axis, start)\u001b[0m\n\u001b[0;32m   1470\u001b[0m     \"\"\"\n\u001b[0;32m   1471\u001b[0m     \u001b[0mn\u001b[0m \u001b[1;33m=\u001b[0m \u001b[0ma\u001b[0m\u001b[1;33m.\u001b[0m\u001b[0mndim\u001b[0m\u001b[1;33m\u001b[0m\u001b[0m\n\u001b[1;32m-> 1472\u001b[1;33m     \u001b[0maxis\u001b[0m \u001b[1;33m=\u001b[0m \u001b[0mnormalize_axis_index\u001b[0m\u001b[1;33m(\u001b[0m\u001b[0maxis\u001b[0m\u001b[1;33m,\u001b[0m \u001b[0mn\u001b[0m\u001b[1;33m)\u001b[0m\u001b[1;33m\u001b[0m\u001b[0m\n\u001b[0m\u001b[0;32m   1473\u001b[0m     \u001b[1;32mif\u001b[0m \u001b[0mstart\u001b[0m \u001b[1;33m<\u001b[0m \u001b[1;36m0\u001b[0m\u001b[1;33m:\u001b[0m\u001b[1;33m\u001b[0m\u001b[0m\n\u001b[0;32m   1474\u001b[0m         \u001b[0mstart\u001b[0m \u001b[1;33m+=\u001b[0m \u001b[0mn\u001b[0m\u001b[1;33m\u001b[0m\u001b[0m\n",
      "\u001b[1;31mAxisError\u001b[0m: axis -2 is out of bounds for array of dimension 1"
     ]
    }
   ],
   "source": [
    "sh = (3,)\n",
    "A = np.arange(np.prod(sh)).reshape(*sh)\n",
    "B = np.rollaxis(A,-2,0)\n",
    "B.shape"
   ]
  },
  {
   "cell_type": "code",
   "execution_count": 78,
   "metadata": {},
   "outputs": [
    {
     "name": "stdout",
     "output_type": "stream",
     "text": [
      "3.09 µs ± 101 ns per loop (mean ± std. dev. of 7 runs, 100000 loops each)\n",
      "4.59 µs ± 194 ns per loop (mean ± std. dev. of 7 runs, 100000 loops each)\n"
     ]
    }
   ],
   "source": [
    "A = mar([3,4,6])\n",
    "\n",
    "def f1(A,ax=-1):\n",
    "    return A.sum(axis=ax)#,keepdims=True)\n",
    "\n",
    "def f2(A,ax=-1):\n",
    "    B = np.rollaxis(A,ax,0)\n",
    "    return np.einsum('i...->...',B)\n",
    "\n",
    "np.allclose(f1(A),f2(A))\n",
    "%timeit f1(A)\n",
    "%timeit f2(A)"
   ]
  },
  {
   "cell_type": "code",
   "execution_count": 74,
   "metadata": {},
   "outputs": [
    {
     "data": {
      "text/plain": [
       "array([[[[   495,    510,    525,    540,    555,    570,    585,    600,\n",
       "             615],\n",
       "         [  1305,   1320,   1335,   1350,   1365,   1380,   1395,   1410,\n",
       "            1425],\n",
       "         [  2115,   2130,   2145,   2160,   2175,   2190,   2205,   2220,\n",
       "            2235],\n",
       "         [  2925,   2940,   2955,   2970,   2985,   3000,   3015,   3030,\n",
       "            3045],\n",
       "         [  3735,   3750,   3765,   3780,   3795,   3810,   3825,   3840,\n",
       "            3855],\n",
       "         [  4545,   4560,   4575,   4590,   4605,   4620,   4635,   4650,\n",
       "            4665],\n",
       "         [  5355,   5370,   5385,   5400,   5415,   5430,   5445,   5460,\n",
       "            5475]],\n",
       "\n",
       "        [[  1305,   1356,   1407,   1458,   1509,   1560,   1611,   1662,\n",
       "            1713],\n",
       "         [  4059,   4110,   4161,   4212,   4263,   4314,   4365,   4416,\n",
       "            4467],\n",
       "         [  6813,   6864,   6915,   6966,   7017,   7068,   7119,   7170,\n",
       "            7221],\n",
       "         [  9567,   9618,   9669,   9720,   9771,   9822,   9873,   9924,\n",
       "            9975],\n",
       "         [ 12321,  12372,  12423,  12474,  12525,  12576,  12627,  12678,\n",
       "           12729],\n",
       "         [ 15075,  15126,  15177,  15228,  15279,  15330,  15381,  15432,\n",
       "           15483],\n",
       "         [ 17829,  17880,  17931,  17982,  18033,  18084,  18135,  18186,\n",
       "           18237]],\n",
       "\n",
       "        [[  2115,   2202,   2289,   2376,   2463,   2550,   2637,   2724,\n",
       "            2811],\n",
       "         [  6813,   6900,   6987,   7074,   7161,   7248,   7335,   7422,\n",
       "            7509],\n",
       "         [ 11511,  11598,  11685,  11772,  11859,  11946,  12033,  12120,\n",
       "           12207],\n",
       "         [ 16209,  16296,  16383,  16470,  16557,  16644,  16731,  16818,\n",
       "           16905],\n",
       "         [ 20907,  20994,  21081,  21168,  21255,  21342,  21429,  21516,\n",
       "           21603],\n",
       "         [ 25605,  25692,  25779,  25866,  25953,  26040,  26127,  26214,\n",
       "           26301],\n",
       "         [ 30303,  30390,  30477,  30564,  30651,  30738,  30825,  30912,\n",
       "           30999]],\n",
       "\n",
       "        [[  2925,   3048,   3171,   3294,   3417,   3540,   3663,   3786,\n",
       "            3909],\n",
       "         [  9567,   9690,   9813,   9936,  10059,  10182,  10305,  10428,\n",
       "           10551],\n",
       "         [ 16209,  16332,  16455,  16578,  16701,  16824,  16947,  17070,\n",
       "           17193],\n",
       "         [ 22851,  22974,  23097,  23220,  23343,  23466,  23589,  23712,\n",
       "           23835],\n",
       "         [ 29493,  29616,  29739,  29862,  29985,  30108,  30231,  30354,\n",
       "           30477],\n",
       "         [ 36135,  36258,  36381,  36504,  36627,  36750,  36873,  36996,\n",
       "           37119],\n",
       "         [ 42777,  42900,  43023,  43146,  43269,  43392,  43515,  43638,\n",
       "           43761]]],\n",
       "\n",
       "\n",
       "       [[[  3735,   3894,   4053,   4212,   4371,   4530,   4689,   4848,\n",
       "            5007],\n",
       "         [ 12321,  12480,  12639,  12798,  12957,  13116,  13275,  13434,\n",
       "           13593],\n",
       "         [ 20907,  21066,  21225,  21384,  21543,  21702,  21861,  22020,\n",
       "           22179],\n",
       "         [ 29493,  29652,  29811,  29970,  30129,  30288,  30447,  30606,\n",
       "           30765],\n",
       "         [ 38079,  38238,  38397,  38556,  38715,  38874,  39033,  39192,\n",
       "           39351],\n",
       "         [ 46665,  46824,  46983,  47142,  47301,  47460,  47619,  47778,\n",
       "           47937],\n",
       "         [ 55251,  55410,  55569,  55728,  55887,  56046,  56205,  56364,\n",
       "           56523]],\n",
       "\n",
       "        [[  4545,   4740,   4935,   5130,   5325,   5520,   5715,   5910,\n",
       "            6105],\n",
       "         [ 15075,  15270,  15465,  15660,  15855,  16050,  16245,  16440,\n",
       "           16635],\n",
       "         [ 25605,  25800,  25995,  26190,  26385,  26580,  26775,  26970,\n",
       "           27165],\n",
       "         [ 36135,  36330,  36525,  36720,  36915,  37110,  37305,  37500,\n",
       "           37695],\n",
       "         [ 46665,  46860,  47055,  47250,  47445,  47640,  47835,  48030,\n",
       "           48225],\n",
       "         [ 57195,  57390,  57585,  57780,  57975,  58170,  58365,  58560,\n",
       "           58755],\n",
       "         [ 67725,  67920,  68115,  68310,  68505,  68700,  68895,  69090,\n",
       "           69285]],\n",
       "\n",
       "        [[  5355,   5586,   5817,   6048,   6279,   6510,   6741,   6972,\n",
       "            7203],\n",
       "         [ 17829,  18060,  18291,  18522,  18753,  18984,  19215,  19446,\n",
       "           19677],\n",
       "         [ 30303,  30534,  30765,  30996,  31227,  31458,  31689,  31920,\n",
       "           32151],\n",
       "         [ 42777,  43008,  43239,  43470,  43701,  43932,  44163,  44394,\n",
       "           44625],\n",
       "         [ 55251,  55482,  55713,  55944,  56175,  56406,  56637,  56868,\n",
       "           57099],\n",
       "         [ 67725,  67956,  68187,  68418,  68649,  68880,  69111,  69342,\n",
       "           69573],\n",
       "         [ 80199,  80430,  80661,  80892,  81123,  81354,  81585,  81816,\n",
       "           82047]],\n",
       "\n",
       "        [[  6165,   6432,   6699,   6966,   7233,   7500,   7767,   8034,\n",
       "            8301],\n",
       "         [ 20583,  20850,  21117,  21384,  21651,  21918,  22185,  22452,\n",
       "           22719],\n",
       "         [ 35001,  35268,  35535,  35802,  36069,  36336,  36603,  36870,\n",
       "           37137],\n",
       "         [ 49419,  49686,  49953,  50220,  50487,  50754,  51021,  51288,\n",
       "           51555],\n",
       "         [ 63837,  64104,  64371,  64638,  64905,  65172,  65439,  65706,\n",
       "           65973],\n",
       "         [ 78255,  78522,  78789,  79056,  79323,  79590,  79857,  80124,\n",
       "           80391],\n",
       "         [ 92673,  92940,  93207,  93474,  93741,  94008,  94275,  94542,\n",
       "           94809]]],\n",
       "\n",
       "\n",
       "       [[[  6975,   7278,   7581,   7884,   8187,   8490,   8793,   9096,\n",
       "            9399],\n",
       "         [ 23337,  23640,  23943,  24246,  24549,  24852,  25155,  25458,\n",
       "           25761],\n",
       "         [ 39699,  40002,  40305,  40608,  40911,  41214,  41517,  41820,\n",
       "           42123],\n",
       "         [ 56061,  56364,  56667,  56970,  57273,  57576,  57879,  58182,\n",
       "           58485],\n",
       "         [ 72423,  72726,  73029,  73332,  73635,  73938,  74241,  74544,\n",
       "           74847],\n",
       "         [ 88785,  89088,  89391,  89694,  89997,  90300,  90603,  90906,\n",
       "           91209],\n",
       "         [105147, 105450, 105753, 106056, 106359, 106662, 106965, 107268,\n",
       "          107571]],\n",
       "\n",
       "        [[  7785,   8124,   8463,   8802,   9141,   9480,   9819,  10158,\n",
       "           10497],\n",
       "         [ 26091,  26430,  26769,  27108,  27447,  27786,  28125,  28464,\n",
       "           28803],\n",
       "         [ 44397,  44736,  45075,  45414,  45753,  46092,  46431,  46770,\n",
       "           47109],\n",
       "         [ 62703,  63042,  63381,  63720,  64059,  64398,  64737,  65076,\n",
       "           65415],\n",
       "         [ 81009,  81348,  81687,  82026,  82365,  82704,  83043,  83382,\n",
       "           83721],\n",
       "         [ 99315,  99654,  99993, 100332, 100671, 101010, 101349, 101688,\n",
       "          102027],\n",
       "         [117621, 117960, 118299, 118638, 118977, 119316, 119655, 119994,\n",
       "          120333]],\n",
       "\n",
       "        [[  8595,   8970,   9345,   9720,  10095,  10470,  10845,  11220,\n",
       "           11595],\n",
       "         [ 28845,  29220,  29595,  29970,  30345,  30720,  31095,  31470,\n",
       "           31845],\n",
       "         [ 49095,  49470,  49845,  50220,  50595,  50970,  51345,  51720,\n",
       "           52095],\n",
       "         [ 69345,  69720,  70095,  70470,  70845,  71220,  71595,  71970,\n",
       "           72345],\n",
       "         [ 89595,  89970,  90345,  90720,  91095,  91470,  91845,  92220,\n",
       "           92595],\n",
       "         [109845, 110220, 110595, 110970, 111345, 111720, 112095, 112470,\n",
       "          112845],\n",
       "         [130095, 130470, 130845, 131220, 131595, 131970, 132345, 132720,\n",
       "          133095]],\n",
       "\n",
       "        [[  9405,   9816,  10227,  10638,  11049,  11460,  11871,  12282,\n",
       "           12693],\n",
       "         [ 31599,  32010,  32421,  32832,  33243,  33654,  34065,  34476,\n",
       "           34887],\n",
       "         [ 53793,  54204,  54615,  55026,  55437,  55848,  56259,  56670,\n",
       "           57081],\n",
       "         [ 75987,  76398,  76809,  77220,  77631,  78042,  78453,  78864,\n",
       "           79275],\n",
       "         [ 98181,  98592,  99003,  99414,  99825, 100236, 100647, 101058,\n",
       "          101469],\n",
       "         [120375, 120786, 121197, 121608, 122019, 122430, 122841, 123252,\n",
       "          123663],\n",
       "         [142569, 142980, 143391, 143802, 144213, 144624, 145035, 145446,\n",
       "          145857]]]])"
      ]
     },
     "execution_count": 74,
     "metadata": {},
     "output_type": "execute_result"
    }
   ],
   "source": [
    "import numpy as np\n",
    "\n",
    "def dot(A, B, axA=-1, axB=-2):\n",
    "    C = np.rollaxis(A, axA, 0)\n",
    "    if B.ndim > 1:\n",
    "        D = np.rollaxis(B, axB, 0)\n",
    "    else:\n",
    "        D = B.copy()\n",
    "    print(C.shape, D.shape)\n",
    "    return np.einsum('i...,i...->', C, D)\n",
    "\n",
    "def mar(sh):\n",
    "    sh = np.asarray(sh)\n",
    "    return np.arange(np.prod(sh)).reshape(*sh)\n",
    "\n",
    "A = mar([3,4,6])\n",
    "B = mar([7,6,9])\n",
    "# dot(A,B,-2,-1).shape\n",
    "A.dot(B)\n"
   ]
  },
  {
   "cell_type": "code",
   "execution_count": 21,
   "metadata": {},
   "outputs": [
    {
     "data": {
      "text/plain": [
       "array([[ 0.26726124,  0.53452248,  0.80178373],\n",
       "       [-0.53452248,  0.77454192, -0.33818712],\n",
       "       [-0.80178373, -0.33818712,  0.49271932]])"
      ]
     },
     "execution_count": 21,
     "metadata": {},
     "output_type": "execute_result"
    }
   ],
   "source": [
    "import numpy as np\n",
    "\n",
    "def make_onb(A):\n",
    "    \"\"\"\n",
    "    Converts the rows of A into an orthonormal basis, adding extra vectors if necessary.\n",
    "    \"\"\"\n",
    "    # np.linalg.qr implents QR-factorization via Gram-Schmidt.  It does almost all of the work for us.\n",
    "    # Option 'complete' will add extra vectors if necessary to complete the basis.\n",
    "    B = np.asarray(A).astype(float)\n",
    "    if B.ndim == 1:\n",
    "        B = B[np.newaxis,:]\n",
    "    Q, R = np.linalg.qr(B.T, 'complete')\n",
    "    \n",
    "    # We are almost done - the columns of Q are almost the ONB we seek.\n",
    "    # But we may need to multiply some columns by -1.  The lines below handle this. \n",
    "    S = R.diagonal()  # Negative entries correspond to the columns of Q that must be flipped\n",
    "    idx = np.isclose(S, 0)\n",
    "    S = np.sign(S)\n",
    "    S[idx] = 1  # To prevent multiplying by 0\n",
    "    W = np.ones(len(Q)-len(S))  # appending 1's if S is too short\n",
    "    S = np.append(S,W)\n",
    "    \n",
    "    U = (Q*S).T  # Flips columns of Q that need it and then transpose so ONB is written in rows\n",
    "    return U\n",
    "\n",
    "A = np.array([1,2,3])\n",
    "make_onb(A)\n",
    "\n",
    "# B = n+p.array([[4,5,6],[7,8,9]])\n",
    "# B = None\n",
    "# np.vstack([A,B])\n",
    "# np.append(A,B,axis=0)"
   ]
  },
  {
   "cell_type": "code",
   "execution_count": 45,
   "metadata": {},
   "outputs": [
    {
     "ename": "AttributeError",
     "evalue": "'numpy.ndarray' object has no attribute 'sign'",
     "output_type": "error",
     "traceback": [
      "\u001b[1;31m---------------------------------------------------------------------------\u001b[0m",
      "\u001b[1;31mAttributeError\u001b[0m                            Traceback (most recent call last)",
      "\u001b[1;32m<ipython-input-45-f476158d86d0>\u001b[0m in \u001b[0;36m<module>\u001b[1;34m()\u001b[0m\n\u001b[0;32m      5\u001b[0m \u001b[0mW\u001b[0m\u001b[1;33m[\u001b[0m\u001b[1;33m:\u001b[0m\u001b[0mn\u001b[0m\u001b[1;33m]\u001b[0m \u001b[1;33m=\u001b[0m \u001b[0mA\u001b[0m\u001b[1;33m\u001b[0m\u001b[0m\n\u001b[0;32m      6\u001b[0m \u001b[0ms\u001b[0m \u001b[1;33m=\u001b[0m \u001b[1;33m(\u001b[0m\u001b[0mQ2\u001b[0m\u001b[1;33m.\u001b[0m\u001b[0mdot\u001b[0m\u001b[1;33m(\u001b[0m\u001b[0mW\u001b[0m\u001b[1;33m)\u001b[0m\u001b[1;33m)\u001b[0m\u001b[1;33m\u001b[0m\u001b[0m\n\u001b[1;32m----> 7\u001b[1;33m \u001b[0ms\u001b[0m\u001b[1;33m.\u001b[0m\u001b[0mdiagonal\u001b[0m\u001b[1;33m(\u001b[0m\u001b[1;33m)\u001b[0m\u001b[1;33m.\u001b[0m\u001b[0msign\u001b[0m\u001b[1;33m(\u001b[0m\u001b[1;33m)\u001b[0m\u001b[1;33m\u001b[0m\u001b[0m\n\u001b[0m",
      "\u001b[1;31mAttributeError\u001b[0m: 'numpy.ndarray' object has no attribute 'sign'"
     ]
    }
   ],
   "source": [
    "n,p = A.shape\n",
    "Q2.shape\n",
    "# Q2[:,:] = A[:,:]\n",
    "W = Q2.copy()\n",
    "W[:n] = A\n",
    "s = (Q2.dot(W))\n",
    "np.signs.diagonal()"
   ]
  },
  {
   "cell_type": "code",
   "execution_count": 49,
   "metadata": {},
   "outputs": [
    {
     "data": {
      "text/plain": [
       "array([-1., -1.,  1.])"
      ]
     },
     "execution_count": 49,
     "metadata": {},
     "output_type": "execute_result"
    }
   ],
   "source": [
    "np.sign(R1.diagonal())"
   ]
  },
  {
   "cell_type": "code",
   "execution_count": 16,
   "metadata": {},
   "outputs": [
    {
     "ename": "AttributeError",
     "evalue": "'list' object has no attribute 'T'",
     "output_type": "error",
     "traceback": [
      "\u001b[1;31m---------------------------------------------------------------------------\u001b[0m",
      "\u001b[1;31mAttributeError\u001b[0m                            Traceback (most recent call last)",
      "\u001b[1;32m<ipython-input-16-f3d091a7cab7>\u001b[0m in \u001b[0;36m<module>\u001b[1;34m()\u001b[0m\n\u001b[0;32m     27\u001b[0m     \u001b[1;32mreturn\u001b[0m \u001b[0mU\u001b[0m\u001b[1;33m\u001b[0m\u001b[0m\n\u001b[0;32m     28\u001b[0m \u001b[1;33m\u001b[0m\u001b[0m\n\u001b[1;32m---> 29\u001b[1;33m \u001b[0mU\u001b[0m \u001b[1;33m=\u001b[0m \u001b[0mgram_schmidt\u001b[0m\u001b[1;33m(\u001b[0m\u001b[0mA\u001b[0m\u001b[1;33m)\u001b[0m\u001b[1;33m\u001b[0m\u001b[0m\n\u001b[0m\u001b[0;32m     30\u001b[0m \u001b[1;33m\u001b[0m\u001b[0m\n\u001b[0;32m     31\u001b[0m \u001b[1;33m\u001b[0m\u001b[0m\n",
      "\u001b[1;32m<ipython-input-16-f3d091a7cab7>\u001b[0m in \u001b[0;36mgram_schmidt\u001b[1;34m(A)\u001b[0m\n\u001b[0;32m     15\u001b[0m     \u001b[1;31m# QR-factorization uses gram-schmidt.  np.linalg.qr will do almost all of the work for us.\u001b[0m\u001b[1;33m\u001b[0m\u001b[1;33m\u001b[0m\u001b[0m\n\u001b[0;32m     16\u001b[0m     \u001b[1;31m# Option 'complete' will add extra vectors if necessary to complete the basis.\u001b[0m\u001b[1;33m\u001b[0m\u001b[1;33m\u001b[0m\u001b[0m\n\u001b[1;32m---> 17\u001b[1;33m     \u001b[0mQ\u001b[0m\u001b[1;33m,\u001b[0m \u001b[0mR\u001b[0m \u001b[1;33m=\u001b[0m \u001b[0mnp\u001b[0m\u001b[1;33m.\u001b[0m\u001b[0mlinalg\u001b[0m\u001b[1;33m.\u001b[0m\u001b[0mqr\u001b[0m\u001b[1;33m(\u001b[0m\u001b[0mA\u001b[0m\u001b[1;33m.\u001b[0m\u001b[0mT\u001b[0m\u001b[1;33m,\u001b[0m \u001b[1;34m'complete'\u001b[0m\u001b[1;33m)\u001b[0m\u001b[1;33m\u001b[0m\u001b[0m\n\u001b[0m\u001b[0;32m     18\u001b[0m     \u001b[1;31m# We are almost done - the columns of Q are almost the ONB we seek.\u001b[0m\u001b[1;33m\u001b[0m\u001b[1;33m\u001b[0m\u001b[0m\n\u001b[0;32m     19\u001b[0m     \u001b[1;31m# But we may need to multiply some columns by -1.  The lines below handle this.\u001b[0m\u001b[1;33m\u001b[0m\u001b[1;33m\u001b[0m\u001b[0m\n",
      "\u001b[1;31mAttributeError\u001b[0m: 'list' object has no attribute 'T'"
     ]
    }
   ],
   "source": [
    "import numpy as np\n",
    "# A = np.random.rand(3,4)\n",
    "A = np.arange(3*4).reshape(3,4).astype(float)\n",
    "A[2] = 3*A[1]\n",
    "A = [1,2,3]\n",
    "\n",
    "\n",
    "def p(A):\n",
    "    idx = np.isclose(A,0)\n",
    "    B = A.copy()\n",
    "    B[idx] = 0\n",
    "    print(B)\n",
    "\n",
    "def gram_schmidt(A):\n",
    "    # QR-factorization uses gram-schmidt.  np.linalg.qr will do almost all of the work for us.\n",
    "    # Option 'complete' will add extra vectors if necessary to complete the basis.\n",
    "    Q, R = np.linalg.qr(A.T, 'complete')\n",
    "    # We are almost done - the columns of Q are almost the ONB we seek.\n",
    "    # But we may need to multiply some columns by -1.  The lines below handle this. \n",
    "    S = R.diagonal()  # Negative entries correspond to the columns of Q that must be flipped\n",
    "    idx = np.isclose(S, 0)\n",
    "    S = np.sign(S)\n",
    "    S[idx] = 1  # To prevent multiplying by 0\n",
    "    W = np.ones(len(Q)-len(S))  # appending 1's if S is too short\n",
    "    S = np.append(S,W)\n",
    "    U = (Q*S).T  # Flips columns of Q that need it and then transpose so ONB is written in rows\n",
    "    return U\n",
    "\n",
    "U = gram_schmidt(A)\n",
    "\n",
    "\n",
    "p(U)\n",
    "p(U.dot(A.T))\n",
    "p(U.dot(U.T))\n",
    "# print(U)\n",
    "# T = U.dot(A.T)\n",
    "# print(U.dot(U.T))\n",
    "# T[np.isclose(T,0)] = 0.0\n",
    "# print(T)"
   ]
  },
  {
   "cell_type": "code",
   "execution_count": 67,
   "metadata": {},
   "outputs": [
    {
     "name": "stdout",
     "output_type": "stream",
     "text": [
      "(3,) (4, 4)\n",
      "(1,)\n",
      "[-1. -1.  1.  1.]\n"
     ]
    },
    {
     "data": {
      "text/plain": [
       "array([[-0.        ,  0.26726124,  0.53452248,  0.80178373],\n",
       "       [ 0.83666003,  0.47809144,  0.11952286, -0.23904572],\n",
       "       [-0.24811085,  0.69477494, -0.64521733,  0.19855324],\n",
       "       [-0.48830422,  0.46614138,  0.53262988, -0.51046705]])"
      ]
     },
     "execution_count": 67,
     "metadata": {},
     "output_type": "execute_result"
    }
   ],
   "source": [
    "print(W.shape)\n",
    "print(W.shape)\n",
    "print(S)\n",
    "# S\n",
    "\n",
    "\n",
    "# S+\n",
    "# np.diag(np.diag(R2))\n",
    "U"
   ]
  },
  {
   "cell_type": "code",
   "execution_count": 46,
   "metadata": {},
   "outputs": [
    {
     "name": "stdout",
     "output_type": "stream",
     "text": [
      "[[  0.00000000e+00   2.67261242e-01   5.34522484e-01   8.01783726e-01]\n",
      " [  8.36660027e-01   4.78091444e-01   1.19522861e-01  -2.39045722e-01]\n",
      " [  5.32907052e-15   3.55271368e-15   3.55271368e-15   3.55271368e-15]]\n",
      "\n",
      "[[ 0.         -0.26726124 -0.53452248 -0.80178373]\n",
      " [-0.83666003 -0.47809144 -0.11952286  0.23904572]\n",
      " [-0.24811085  0.69477494 -0.64521733  0.19855324]]\n",
      "\n",
      "[[ 0.         -0.26726124 -0.53452248 -0.80178373]\n",
      " [-0.83666003 -0.47809144 -0.11952286  0.23904572]\n",
      " [-0.24811085  0.69477494 -0.64521733  0.19855324]\n",
      " [-0.48830422  0.46614138  0.53262988 -0.51046705]]\n",
      "[ -2.14785875e-14   5.11347416e-15  -5.50622790e-15   1.78930025e-14]\n"
     ]
    }
   ],
   "source": [
    "import numpy as np\n",
    "# A = np.random.rand(3,4)\n",
    "A = np.arange(3*4).reshape(3,4).astype(float)\n",
    "A[2] = 3*A[1]\n",
    "\n",
    "def mag(X, axis=0):\n",
    "    X = X.astype(float)\n",
    "    Y = (X**2).sum(axis, keepdims=True)\n",
    "    return np.sqrt(Y)\n",
    "\n",
    "def make_unit(X, axis=0):\n",
    "    X = X.astype(float)\n",
    "    M = mag(X, axis)\n",
    "#     print(M)\n",
    "    M[np.abs(M) < 1e-4] = 1.0\n",
    "#     M = np.expand_dims(M,axis)\n",
    "    return X / M\n",
    "\n",
    "def GS(A):\n",
    "    U = np.zeros_like(A)\n",
    "    U[0,:] = make_unit(A[0])\n",
    "#     print(U)\n",
    "    for i in range(1, A.shape[0]):\n",
    "        #v = .copy()\n",
    "    #     c = U.dot(v)\n",
    "    #     p = c.dot(U)\n",
    "        p = A[i].dot(U.T).dot(U)\n",
    "        w = A[i] - p\n",
    "        U[i,:] = make_unit(w)\n",
    "    return U\n",
    "U = GS(A)\n",
    "\n",
    "Q1, R1 = np.linalg.qr(A.T)#,'complete')\n",
    "Q1 = Q1.T\n",
    "Q2, R2 = np.linalg.qr(A.T,'complete')\n",
    "Q2 = Q2.T\n",
    "print(U)\n",
    "print()\n",
    "print(Q1)\n",
    "print()\n",
    "print(Q2)\n",
    "\n",
    "print(U[2]/Q1[2])"
   ]
  },
  {
   "cell_type": "code",
   "execution_count": 105,
   "metadata": {},
   "outputs": [
    {
     "name": "stdout",
     "output_type": "stream",
     "text": [
      "[[ 0.18245755  0.          0.        ]\n",
      " [ 0.          0.69957352  0.        ]\n",
      " [ 0.          0.          0.25113073]]\n"
     ]
    }
   ],
   "source": [
    "A = np.random.rand(3,4)\n",
    "print(np.diag(np.diag(A)))"
   ]
  },
  {
   "cell_type": "code",
   "execution_count": 112,
   "metadata": {},
   "outputs": [
    {
     "name": "stdout",
     "output_type": "stream",
     "text": [
      "[[ 0.04386394  0.03420098  0.21590713  0.8625714 ]\n",
      " [ 0.80851399  0.78172831  0.27090047  0.60730409]\n",
      " [ 2.42554196  2.34518494  0.81270142  1.82191226]]\n",
      "[ 0.89092035  1.30652185  3.91956555]\n",
      "[ 1.  1.  1.]\n",
      "[[-0.04923441 -0.03838837 -0.24234167 -0.96818016]\n",
      " [-0.71041766 -0.69300949 -0.08785305  0.08559456]\n",
      " [ 0.68003623 -0.71932337  0.13606994 -0.04011955]\n",
      " [ 0.17445182 -0.02894929 -0.95657584  0.23171356]]\n",
      "[ 0.04923441  0.03838837  0.24234167  0.96818016]\n",
      "[[ 0.04923441  0.03838837  0.24234167  0.96818016]\n",
      " [ 0.          0.          0.          0.        ]\n",
      " [ 0.          0.          0.          0.        ]]\n",
      "\n",
      "[[ 0.04386394  0.03420098  0.21590713  0.8625714 ]\n",
      " [ 0.80851399  0.78172831  0.27090047  0.60730409]\n",
      " [ 2.42554196  2.34518494  0.81270142  1.82191226]]\n",
      "[[-0.04923441 -0.03838837 -0.24234167 -0.96818016]\n",
      " [-0.71041766 -0.69300949 -0.08785305  0.08559456]\n",
      " [ 0.68003623 -0.71932337  0.13606994 -0.04011955]\n",
      " [ 0.17445182 -0.02894929 -0.95657584  0.23171356]]\n",
      "[[ 0.04923441  0.03838837  0.24234167  0.96818016]\n",
      " [ 0.71041766  0.69300949  0.08785305 -0.08559456]\n",
      " [ 0.70710678  0.70710678  0.          0.        ]]\n"
     ]
    },
    {
     "data": {
      "text/plain": [
       "array([[ 1.,  0.,  0.],\n",
       "       [ 0., -1.,  0.],\n",
       "       [ 0.,  0., -1.]])"
      ]
     },
     "execution_count": 112,
     "metadata": {},
     "output_type": "execute_result"
    }
   ],
   "source": [
    "import numpy as np\n",
    "\n",
    "def mag(X, axis=0):\n",
    "    Y = (X**2).sum(axis)\n",
    "    return np.sqrt(Y)\n",
    "\n",
    "def make_unit(X, axis=0):\n",
    "    M = mag(X, axis)\n",
    "    M = np.expand_dims(M,axis)\n",
    "    return X / M\n",
    "\n",
    "A = np.random.rand(3,4)\n",
    "A[2] = 3*A[1]\n",
    "# A = np.arange(4).reshape(1,4).astype(float)\n",
    "print(A)\n",
    "ax = 1\n",
    "print(mag(A,axis=ax))\n",
    "U = make_unit(A,axis=ax)\n",
    "print(mag(U,axis=ax))\n",
    "ONB = np.linalg.qr(A.T,'complete')[0].T\n",
    "print(ONB)\n",
    "U = np.zeros_like(A)\n",
    "print(make_unit(A[0]))\n",
    "U[0,:] = make_unit(A[0])\n",
    "print(U)\n",
    "\n",
    "for i in range(1, A.shape[0]):\n",
    "    #v = .copy()\n",
    "#     c = U.dot(v)\n",
    "#     p = c.dot(U)\n",
    "    p = A[i].dot(U.T).dot(U)\n",
    "    w = A[i] - p\n",
    "    U[i] = make_unit(w)\n",
    "print()\n",
    "print(A)\n",
    "print(ONB)\n",
    "\n",
    "print(U)\n",
    "# print(U.dot(U.T))\n",
    "# print(mag(ONB,axis=0))\n",
    "s = np.sign(np.diag(np.diag(A.dot(ONB))))\n",
    "# s = np.sign(A.dot(ONB))\n",
    "# s.dot(ONB)\n",
    "s"
   ]
  },
  {
   "cell_type": "code",
   "execution_count": 52,
   "metadata": {},
   "outputs": [
    {
     "name": "stdout",
     "output_type": "stream",
     "text": [
      "[[0 1 2 3]\n",
      " [0 3 6 9]]\n",
      "[  3.74165739  11.22497216]\n",
      "[ 1.  1.]\n",
      "[[  1.00000000e+00  -3.46944695e-16   0.00000000e+00  -1.38777878e-17]\n",
      " [ -3.46944695e-16   1.00000000e+00  -1.11022302e-16  -1.94289029e-16]\n",
      " [  0.00000000e+00  -1.11022302e-16   1.00000000e+00  -2.77555756e-17]\n",
      " [ -1.38777878e-17  -1.94289029e-16  -2.77555756e-17   1.00000000e+00]]\n",
      "[ 0.         -0.26726124 -0.53452248 -0.80178373]\n",
      "[ 0.          0.26726124  0.53452248  0.80178373]\n",
      "[ 0.  0.  0.  0.]\n",
      "[ nan  nan  nan  nan]\n",
      "[ 0.9786857   0.07363702  0.14727404 -0.12272837]\n"
     ]
    },
    {
     "name": "stderr",
     "output_type": "stream",
     "text": [
      "C:\\ProgramData\\Anaconda3\\lib\\site-packages\\ipykernel_launcher.py:31: RuntimeWarning: invalid value encountered in true_divide\n"
     ]
    }
   ],
   "source": [
    "# i = 2\n",
    "# j = 1\n",
    "print(ONB.dot(ONB.T))\n",
    "\n",
    "# print(ONB.shape)\n",
    "# i = 1\n",
    "# ONB[i]/A[i]\n",
    "print(ONB[0])\n",
    "print(U[0])\n",
    "v = A[1] - A[1].dot(U[0]) * U[0]\n",
    "print(v)\n",
    "w = v / np.sqrt(v.dot(v))\n",
    "print(w)\n",
    "print(ONB)"
   ]
  },
  {
   "cell_type": "code",
   "execution_count": 38,
   "metadata": {},
   "outputs": [
    {
     "data": {
      "text/plain": [
       "array([[ inf,  inf,  inf,  inf],\n",
       "       [ inf,  inf,  inf,  inf],\n",
       "       [ inf,  inf,  inf,  inf]])"
      ]
     },
     "execution_count": 38,
     "metadata": {},
     "output_type": "execute_result"
    }
   ],
   "source": [
    "np.full([3,4], np.inf)"
   ]
  },
  {
   "cell_type": "code",
   "execution_count": 35,
   "metadata": {},
   "outputs": [
    {
     "data": {
      "text/plain": [
       "array([3, 4, 4])"
      ]
     },
     "execution_count": 35,
     "metadata": {},
     "output_type": "execute_result"
    }
   ],
   "source": [
    "side = 10\n",
    "particle_radius = 2\n",
    "scatter_radius_crit = (side - particle_radius)/2**(1/2) - particle_radius\n",
    "scatter_radius = scatter_radius_crit * 1.1\n",
    "\n",
    "num_walls = 5\n",
    "hole = 0\n",
    "max_steps = 200\n",
    "seed = 49\n",
    "\n",
    "%run -i lorentz_billiard_defs.py\n",
    "\n",
    "part = Particles(num=3, radius=[3,4])\n",
    "\n",
    "part.radius"
   ]
  },
  {
   "cell_type": "code",
   "execution_count": 29,
   "metadata": {},
   "outputs": [
    {
     "name": "stdout",
     "output_type": "stream",
     "text": [
      "[] 0\n"
     ]
    },
    {
     "data": {
      "text/plain": [
       "False"
      ]
     },
     "execution_count": 29,
     "metadata": {},
     "output_type": "execute_result"
    }
   ],
   "source": [
    "import numpy as np\n",
    "def listify(X):\n",
    "    if (X is None) or (X is np.nan):\n",
    "        return []\n",
    "    elif isinstance(X,str):\n",
    "        return [X]\n",
    "    else:\n",
    "        try:\n",
    "            return list(X)\n",
    "        except:\n",
    "            return [X]\n",
    "\n",
    "x = None\n",
    "# print(list(x))\n",
    "l = listify(x)\n",
    "print(l, len(l))\n",
    "#p.isnan(x)\n",
    "x is np.nan\n",
    "x is str"
   ]
  },
  {
   "cell_type": "code",
   "execution_count": 27,
   "metadata": {},
   "outputs": [
    {
     "name": "stdout",
     "output_type": "stream",
     "text": [
      "[[0 1]\n",
      " [2 3]\n",
      " [4 5]]\n",
      "[[2 3]\n",
      " [0 1]\n",
      " [4 5]]\n"
     ]
    }
   ],
   "source": [
    "A = np.arange(6).reshape(3,2)\n",
    "print(A)\n",
    "A[[0,1]] = A[[1,0]]\n",
    "print(A)"
   ]
  },
  {
   "cell_type": "code",
   "execution_count": 3,
   "metadata": {
    "scrolled": false
   },
   "outputs": [
    {
     "data": {
      "application/vnd.jupyter.widget-view+json": {
       "model_id": "f25e0303ed6c4e6fbaeeafa22848dfd0",
       "version_major": 2,
       "version_minor": 0
      },
      "text/plain": [
       "A Jupyter Widget"
      ]
     },
     "metadata": {},
     "output_type": "display_data"
    }
   ],
   "source": [
    "side = 10\n",
    "particle_radius = 2\n",
    "scatter_radius_crit = (side - particle_radius)/2**(1/2) - particle_radius\n",
    "scatter_radius = scatter_radius_crit * 1.1\n",
    "\n",
    "num_walls = 5\n",
    "hole = 0\n",
    "max_steps = 200\n",
    "seed = 49\n",
    "\n",
    "%run -i lorentz_billiard_defs.py\n",
    "\n",
    "# x = rnd.uniform(-hole_range,hole_range)\n",
    "# y = -y_range\n",
    "# speed = 1.0\n",
    "# theta = rnd.uniform(0,np.pi)\n",
    "# result = run_trial(x=x, y=y, speed=1.0, theta=theta, max_escapes = 1000)\n",
    "\n",
    "result = run_trial()#max_escapes = 1000)\n",
    "\n",
    "# payoff_rate = np.array([[-1,1,0,0,0],[0,0,-1,1,0]]).T\n",
    "# wall_ranges = np.array([2*x_range, 2*x_range, 2*y_range, 2*y_range, 2*np.pi*scatter_range])\n",
    "# wall_proportion = wall_ranges / wall_ranges.sum() \n",
    "#with np.errstate(all='ignore'):\n",
    "    #games = result['escapes']+1\n",
    " #   result['total_payoff'] = result['wall_col'].dot(payoff_rate)\n",
    "    #result['ave_payoff'] = payoff / games\n",
    "    #result['expected_payoff'] = (wall_ranges / (2*hole_range)).dot(payoff_rate)\n",
    "# result = run_trial(max_escapes = 100)\n",
    "\n",
    "draw_hist(result)"
   ]
  },
  {
   "cell_type": "code",
   "execution_count": 13,
   "metadata": {},
   "outputs": [
    {
     "data": {
      "text/plain": [
       "array([[  0,   0],\n",
       "       [  0,   0],\n",
       "       [  1,   0],\n",
       "       ..., \n",
       "       [-57,   1],\n",
       "       [-57,   0],\n",
       "       [-56,   0]])"
      ]
     },
     "execution_count": 13,
     "metadata": {},
     "output_type": "execute_result"
    }
   ],
   "source": [
    "result['total_payoff']"
   ]
  },
  {
   "cell_type": "code",
   "execution_count": 3,
   "metadata": {},
   "outputs": [
    {
     "data": {
      "image/png": "[encoded data removed]",
      "text/plain": [
       "<matplotlib.figure.Figure at 0x244ee9f6da0>"
      ]
     },
     "metadata": {},
     "output_type": "display_data"
    }
   ],
   "source": [
    "plt.plot(result['ave_payoff'])\n",
    "plt.plot(result['expected_payoff'] + 0*result['ave_payoff'])\n",
    "plt.show()"
   ]
  }
 ],
 "metadata": {
  "kernelspec": {
   "display_name": "Python 3",
   "language": "python",
   "name": "python3"
  },
  "language_info": {
   "codemirror_mode": {
    "name": "ipython",
    "version": 3
   },
   "file_extension": ".py",
   "mimetype": "text/x-python",
   "name": "python",
   "nbconvert_exporter": "python",
   "pygments_lexer": "ipython3",
   "version": "3.6.3"
  }
 },
 "nbformat": 4,
 "nbformat_minor": 2
}
