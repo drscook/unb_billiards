{
 "cells": [
  {
   "cell_type": "markdown",
   "metadata": {},
   "source": [
    "Goal: Get simulation to work in most straightforward way."
   ]
  },
  {
   "cell_type": "code",
   "execution_count": 1,
   "metadata": {
    "collapsed": true
   },
   "outputs": [],
   "source": [
    "import numpy as np\n",
    "\n",
    "side = 10\n",
    "scatter_radius = 4\n",
    "particle_radius = 2\n",
    "num_walls = 5\n",
    "hole = 3\n",
    "max_steps = 1000\n",
    "\n",
    "abs_tol = 1e-5\n",
    "rel_tol = 0.01\n",
    "\n",
    "x_range = side - particle_radius\n",
    "y_range = side - particle_radius\n",
    "scatter_range = scatter_radius + particle_radius\n",
    "hole_range = hole - particle_radius\n",
    "\n",
    "normals = [np.array([1,0])\n",
    "           ,np.array([-1,0])\n",
    "           ,np.array([0,1])\n",
    "           ,np.array([0,-1])\n",
    "          ]\n",
    "\n",
    "x = 0.0\n",
    "y = -y_range\n",
    "speed = 1.0\n",
    "theta = np.pi/4\n",
    "pos = np.array([x,y])\n",
    "vel = speed * np.array([np.cos(theta), np.sin(theta)])\n",
    "\n",
    "t = 0.0\n",
    "escapes = 0\n",
    "t_hist = [t]\n",
    "pos_hist = [pos.copy()]\n",
    "vel_hist = [vel.copy()]\n",
    "\n",
    "dts = np.zeros(num_walls)\n",
    "prior_collision = num_walls\n",
    "for step in range(max_steps):\n",
    "    dts[:] = np.inf\n",
    "\n",
    "    if abs(vel[0]) > abs_tol:\n",
    "        dts[0] = (-x_range - pos[0]) / vel[0]\n",
    "        dts[1] = ( x_range - pos[0]) / vel[0]\n",
    "\n",
    "    if abs(vel[1]) > abs_tol:\n",
    "        dts[2] = (-y_range - pos[1]) / vel[1]\n",
    "        dts[3] = ( y_range - pos[1]) / vel[1]\n",
    "    if prior_collision in range(0,4):\n",
    "        dts[prior_collision] = np.inf\n",
    "\n",
    "    a = vel.dot(vel)\n",
    "    if a  > abs_tol:\n",
    "        b = 2 * pos.dot(vel)\n",
    "        c = pos.dot(pos) - scatter_range**2\n",
    "        \n",
    "        d = b**2 - 4*a*c\n",
    "        if d < abs_tol:\n",
    "            small, big = np.inf, np.inf\n",
    "        else:\n",
    "            e = np.sqrt(d)\n",
    "            small = (-b - e) / (2*a)\n",
    "            big   = (-b + e) / (2*a)\n",
    "            if b > 0:\n",
    "                small, big = big, small\n",
    "\n",
    "        if prior_collision == 4:\n",
    "            dts[4] = big\n",
    "        else:\n",
    "            dts[4] = small\n",
    "\n",
    "    dts[dts<abs_tol] = np.inf\n",
    "    col_wall = np.argmin(dts)\n",
    "    dt = dts[col_wall]\n",
    "    t = t + dt\n",
    "    pos = pos + vel*dt\n",
    "\n",
    "    if col_wall in range(0,4):\n",
    "        n = normals[col_wall]\n",
    "    elif col_wall == 4:\n",
    "        n = pos.copy()\n",
    "        l = np.sqrt(n.dot(n))\n",
    "        n = n / l\n",
    "\n",
    "    vel = vel - 2 * (vel.dot(n)) * n\n",
    "    prior_collision = col_wall\n",
    "    \n",
    "    if col_wall == 2:\n",
    "        if abs(pos[0]) < hole_range:\n",
    "            escapes += 1\n",
    "\n",
    "    t_hist.append(t)\n",
    "    pos_hist.append(pos.copy())\n",
    "    vel_hist.append(vel.copy())\n",
    "\n",
    "    if escapes >= 1:\n",
    "        break\n",
    "\n",
    "num_col = len(t_hist)-1\n",
    "# t_hist = np.array(t_hist)\n",
    "# pos_hist = np.array(pos_hist)\n",
    "# vel_hist = np.array(vel_hist)"
   ]
  },
  {
   "cell_type": "code",
   "execution_count": 2,
   "metadata": {
    "scrolled": false
   },
   "outputs": [
    {
     "data": {
      "application/vnd.jupyter.widget-view+json": {
       "model_id": "bc33af3a8058482caa008f7ec058e367",
       "version_major": 2,
       "version_minor": 0
      },
      "text/plain": [
       "A Jupyter Widget"
      ]
     },
     "metadata": {},
     "output_type": "display_data"
    }
   ],
   "source": [
    "import matplotlib.pyplot as plt\n",
    "import ipywidgets as widgets\n",
    "\n",
    "h = hole_range\n",
    "x = x_range\n",
    "y = y_range\n",
    "side_bdy = np.array([(h,-y), (x,-y), (x,y), (-x,y), (-x,-y), (-h,-y)])\n",
    "thetas = np.linspace(0, 2*np.pi, 100)\n",
    "scatter_bdy = scatter_range * np.array([np.cos(thetas), np.sin(thetas)]).T\n",
    "\n",
    "pos = np.array(pos_hist)\n",
    "t = t_hist\n",
    "dpos = np.diff(pos,axis=0)\n",
    "max_steps = dpos.shape[0]\n",
    "def draw(steps=1):\n",
    "    print('steps = {}, time = {:.2f}'.format(steps, t[steps]))\n",
    "    fig, ax = plt.subplots(figsize=[5,5])\n",
    "    ax.plot(side_bdy[:,0], side_bdy[:,1])\n",
    "    ax.fill(scatter_bdy[:,0], scatter_bdy[:,1])\n",
    "    ax.quiver(pos[:steps,0], pos[:steps,1], dpos[:steps,0], dpos[:steps,1], angles='xy', scale_units='xy', scale=1)\n",
    "    ax.set_aspect('equal')\n",
    "    plt.show()\n",
    "    \n",
    "widgets.interact(draw,steps=(1,max_steps));"
   ]
  },
  {
   "cell_type": "code",
   "execution_count": null,
   "metadata": {
    "collapsed": true
   },
   "outputs": [],
   "source": []
  }
 ],
 "metadata": {
  "kernelspec": {
   "display_name": "Python 3",
   "language": "python",
   "name": "python3"
  },
  "language_info": {
   "codemirror_mode": {
    "name": "ipython",
    "version": 3
   },
   "file_extension": ".py",
   "mimetype": "text/x-python",
   "name": "python",
   "nbconvert_exporter": "python",
   "pygments_lexer": "ipython3",
   "version": "3.6.3"
  }
 },
 "nbformat": 4,
 "nbformat_minor": 2
}
