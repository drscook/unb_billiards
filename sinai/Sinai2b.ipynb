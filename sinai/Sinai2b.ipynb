{
 "cells": [
  {
   "cell_type": "markdown",
   "metadata": {},
   "source": [
    "Goal: Rearrange code to make experimentation easier\n",
    "1. Organize code into functions\n",
    "2. Separate \"foundational\" code from \"experimentation\" code.  Makes running experiments easier.\n",
    "3. Add checks"
   ]
  },
  {
   "cell_type": "code",
   "execution_count": 13,
   "metadata": {
    "collapsed": true
   },
   "outputs": [],
   "source": [
    "# Set physical parameters\n",
    "\n",
    "side = 10\n",
    "particle_radius = 2\n",
    "scatter_radius_crit = (side - particle_radius)/2**(1/2) - particle_radius\n",
    "scatter_radius_max = side - 2*particle_radius\n",
    "scatter_radius = scatter_radius_crit * .01\n",
    "\n",
    "num_walls = 5\n",
    "hole = 3\n",
    "max_steps = 1000\n",
    "seed = 19\n",
    "\n"
   ]
  },
  {
   "cell_type": "code",
   "execution_count": 14,
   "metadata": {
    "collapsed": true
   },
   "outputs": [],
   "source": [
    "import numpy as np\n",
    "\n",
    "abs_tol = 1e-5\n",
    "rel_tol = 0.01\n",
    "\n",
    "x_range = side - particle_radius\n",
    "y_range = side - particle_radius\n",
    "scatter_range = scatter_radius + particle_radius\n",
    "hole_range = hole - particle_radius\n",
    "\n",
    "normals = [np.array([1,0])\n",
    "           ,np.array([-1,0])\n",
    "           ,np.array([0,1])\n",
    "           ,np.array([0,-1])\n",
    "          ]\n",
    "\n",
    "### Add checks and features\n",
    "params = np.array([side, scatter_radius, particle_radius, x_range-scatter_range, y_range-scatter_range])\n",
    "if np.any(params <= abs_tol):\n",
    "    print(params)\n",
    "    raise Exception('Parameters must all be positive')\n",
    "if hole <= particle_radius:\n",
    "    print('Hole is too small for particle to escape')\n",
    "boundary_length = 2*2*x_range + 2*2*y_range + 2*np.pi*scatter_range\n",
    "hole_length = 2*hole_range\n",
    "bdy_hole_ratio = boundary_length / hole_length\n",
    "rnd = np.random.RandomState(seed=seed)\n",
    "\n",
    "def check_position(pos):\n",
    "    ok = True\n",
    "    if abs(pos[0]) > (1+rel_tol) * x_range:\n",
    "        ok = False\n",
    "    if abs(pos[1]) > (1+rel_tol) * y_range:\n",
    "        ok = False\n",
    "    if pos.dot(pos) < (1-rel_tol) * scatter_range**2:\n",
    "        ok = False\n",
    "    return ok\n",
    "\n",
    "def error_message(step,pos,vel):\n",
    "    raise Exception('Particle escaped at step {} \\n pos = {} \\n vel = {}'.format(step, pos, vel))\n",
    "\n",
    "def solve_quadratic(a, b, c):\n",
    "    d = b**2 - 4*a*c\n",
    "    if d < abs_tol:\n",
    "        small, big = np.inf, np.inf\n",
    "    else:\n",
    "        e = np.sqrt(d)\n",
    "        small = (-b - e) / (2*a)\n",
    "        big   = (-b + e) / (2*a)\n",
    "        if b > 0:\n",
    "            small, big = big, small\n",
    "    return small, big\n",
    "\n",
    "### Main function\n",
    "def run_trial(x=None, y=None, speed=1.0, theta=None, max_escapes=1):\n",
    "    # Initialize position\n",
    "    # Detect whether x or y was passed in.  If not, we randomly pick.\n",
    "    # We randomly choose values for the unspecified cooridantes and the check if\n",
    "    # it give a legal position.  If not, try again.\n",
    "    rand_x = x is None\n",
    "    rand_y = y is None\n",
    "    \n",
    "    max_attempts = 50\n",
    "    for attempt in range(max_attempts):\n",
    "        if rand_x is True:\n",
    "            x = rnd.uniform(low=-(1-rel_tol)*x_range, high=(1-rel_tol)*x_range)\n",
    "        if rand_y is True:\n",
    "            y = rnd.uniform(low=-(1-rel_tol)*y_range, high=(1-rel_tol)*y_range)\n",
    "        pos = np.array([x,y])\n",
    "        if check_position(pos) is True:\n",
    "            break\n",
    "    if check_position(pos) is False:\n",
    "        raise Exeption('Could not initialize position')\n",
    "\n",
    "    if theta is None:\n",
    "        theta = rnd.uniform(low=0, high=2*np.pi)\n",
    "    vel = speed * np.array([np.cos(theta), np.sin(theta)])\n",
    "\n",
    "    t = 0.0\n",
    "    escapes = 0\n",
    "    t_hist = [t]\n",
    "    pos_hist = [pos.copy()]\n",
    "    vel_hist = [vel.copy()]\n",
    "    escape_hist = [escapes]\n",
    "    \n",
    "    dts = np.zeros(num_walls)\n",
    "    prior_collision = num_walls\n",
    "    for step in range(max_steps):\n",
    "        if check_position(pos) is False:\n",
    "            error_message(step,pos,vel)\n",
    "        dts[:] = np.inf\n",
    "\n",
    "        if abs(vel[0]) > abs_tol:\n",
    "            dts[0] = (-x_range - pos[0]) / vel[0]\n",
    "            dts[1] = ( x_range - pos[0]) / vel[0]\n",
    "\n",
    "        if abs(vel[1]) > abs_tol:\n",
    "            dts[2] = (-y_range - pos[1]) / vel[1]\n",
    "            dts[3] = ( y_range - pos[1]) / vel[1]\n",
    "        if prior_collision in range(0,4):\n",
    "            dts[prior_collision] = np.inf\n",
    "\n",
    "        a = vel.dot(vel)\n",
    "        if a  > abs_tol:\n",
    "            b = 2 * pos.dot(vel)\n",
    "            c = pos.dot(pos) - scatter_range**2\n",
    "            small, big = solve_quadratic(a, b, c)\n",
    "            if prior_collision == 4:\n",
    "                dts[4] = big\n",
    "            else:\n",
    "                dts[4] = small\n",
    "\n",
    "        dts[dts<abs_tol] = np.inf\n",
    "        if np.all(np.isinf(dts)):\n",
    "            error_message(step,pos,vel)\n",
    "        col_wall = np.argmin(dts)\n",
    "        dt = dts[col_wall]\n",
    "        t = t + dt\n",
    "        pos = pos + vel*dt\n",
    "\n",
    "        if col_wall in range(0,4):\n",
    "            n = normals[col_wall]\n",
    "        elif col_wall == 4:\n",
    "            n = pos.copy()\n",
    "            l = np.sqrt(n.dot(n))\n",
    "            n = n / l\n",
    "\n",
    "        vel = vel - 2 * (vel.dot(n)) * n\n",
    "        prior_collision = col_wall\n",
    "        \n",
    "        if col_wall == 2:\n",
    "            if abs(pos[0]) < hole_range:\n",
    "                escapes += 1\n",
    "\n",
    "        t_hist.append(t)\n",
    "        pos_hist.append(pos.copy())\n",
    "        vel_hist.append(vel.copy())\n",
    "        escape_hist.append(escapes)\n",
    "        \n",
    "        if escapes >= max_escapes:\n",
    "            break\n",
    "\n",
    "    num_col = len(t_hist)-1\n",
    "    results = [num_col, np.array(t_hist), np.array(pos_hist), np.array(vel_hist), np.array(escape_hist)]\n",
    "    return results\n",
    "\n",
    "import matplotlib.pyplot as plt\n",
    "import ipywidgets as widgets\n",
    "def draw_hist(pos, t=None):\n",
    "    dpos = np.diff(pos,axis=0)\n",
    "    max_steps = dpos.shape[0]\n",
    "    if t is None:\n",
    "        t = np.arange(max_steps)\n",
    "    \n",
    "    h = hole_range\n",
    "    x = x_range\n",
    "    y = y_range\n",
    "    side_bdy = np.array([(h,-y), (x,-y), (x,y), (-x,y), (-x,-y), (-h,-y)])\n",
    "    thetas = np.linspace(0, 2*np.pi, 100)\n",
    "    scatter_bdy = scatter_range * np.array([np.cos(thetas), np.sin(thetas)]).T\n",
    "\n",
    "    def draw(steps=1):\n",
    "        print('steps = {}, time = {:.2f}'.format(steps, t[steps]))\n",
    "        fig, ax = plt.subplots(figsize=[5,5])\n",
    "        ax.plot(side_bdy[:,0], side_bdy[:,1])\n",
    "        ax.fill(scatter_bdy[:,0], scatter_bdy[:,1])\n",
    "        ax.quiver(pos[:steps,0], pos[:steps,1], dpos[:steps,0], dpos[:steps,1], angles='xy', scale_units='xy', scale=1)\n",
    "        ax.set_aspect('equal')\n",
    "        plt.show()\n",
    "\n",
    "    widgets.interact(draw,steps=(1,max_steps));"
   ]
  },
  {
   "cell_type": "code",
   "execution_count": 15,
   "metadata": {},
   "outputs": [
    {
     "data": {
      "application/vnd.jupyter.widget-view+json": {
       "model_id": "48e7dbf7a87c406bb9a525a48757839d",
       "version_major": 2,
       "version_minor": 0
      },
      "text/plain": [
       "A Jupyter Widget"
      ]
     },
     "metadata": {},
     "output_type": "display_data"
    }
   ],
   "source": [
    "x = 0\n",
    "y = -y_range\n",
    "speed = 1.0\n",
    "theta = np.pi/4+.1\n",
    "\n",
    "result = run_trial(x, y, speed, theta)\n",
    "\n",
    "draw_hist(pos=result[2], t=result[1])"
   ]
  },
  {
   "cell_type": "code",
   "execution_count": 7,
   "metadata": {},
   "outputs": [
    {
     "data": {
      "application/vnd.jupyter.widget-view+json": {
       "model_id": "9cab6748ec6f4372a3fa4423c2b59dac",
       "version_major": 2,
       "version_minor": 0
      },
      "text/plain": [
       "A Jupyter Widget"
      ]
     },
     "metadata": {},
     "output_type": "display_data"
    }
   ],
   "source": [
    "widgets.BoundedFloatText(\n",
    "    value=7.5,\n",
    "    min=0,\n",
    "    max=10.0,\n",
    "    step=0.1,\n",
    "    description='Text:',\n",
    "    disabled=False\n",
    ")"
   ]
  },
  {
   "cell_type": "code",
   "execution_count": 16,
   "metadata": {},
   "outputs": [
    {
     "ename": "NameError",
     "evalue": "name 'text' is not defined",
     "output_type": "error",
     "traceback": [
      "\u001b[1;31m---------------------------------------------------------------------------\u001b[0m",
      "\u001b[1;31mNameError\u001b[0m                                 Traceback (most recent call last)",
      "\u001b[1;32m<ipython-input-16-e1cbb0c3879a>\u001b[0m in \u001b[0;36m<module>\u001b[1;34m()\u001b[0m\n\u001b[1;32m----> 1\u001b[1;33m \u001b[0mtext\u001b[0m\u001b[1;33m\u001b[0m\u001b[0m\n\u001b[0m",
      "\u001b[1;31mNameError\u001b[0m: name 'text' is not defined"
     ]
    }
   ],
   "source": [
    "text"
   ]
  },
  {
   "cell_type": "code",
   "execution_count": 11,
   "metadata": {},
   "outputs": [
    {
     "data": {
      "application/vnd.jupyter.widget-view+json": {
       "model_id": "db43d19ef6fe457eaf48bfc42836dc85",
       "version_major": 2,
       "version_minor": 0
      },
      "text/plain": [
       "A Jupyter Widget"
      ]
     },
     "metadata": {},
     "output_type": "display_data"
    }
   ],
   "source": [
    "slider = widgets.IntSlider(min=0,max=10)\n",
    "slider"
   ]
  }
 ],
 "metadata": {
  "kernelspec": {
   "display_name": "Python 3",
   "language": "python",
   "name": "python3"
  },
  "language_info": {
   "codemirror_mode": {
    "name": "ipython",
    "version": 3
   },
   "file_extension": ".py",
   "mimetype": "text/x-python",
   "name": "python",
   "nbconvert_exporter": "python",
   "pygments_lexer": "ipython3",
   "version": "3.6.3"
  }
 },
 "nbformat": 4,
 "nbformat_minor": 2
}
